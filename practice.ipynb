{
 "cells": [
  {
   "cell_type": "code",
   "execution_count": 9,
   "id": "8d9bbbd9-8338-419d-83b6-a1caaa6da636",
   "metadata": {},
   "outputs": [],
   "source": [
    "seoul_dust_rate = 150"
   ]
  },
  {
   "cell_type": "code",
   "execution_count": 10,
   "id": "af6a93cc-653b-4a0c-a162-2086acfad2e9",
   "metadata": {},
   "outputs": [],
   "source": [
    "a = seoul_dust_rate"
   ]
  },
  {
   "cell_type": "code",
   "execution_count": 3,
   "id": "962a625e-412a-4220-a87d-abc4fbf4c798",
   "metadata": {},
   "outputs": [
    {
     "data": {
      "text/plain": [
       "150"
      ]
     },
     "execution_count": 3,
     "metadata": {},
     "output_type": "execute_result"
    }
   ],
   "source": [
    "a"
   ]
  },
  {
   "cell_type": "code",
   "execution_count": 14,
   "id": "2f2d7ef7-700a-4999-97d2-e266aa6a7f4e",
   "metadata": {},
   "outputs": [
    {
     "name": "stdout",
     "output_type": "stream",
     "text": [
      "오늘 서울의 미세먼지 농도는150입니다\n"
     ]
    }
   ],
   "source": [
    "print(f'오늘 서울의 미세먼지 농도는{a}입니다')"
   ]
  },
  {
   "cell_type": "code",
   "execution_count": 15,
   "id": "f29a3129-4a9c-4c88-9b92-cd37903ee7d2",
   "metadata": {},
   "outputs": [
    {
     "name": "stdout",
     "output_type": "stream",
     "text": [
      "오늘의 서울의 미세먼지 농도는150입니다\n"
     ]
    }
   ],
   "source": [
    "print('오늘의 서울의 미세먼지 농도는{}입니다'.format(a))"
   ]
  },
  {
   "cell_type": "code",
   "execution_count": 17,
   "id": "2fc1525a-2e48-4fba-8a0c-7cb2f63092e6",
   "metadata": {},
   "outputs": [
    {
     "name": "stdout",
     "output_type": "stream",
     "text": [
      "today's weather in seoul is cloudy and snowy\n"
     ]
    }
   ],
   "source": [
    "print('today\\'s weather in seoul is cloudy and snowy')"
   ]
  },
  {
   "cell_type": "code",
   "execution_count": 18,
   "id": "a1d943d7-1da5-428e-9fdf-2995d0e8d19f",
   "metadata": {},
   "outputs": [
    {
     "name": "stdout",
     "output_type": "stream",
     "text": [
      "hi guy's\n",
      " i'm mmmmooooo\n"
     ]
    }
   ],
   "source": [
    "print('hi guy\\'s\\n i\\'m mmmmooooo')"
   ]
  },
  {
   "cell_type": "code",
   "execution_count": 19,
   "id": "8a4a9356-3e88-4e68-b0db-48324cdbf954",
   "metadata": {},
   "outputs": [
    {
     "name": "stdout",
     "output_type": "stream",
     "text": [
      "true or dare\n"
     ]
    }
   ],
   "source": [
    "print('true or dare')"
   ]
  },
  {
   "cell_type": "code",
   "execution_count": 20,
   "id": "95d38ebf-66cd-4598-9111-eb3a788f0954",
   "metadata": {},
   "outputs": [
    {
     "name": "stdout",
     "output_type": "stream",
     "text": [
      "first\n"
     ]
    }
   ],
   "source": [
    "print('first')"
   ]
  },
  {
   "cell_type": "code",
   "execution_count": 23,
   "id": "432d6553-c236-43ec-a9ae-9761af617acc",
   "metadata": {},
   "outputs": [],
   "source": [
    "a = 0\n",
    "b = 1"
   ]
  },
  {
   "cell_type": "code",
   "execution_count": 24,
   "id": "541887dc-1e40-480c-8b84-b41624a1ead2",
   "metadata": {},
   "outputs": [
    {
     "name": "stdout",
     "output_type": "stream",
     "text": [
      "False\n"
     ]
    }
   ],
   "source": [
    "print(a > b)"
   ]
  },
  {
   "cell_type": "code",
   "execution_count": 26,
   "id": "720a1424-a9d9-4ad5-8906-e3356a237f34",
   "metadata": {},
   "outputs": [],
   "source": [
    "a = '1'\n",
    "b = '0'"
   ]
  },
  {
   "cell_type": "code",
   "execution_count": 27,
   "id": "5248e55c-dac9-467e-9d06-164f1d4b969e",
   "metadata": {},
   "outputs": [
    {
     "name": "stdout",
     "output_type": "stream",
     "text": [
      "True\n"
     ]
    }
   ],
   "source": [
    "print(a >= b)"
   ]
  },
  {
   "cell_type": "code",
   "execution_count": 40,
   "id": "e7a64339-6a59-4629-9e44-730ef0d77214",
   "metadata": {},
   "outputs": [],
   "source": [
    "a = 'b'\n",
    "b = 'a'"
   ]
  },
  {
   "cell_type": "code",
   "execution_count": 41,
   "id": "3bdda5cc-bcee-4f4e-b231-9f6ca790fa6f",
   "metadata": {},
   "outputs": [
    {
     "ename": "TypeError",
     "evalue": "unsupported operand type(s) for //: 'str' and 'str'",
     "output_type": "error",
     "traceback": [
      "\u001b[0;31m---------------------------------------------------------------------------\u001b[0m",
      "\u001b[0;31mTypeError\u001b[0m                                 Traceback (most recent call last)",
      "Cell \u001b[0;32mIn[41], line 1\u001b[0m\n\u001b[0;32m----> 1\u001b[0m \u001b[38;5;28mprint\u001b[39m(\u001b[43ma\u001b[49m\u001b[43m \u001b[49m\u001b[38;5;241;43m/\u001b[39;49m\u001b[38;5;241;43m/\u001b[39;49m\u001b[43m \u001b[49m\u001b[43mb\u001b[49m)\n",
      "\u001b[0;31mTypeError\u001b[0m: unsupported operand type(s) for //: 'str' and 'str'"
     ]
    }
   ],
   "source": [
    "print(a // b)"
   ]
  },
  {
   "cell_type": "code",
   "execution_count": 42,
   "id": "0e4a93c9-9040-4456-bd00-d3b866f2b6c2",
   "metadata": {},
   "outputs": [
    {
     "name": "stdout",
     "output_type": "stream",
     "text": [
      "False\n"
     ]
    }
   ],
   "source": [
    "print(a <= b)"
   ]
  },
  {
   "cell_type": "code",
   "execution_count": 43,
   "id": "7b5936ef-a329-450f-a65e-ef01897748a7",
   "metadata": {},
   "outputs": [
    {
     "name": "stdout",
     "output_type": "stream",
     "text": [
      "<class 'str'>\n",
      "<class 'str'>\n"
     ]
    }
   ],
   "source": [
    "print(type(a))\n",
    "print(type(b))"
   ]
  },
  {
   "cell_type": "code",
   "execution_count": 44,
   "id": "8fef9ce9-ca0b-4b61-865e-2d1e302255f5",
   "metadata": {},
   "outputs": [],
   "source": [
    "a = 170\n",
    "b = 'cm'"
   ]
  },
  {
   "cell_type": "code",
   "execution_count": 45,
   "id": "7348353c-bb6e-4df0-ba4d-1e0a3d54a37c",
   "metadata": {},
   "outputs": [
    {
     "name": "stdout",
     "output_type": "stream",
     "text": [
      "170cm\n"
     ]
    }
   ],
   "source": [
    "print(str(a)+b)"
   ]
  },
  {
   "cell_type": "code",
   "execution_count": 51,
   "id": "3aa6ba4b-860f-4f39-b97f-fea8c315e8cf",
   "metadata": {},
   "outputs": [
    {
     "name": "stdout",
     "output_type": "stream",
     "text": [
      "저의 키는170cm입니다.\n"
     ]
    }
   ],
   "source": [
    "a = 170\n",
    "b = 'cm'\n",
    "c = str(a)+b\n",
    "print(f'저의 키는{c}입니다.')"
   ]
  },
  {
   "cell_type": "code",
   "execution_count": 52,
   "id": "76de54cb-bc60-491e-9f93-c3458b2b080a",
   "metadata": {},
   "outputs": [
    {
     "name": "stdout",
     "output_type": "stream",
     "text": [
      "저의 키는 170cm입니다\n"
     ]
    }
   ],
   "source": [
    "print(f'저의 키는 {c}입니다')"
   ]
  },
  {
   "cell_type": "markdown",
   "id": "b9d67209-4726-4835-a656-249f23695310",
   "metadata": {},
   "source": [
    "# 2월 13일 목요일 pr\n",
    "\n",
    "-시퀸스\n",
    "-조건문 \n"
   ]
  },
  {
   "cell_type": "code",
   "execution_count": 31,
   "id": "98b49741-35e1-4068-84be-86c6fe0d2cac",
   "metadata": {},
   "outputs": [
    {
     "name": "stdin",
     "output_type": "stream",
     "text": [
      " 12\n"
     ]
    },
    {
     "name": "stdout",
     "output_type": "stream",
     "text": [
      "초등학생\n"
     ]
    }
   ],
   "source": [
    "age = int(input())\n",
    "\n",
    "if age <= 7: \n",
    "    print('유아')\n",
    "elif age <= 12:\n",
    "    print('초등학생')\n",
    "elif age <= 15:\n",
    "    print('중학생')\n",
    "elif age <= 18:\n",
    "    print('고등학생')\n",
    "else:\n",
    "    print('성인')\n",
    "\n"
   ]
  },
  {
   "cell_type": "code",
   "execution_count": 34,
   "id": "3a1af825-8891-4d13-90a6-92ce0cfb0fe9",
   "metadata": {},
   "outputs": [
    {
     "name": "stdin",
     "output_type": "stream",
     "text": [
      " 4\n"
     ]
    },
    {
     "name": "stdout",
     "output_type": "stream",
     "text": [
      "1\n",
      "2\n",
      "Fizz\n",
      "4\n"
     ]
    }
   ],
   "source": [
    " num = int(input())\n",
    "\n",
    "for z in range(1, num +1):\n",
    "    if z % 5 == 0 :\n",
    "        print('Buzz')\n",
    "    elif z % 3 == 0:\n",
    "        print('Fizz')\n",
    "    elif z % 15 == 0:\n",
    "        print('FizzBuzz')\n",
    "    else:\n",
    "        print(z)"
   ]
  },
  {
   "cell_type": "code",
   "execution_count": 43,
   "id": "f70b9b43-ab7c-4157-abaa-2bd0279325e2",
   "metadata": {},
   "outputs": [
    {
     "name": "stdin",
     "output_type": "stream",
     "text": [
      " exit\n",
      " exit\n"
     ]
    },
    {
     "name": "stdout",
     "output_type": "stream",
     "text": [
      "프로그램을 종료합니다\n"
     ]
    }
   ],
   "source": [
    "w = input()\n",
    "\n",
    "while True:\n",
    "    w = input()\n",
    "    if w == 'exit':\n",
    "        print('프로그램을 종료합니다')\n",
    "        break\n",
    "    "
   ]
  },
  {
   "cell_type": "code",
   "execution_count": 12,
   "id": "4b2f63a9-61b7-4f61-9be9-29fa97179161",
   "metadata": {},
   "outputs": [
    {
     "name": "stdin",
     "output_type": "stream",
     "text": [
      " 5\n"
     ]
    },
    {
     "name": "stdout",
     "output_type": "stream",
     "text": [
      "*****\n",
      "*****\n",
      "*****\n",
      "*****\n",
      "*****\n"
     ]
    }
   ],
   "source": [
    "num = int(input())\n",
    "\n",
    "for i in range(num):\n",
    "    for h in range(num):\n",
    "        print('*', end='')\n",
    "    print()\n"
   ]
  },
  {
   "cell_type": "code",
   "execution_count": null,
   "id": "914eb6a1-3c7e-4cbb-9f20-bc1f9d279bdd",
   "metadata": {},
   "outputs": [],
   "source": []
  }
 ],
 "metadata": {
  "kernelspec": {
   "display_name": "Python 3 (ipykernel)",
   "language": "python",
   "name": "python3"
  },
  "language_info": {
   "codemirror_mode": {
    "name": "ipython",
    "version": 3
   },
   "file_extension": ".py",
   "mimetype": "text/x-python",
   "name": "python",
   "nbconvert_exporter": "python",
   "pygments_lexer": "ipython3",
   "version": "3.13.2"
  }
 },
 "nbformat": 4,
 "nbformat_minor": 5
}
