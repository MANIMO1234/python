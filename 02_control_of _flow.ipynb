{
 "cells": [
  {
   "cell_type": "markdown",
   "id": "058083a3-0144-464f-81f7-40407a0fdf28",
   "metadata": {},
   "source": [
    "# 1. 제어문 "
   ]
  },
  {
   "cell_type": "markdown",
   "id": "9661941a-cf15-471e-8988-0e381c1c0cff",
   "metadata": {},
   "source": [
    "## 조건문\n",
    "\n",
    "1. if문은 반드시 참/ 거짓을 판단할 수 있는 `조건식` 과 함께 사용한다.\n",
    "   - `if<조건식>:`\n",
    "2. `<조건식>` 참인 경우 : ':' 이후의 문장을 실행\n",
    "3. `<조건식>` 거짓인 경우 ':' `else` 이후의 문장을 실행\n",
    "\n",
    "```\n",
    "if<조건식>\n",
    "    if의 조건식이 참인 경우 실행하는 코드\n",
    "\n",
    "    else:\n",
    "    if의 조건식이 거짓인 경우 실행하는 코드\n",
    "```\n",
    "\n"
   ]
  },
  {
   "cell_type": "code",
   "execution_count": 6,
   "id": "8fa8733c-5d61-4f4c-af16-829a2efbb18a",
   "metadata": {},
   "outputs": [
    {
     "name": "stdin",
     "output_type": "stream",
     "text": [
      " 12/5\n"
     ]
    },
    {
     "name": "stdout",
     "output_type": "stream",
     "text": [
      "12/5\n",
      "No\n"
     ]
    }
   ],
   "source": [
    "my_string = input()\n",
    "print(my_string)\n",
    "\n",
    "if my_string == '12/25':\n",
    "    print('merry christmas!')\n",
    "else:\n",
    "    print('No')"
   ]
  },
  {
   "cell_type": "code",
   "execution_count": 11,
   "id": "ff42e2b3-0b78-48e4-b177-81eb631bf8c5",
   "metadata": {},
   "outputs": [
    {
     "name": "stdin",
     "output_type": "stream",
     "text": [
      "숫자를 입력해주세요 10\n"
     ]
    },
    {
     "name": "stdout",
     "output_type": "stream",
     "text": [
      "even\n"
     ]
    }
   ],
   "source": [
    "num = input('숫자를 입력해주세요')\n",
    "\n",
    "if int(num) % 2 == 1:\n",
    "    print('odd')\n",
    "else:\n",
    "    print('even')"
   ]
  },
  {
   "cell_type": "markdown",
   "id": "6590a67e-7640-4bf9-8536-40d7f981b018",
   "metadata": {},
   "source": [
    "- input에 넣었을 경우에는 모든 경우 , text로 인식해서 형변환이 필요 함 "
   ]
  },
  {
   "cell_type": "code",
   "execution_count": 15,
   "id": "60534b60-7093-4947-b0c9-93a0af48d8f1",
   "metadata": {},
   "outputs": [
    {
     "name": "stdin",
     "output_type": "stream",
     "text": [
      " 123\n"
     ]
    },
    {
     "name": "stdout",
     "output_type": "stream",
     "text": [
      "odd\n"
     ]
    }
   ],
   "source": [
    "num = int(input())\n",
    "\n",
    "if num % 2 == 1:\n",
    "    print('odd')\n",
    "else:\n",
    "    print('even')"
   ]
  },
  {
   "cell_type": "code",
   "execution_count": 31,
   "id": "32f24c9a-3981-4620-aff8-fb0824c7c6c6",
   "metadata": {},
   "outputs": [
    {
     "name": "stdin",
     "output_type": "stream",
     "text": [
      " 2\n"
     ]
    },
    {
     "name": "stdout",
     "output_type": "stream",
     "text": [
      "even\n"
     ]
    }
   ],
   "source": [
    "num = int(input())\n",
    "\n",
    "if num % 2 == 0:\n",
    "    print('even')"
   ]
  },
  {
   "cell_type": "code",
   "execution_count": 22,
   "id": "54567b68-3092-4150-b78c-441638fcc443",
   "metadata": {},
   "outputs": [
    {
     "name": "stdin",
     "output_type": "stream",
     "text": [
      " 123\n"
     ]
    },
    {
     "name": "stdout",
     "output_type": "stream",
     "text": [
      "odd\n"
     ]
    }
   ],
   "source": [
    "num = int(input())\n",
    "\n",
    "if num % 2: \n",
    "    print('odd')\n",
    "else:\n",
    "    print('even')"
   ]
  },
  {
   "cell_type": "code",
   "execution_count": 28,
   "id": "f924b06a-506d-4ff2-815f-6fcbf6045304",
   "metadata": {},
   "outputs": [
    {
     "name": "stdin",
     "output_type": "stream",
     "text": [
      "5의 배수를 판단해드리겠습다 11\n"
     ]
    },
    {
     "name": "stdout",
     "output_type": "stream",
     "text": [
      "no\n"
     ]
    }
   ],
   "source": [
    "num = int(input('5의 배수를 판단해드리겠습다'))\n",
    "\n",
    "if num % 5 == 0:\n",
    "    print('yes')\n",
    "else:\n",
    "    print('no')"
   ]
  },
  {
   "cell_type": "code",
   "execution_count": 30,
   "id": "3081b447-4864-456f-a811-0e6f9f22d715",
   "metadata": {},
   "outputs": [
    {
     "name": "stdin",
     "output_type": "stream",
     "text": [
      " 123\n"
     ]
    },
    {
     "name": "stdout",
     "output_type": "stream",
     "text": [
      "no\n"
     ]
    }
   ],
   "source": [
    "num = int(input())\n",
    "\n",
    "if num % 5:\n",
    "    print('no')\n",
    "else:  \n",
    "    print('yes')"
   ]
  },
  {
   "cell_type": "markdown",
   "id": "59e3f0cb-fcbc-47d5-8f01-978189c73208",
   "metadata": {},
   "source": [
    "### elif\n",
    "\n",
    "- 위에서 부터 항상 코드가 순서대로 내려 온다\n",
    "```\n",
    "if<조건식>:\n",
    "    if문이참인경우\n",
    "\n",
    "elif<조건식>:\n",
    "    elif문이 참인 경우\n",
    "\n",
    "else:\n",
    "    거짓인경우\n",
    "    위의 모든 조건식이 거짓인 경우\n",
    "````"
   ]
  },
  {
   "cell_type": "code",
   "execution_count": 37,
   "id": "0971999c-6f7a-467f-a1fc-3ef2b3e92711",
   "metadata": {},
   "outputs": [
    {
     "name": "stdin",
     "output_type": "stream",
     "text": [
      " 97\n"
     ]
    },
    {
     "name": "stdout",
     "output_type": "stream",
     "text": [
      "A\n",
      "good!!!\n"
     ]
    }
   ],
   "source": [
    "score = int(input())\n",
    "\n",
    "if score >= 90: \n",
    "    print('A')\n",
    "    if score > 95:\n",
    "        print('good!!!')\n",
    "elif score >= 80:\n",
    "    print('B')\n",
    "elif score >= 70:\n",
    "    print('c')\n",
    "else:\n",
    "    print('F')"
   ]
  },
  {
   "cell_type": "markdown",
   "id": "51efb931-4047-423f-a194-5768f6813f60",
   "metadata": {},
   "source": [
    "### 조건 표현식\n",
    "\n",
    "-  `true value if <조건식> else false_value`\n",
    "-   사용하지 않지만 , 일단은 읽을 수는 있어야 함\n",
    "-   가운데 있는 조건 식이 중요함\n",
    "- "
   ]
  },
  {
   "cell_type": "code",
   "execution_count": 39,
   "id": "879789c1-5db2-4b03-8f38-74447b6d8717",
   "metadata": {},
   "outputs": [
    {
     "name": "stdout",
     "output_type": "stream",
     "text": [
      "100\n"
     ]
    }
   ],
   "source": [
    "a = 0\n",
    "if True:\n",
    "    a = 100\n",
    "else:\n",
    "    a = -100\n",
    "print(a)"
   ]
  },
  {
   "cell_type": "code",
   "execution_count": 47,
   "id": "96135e87-e6d3-414d-b8b5-4410606acc7c",
   "metadata": {},
   "outputs": [
    {
     "name": "stdout",
     "output_type": "stream",
     "text": [
      "-100\n"
     ]
    }
   ],
   "source": [
    "a = 100 if False else -100\n",
    "print(a)"
   ]
  },
  {
   "cell_type": "code",
   "execution_count": 44,
   "id": "8e50a571-7e29-437b-9978-752e54b04ea4",
   "metadata": {
    "scrolled": true
   },
   "outputs": [
    {
     "name": "stdin",
     "output_type": "stream",
     "text": [
      " -100\n"
     ]
    },
    {
     "name": "stdout",
     "output_type": "stream",
     "text": [
      "0\n"
     ]
    }
   ],
   "source": [
    "num = int(input())\n",
    "\n",
    "\n",
    "if num >= 0:\n",
    "    result = num\n",
    "else:\n",
    "    result = 0\n",
    "print(result)"
   ]
  },
  {
   "cell_type": "code",
   "execution_count": 51,
   "id": "6d8b31ed-c241-40bc-96b3-5feb27815834",
   "metadata": {},
   "outputs": [
    {
     "name": "stdin",
     "output_type": "stream",
     "text": [
      " 3\n"
     ]
    }
   ],
   "source": [
    "num = int(input())"
   ]
  },
  {
   "cell_type": "code",
   "execution_count": 52,
   "id": "f0107d6b-13a9-4914-abd6-2ba1a4395186",
   "metadata": {},
   "outputs": [
    {
     "name": "stdout",
     "output_type": "stream",
     "text": [
      "홀수\n"
     ]
    }
   ],
   "source": [
    "num = 9\n",
    "\n",
    "result = '홀수' if  num % 2 else '짝수'\n",
    "print(result)"
   ]
  },
  {
   "cell_type": "code",
   "execution_count": 50,
   "id": "976038e6-e774-4e38-8f16-c137efb8933c",
   "metadata": {},
   "outputs": [
    {
     "name": "stdout",
     "output_type": "stream",
     "text": [
      "짝수\n"
     ]
    }
   ],
   "source": [
    "num = 10\n",
    "\n",
    "if num % 2:\n",
    "    result = '홀수'\n",
    "else:\n",
    "    result = '짝수'\n",
    "print(result)"
   ]
  },
  {
   "cell_type": "markdown",
   "id": "99687266-83f5-4c32-b759-7851f248a74c",
   "metadata": {},
   "source": [
    "## 1.2 반복문 "
   ]
  },
  {
   "cell_type": "markdown",
   "id": "c7c1fc0a-00a8-47bb-b715-d0f4cacee784",
   "metadata": {},
   "source": [
    "- 무한히 반복 하는 것\n",
    "\n",
    "### while <조건식>:  >> 조건식이 참일 동안 \n",
    "\n",
    "         실행할 코드"
   ]
  },
  {
   "cell_type": "code",
   "execution_count": 53,
   "id": "14e38dfa-661c-4cbd-bcf6-07e40b27399d",
   "metadata": {},
   "outputs": [
    {
     "name": "stdout",
     "output_type": "stream",
     "text": [
      "0\n",
      "1\n",
      "2\n",
      "3\n",
      "4\n"
     ]
    }
   ],
   "source": [
    "a = 0\n",
    "\n",
    "while a < 5:\n",
    "    print(a)\n",
    "    a += 1\n",
    "    # a = a + 1"
   ]
  },
  {
   "cell_type": "markdown",
   "id": "b1658ac0-969a-4bb4-8eec-ef01b3bf965a",
   "metadata": {},
   "source": [
    "### for 문 \n",
    "\n",
    "- 정해진 범위 내의 반복  >> 범위의 갯수 만큼\n",
    "\n",
    "```\n",
    "for var_name in sequence:\n",
    "    code\n",
    "```\n",
    "\n",
    "-var_name은 변수의 이름이라고 생각하고 확실한 네이밍(의미를 부여)을 하도록 하자\n",
    "- 시퀸스는 다 들어 갈 수 있다 4 개 다\n",
    "- "
   ]
  },
  {
   "cell_type": "code",
   "execution_count": 54,
   "id": "f8beeb0f-15c7-4f31-a304-ef9c25501d58",
   "metadata": {},
   "outputs": [
    {
     "name": "stdout",
     "output_type": "stream",
     "text": [
      "1\n",
      "2\n",
      "3\n",
      "4\n",
      "5\n"
     ]
    }
   ],
   "source": [
    "numbers = [1, 2, 3, 4, 5]\n",
    "\n",
    "for number in numbers:\n",
    "    print(number)"
   ]
  },
  {
   "cell_type": "code",
   "execution_count": 55,
   "id": "959eae8c-6470-4189-b01e-bef92932e71c",
   "metadata": {},
   "outputs": [
    {
     "name": "stdout",
     "output_type": "stream",
     "text": [
      "a\n",
      "p\n",
      "p\n",
      "l\n",
      "e\n"
     ]
    }
   ],
   "source": [
    "word = 'apple'\n",
    "\n",
    "for char in word:\n",
    "    print(char)"
   ]
  },
  {
   "cell_type": "code",
   "execution_count": 56,
   "id": "d1abecb9-b19c-4732-8db5-762749c77213",
   "metadata": {},
   "outputs": [
    {
     "name": "stdout",
     "output_type": "stream",
     "text": [
      "0\n",
      "1\n",
      "2\n",
      "3\n",
      "4\n"
     ]
    }
   ],
   "source": [
    "for i in range(5):  #range 0부터 5까지이이,, 5번을 반복 한 것이라고 보면 됨\n",
    "    print(i)"
   ]
  },
  {
   "cell_type": "code",
   "execution_count": 59,
   "id": "79b44b06-fd88-4b17-b749-68a4c6385768",
   "metadata": {},
   "outputs": [
    {
     "name": "stdout",
     "output_type": "stream",
     "text": [
      "range(1, 51)\n",
      "5\n",
      "10\n",
      "15\n",
      "20\n",
      "25\n",
      "30\n",
      "35\n",
      "40\n",
      "45\n",
      "50\n"
     ]
    }
   ],
   "source": [
    "numbers = range(1,51)\n",
    "print(numbers)\n",
    "\n",
    "for number in numbers:\n",
    "    if number % 5 == 0:\n",
    "        print(number)\n",
    "    "
   ]
  },
  {
   "cell_type": "code",
   "execution_count": null,
   "id": "fef4a1e9-04bd-4f42-a883-9d3dfe4ed094",
   "metadata": {},
   "outputs": [],
   "source": []
  },
  {
   "cell_type": "code",
   "execution_count": 61,
   "id": "fa7a07ca-b805-4b7a-80f2-61d0b7858e72",
   "metadata": {},
   "outputs": [
    {
     "name": "stdout",
     "output_type": "stream",
     "text": [
      "(0, '서울')\n",
      "(1, '대전')\n",
      "(2, '부산')\n"
     ]
    }
   ],
   "source": [
    "locations = ['서울', '대전', '부산']\n",
    "\n",
    "for location in enumerate(locations):\n",
    "    print(location)"
   ]
  },
  {
   "cell_type": "code",
   "execution_count": 63,
   "id": "b479fa05-5b5c-4b27-b66d-9fd7093c6893",
   "metadata": {},
   "outputs": [
    {
     "name": "stdout",
     "output_type": "stream",
     "text": [
      "0\n",
      "서울\n",
      "1\n",
      "대전\n",
      "2\n",
      "부산\n"
     ]
    }
   ],
   "source": [
    "locations = ['서울', '대전', '부산']\n",
    "\n",
    "for (index, location) in enumerate(locations):\n",
    "    print(index)\n",
    "    print(location)"
   ]
  },
  {
   "cell_type": "markdown",
   "id": "86cbc528-0c73-4a50-b128-472cbeba121c",
   "metadata": {},
   "source": [
    "### dictionary 반복\n",
    "\n",
    "-기준점에 따라 반복을 한다 \n",
    "\n",
    "1. for key in dict:\n",
    "2. for key in dict.key():\n",
    "3. for value in dict value():\n",
    "4. for key,value in dic.items():"
   ]
  },
  {
   "cell_type": "code",
   "execution_count": 64,
   "id": "4c39b8c0-70cd-4d0b-b7c0-c763c15c570b",
   "metadata": {},
   "outputs": [],
   "source": [
    "info = {\n",
    "    'naem' : '길동',\n",
    "    'location' : 'seoul',\n",
    "    'phone' : '000-00000-000',\n",
    "    'age' : 20     \n",
    "\n",
    "}\n",
    "\n",
    "# key가 name이고 / value를 '길동'으로 봐주면 될 것 같음 "
   ]
  },
  {
   "cell_type": "code",
   "execution_count": 65,
   "id": "de81006c-f015-4144-baf6-aaa697d10de2",
   "metadata": {},
   "outputs": [
    {
     "name": "stdout",
     "output_type": "stream",
     "text": [
      "naem\n",
      "location\n",
      "phone\n",
      "age\n"
     ]
    }
   ],
   "source": [
    "for k in info:\n",
    "    print(k)\n",
    "\n",
    "    # 앞에 있는 key값만 알려준다."
   ]
  },
  {
   "cell_type": "code",
   "execution_count": 67,
   "id": "73a7da2c-805f-491b-b646-bacfc21a7f3c",
   "metadata": {},
   "outputs": [
    {
     "name": "stdout",
     "output_type": "stream",
     "text": [
      "naem\n",
      "길동\n",
      "location\n",
      "seoul\n",
      "phone\n",
      "000-00000-000\n",
      "age\n",
      "20\n"
     ]
    }
   ],
   "source": [
    "for k in info.keys():\n",
    "    print(k)\n",
    "    print(info[k])\n",
    "\n",
    "    # 일단 key를 줄게 그 다음에 정보를 아니까 value에 접근 할 수 있다 "
   ]
  },
  {
   "cell_type": "code",
   "execution_count": 68,
   "id": "0e53243a-2c0b-423a-ba4c-73dc28074d04",
   "metadata": {},
   "outputs": [
    {
     "name": "stdout",
     "output_type": "stream",
     "text": [
      "길동\n",
      "seoul\n",
      "000-00000-000\n",
      "20\n"
     ]
    }
   ],
   "source": [
    "for v in info.values():\n",
    "    print(v)"
   ]
  },
  {
   "cell_type": "code",
   "execution_count": 69,
   "id": "fba6b570-b0fd-429b-81c7-bf5d2d2180bb",
   "metadata": {},
   "outputs": [
    {
     "name": "stdout",
     "output_type": "stream",
     "text": [
      "naem 길동\n",
      "location seoul\n",
      "phone 000-00000-000\n",
      "age 20\n"
     ]
    }
   ],
   "source": [
    "for k, v in info.items():\n",
    "    print(k,v)"
   ]
  },
  {
   "cell_type": "code",
   "execution_count": 84,
   "id": "ff095265-dc79-4032-8046-c17fc7eaefa3",
   "metadata": {},
   "outputs": [],
   "source": [
    "blood_type = {\n",
    "\n",
    "    'a' : 15,\n",
    "    'b' : 8,\n",
    "    'o' : 5,\n",
    "    'ab' : 4,\n",
    "}"
   ]
  },
  {
   "cell_type": "code",
   "execution_count": 85,
   "id": "863dc582-6321-452d-90db-b261d5159487",
   "metadata": {},
   "outputs": [
    {
     "name": "stdout",
     "output_type": "stream",
     "text": [
      "혈액형 종류는 다음과 같습니다.\n",
      "a\n",
      "b\n",
      "o\n",
      "ab\n"
     ]
    }
   ],
   "source": [
    "# 혈액형은 ~ 가 있습니다.\n",
    "print('혈액형 종류는 다음과 같습니다.')\n",
    "\n",
    "for blood in blood_type:\n",
    "    print(blood)"
   ]
  },
  {
   "cell_type": "code",
   "execution_count": 102,
   "id": "b86a613a-9259-4f78-8ecb-fc9f893c2182",
   "metadata": {},
   "outputs": [
    {
     "name": "stdout",
     "output_type": "stream",
     "text": [
      "32\n"
     ]
    }
   ],
   "source": [
    "# 총학생은 몇명 입니다\n",
    "\n",
    "result = 0\n",
    "for num in blood_type.values():\n",
    "    result = result + num      \n",
    "print(result)"
   ]
  },
  {
   "cell_type": "code",
   "execution_count": 87,
   "id": "4252c7eb-119c-4512-8496-f5ddc78f5274",
   "metadata": {},
   "outputs": [
    {
     "name": "stdout",
     "output_type": "stream",
     "text": [
      "aguddms 15명입니다.\n",
      "bguddms 8명입니다.\n",
      "oguddms 5명입니다.\n",
      "abguddms 4명입니다.\n"
     ]
    }
   ],
   "source": [
    "for k, v in blood_type.items():\n",
    "    print(f'{k}guddms {v}명입니다.')"
   ]
  },
  {
   "cell_type": "markdown",
   "id": "22978f68-8f2b-4445-8861-c0e6607ae801",
   "metadata": {},
   "source": [
    "## break\n",
    "\n",
    "-반복문을 종류 시키는 키워드\n"
   ]
  },
  {
   "cell_type": "code",
   "execution_count": 88,
   "id": "b384c9e2-e409-4b94-b8a5-a83c2bf69c93",
   "metadata": {},
   "outputs": [
    {
     "name": "stdout",
     "output_type": "stream",
     "text": [
      "여기는 for문 0\n",
      "여기는 for문 1\n",
      "여기는 for문 2\n",
      "여기는 for문 3\n",
      "여기는 for문 4\n",
      "여기는 for문 5\n",
      "여기는 for문 6\n"
     ]
    }
   ],
   "source": [
    "for i in range(100):\n",
    "    print('여기는 for문',i)\n",
    "    if i > 5:  \n",
    "        break  #자신과 가장 가까운 for문을 종료 시키는 것이다\n",
    "\n",
    "       \n"
   ]
  },
  {
   "cell_type": "code",
   "execution_count": 104,
   "id": "ec336723-c904-427e-94e9-7590ee9d545b",
   "metadata": {},
   "outputs": [
    {
     "name": "stdin",
     "output_type": "stream",
     "text": [
      " 쌀\n",
      " 쌀\n"
     ]
    },
    {
     "name": "stdout",
     "output_type": "stream",
     "text": [
      "잡았다!!!!!\n"
     ]
    }
   ],
   "source": [
    "rice = input()\n",
    "\n",
    "while True: # 계속해\n",
    "    rice = input()\n",
    "    if rice == '쌀':\n",
    "\n",
    "        \n",
    "        print('잡았다!!!!!')\n",
    "        break"
   ]
  },
  {
   "cell_type": "markdown",
   "id": "a1588219-227a-4dc7-a797-0f6a4fc7eefe",
   "metadata": {},
   "source": [
    "### contiue\n",
    "contiue 이후의 코드를 실행하지 않고 다음 반복을 진행 \n"
   ]
  },
  {
   "cell_type": "code",
   "execution_count": 93,
   "id": "ff1f0164-84f8-4b20-8875-c1d7aa91b75b",
   "metadata": {},
   "outputs": [
    {
     "name": "stdout",
     "output_type": "stream",
     "text": [
      "0\n",
      "2\n",
      "4\n",
      "6\n",
      "8\n",
      "10\n",
      "12\n",
      "14\n",
      "16\n",
      "18\n"
     ]
    }
   ],
   "source": [
    "for i in range(20):\n",
    "    if i % 2 == 1:\n",
    "        continue     # 특정 상황에서 코드를 skip 하는 것이라고 볼 수 있음 \n",
    "    print(i)"
   ]
  },
  {
   "cell_type": "code",
   "execution_count": 98,
   "id": "72c4cf98-8235-486d-a698-86cd239305c9",
   "metadata": {},
   "outputs": [],
   "source": [
    "ages = [10, 20 ,30, 40, 34, 4, 3]\n",
    "for age in ages:\n",
    "    if age < 20:\n",
    "        continue\n",
    "        print(f'{age}살은 성인 입니다')"
   ]
  },
  {
   "cell_type": "markdown",
   "id": "65fd49e4-2c4d-42dd-9e91-be3a3eebfb0c",
   "metadata": {},
   "source": [
    "### else   (for문에서의)\n",
    "else문은 끝까지 반복된 경우 ( break)를 만나지 않은 경우에만 실행 됨 "
   ]
  },
  {
   "cell_type": "code",
   "execution_count": 101,
   "id": "c5709e8f-fff2-4d85-a203-25aeceaaf27e",
   "metadata": {},
   "outputs": [
    {
     "name": "stdout",
     "output_type": "stream",
     "text": [
      "0\n",
      "1\n",
      "2\n",
      "3\n",
      "4\n",
      "5\n",
      "6\n",
      "7\n",
      "8\n",
      "9\n",
      "done!!!\n"
     ]
    }
   ],
   "source": [
    "for i in range(10):\n",
    "    if i > 100:\n",
    "       break\n",
    "    print(i)\n",
    "else:\n",
    "    print('done!!!')"
   ]
  },
  {
   "cell_type": "code",
   "execution_count": null,
   "id": "8d0b7d47-d924-450f-b864-7bed3c6c99a2",
   "metadata": {},
   "outputs": [],
   "source": []
  }
 ],
 "metadata": {
  "kernelspec": {
   "display_name": "Python 3 (ipykernel)",
   "language": "python",
   "name": "python3"
  },
  "language_info": {
   "codemirror_mode": {
    "name": "ipython",
    "version": 3
   },
   "file_extension": ".py",
   "mimetype": "text/x-python",
   "name": "python",
   "nbconvert_exporter": "python",
   "pygments_lexer": "ipython3",
   "version": "3.13.2"
  }
 },
 "nbformat": 4,
 "nbformat_minor": 5
}
