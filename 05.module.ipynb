{
 "cells": [
  {
   "cell_type": "markdown",
   "id": "b7c30b8b-89f1-42a5-83ad-85ecbfc72ca0",
   "metadata": {},
   "source": [
    "## 모듈"
   ]
  },
  {
   "cell_type": "code",
   "execution_count": 2,
   "id": "db415826-c73e-42da-afd2-cc3991d95252",
   "metadata": {},
   "outputs": [],
   "source": [
    "import fact "
   ]
  },
  {
   "cell_type": "code",
   "execution_count": null,
   "id": "71a5180a-4a96-45e0-8db2-91cd0515ca01",
   "metadata": {},
   "outputs": [],
   "source": [
    "#print(fact)"
   ]
  },
  {
   "cell_type": "code",
   "execution_count": null,
   "id": "b3c32384-44a1-4170-9b14-392638732c1d",
   "metadata": {},
   "outputs": [],
   "source": [
    "#fact.factorial(5)"
   ]
  },
  {
   "cell_type": "code",
   "execution_count": 3,
   "id": "39596f7b-f12f-43e6-8305-6adaed86094c",
   "metadata": {},
   "outputs": [
    {
     "data": {
      "text/plain": [
       "3"
      ]
     },
     "execution_count": 3,
     "metadata": {},
     "output_type": "execute_result"
    }
   ],
   "source": [
    "fact.my_max(2,3)"
   ]
  },
  {
   "cell_type": "markdown",
   "id": "295f2149-9c08-44c5-b529-cc8aea698a6d",
   "metadata": {},
   "source": [
    "## 패키지\n",
    "\n",
    "```\n",
    "myPackage/\n",
    "    __init__.py\n",
    "    math/\n",
    "        __init__.py\n",
    "```\n",
    "\n",
    "- 패키지 안에 `__init__.py파일이 존재해야 패키지로 인식\n",
    "- "
   ]
  },
  {
   "cell_type": "code",
   "execution_count": 4,
   "id": "a20ee798-a15c-4f75-b8ed-de1f4d2839ba",
   "metadata": {},
   "outputs": [],
   "source": [
    "import myPackage"
   ]
  },
  {
   "cell_type": "code",
   "execution_count": 5,
   "id": "aec8b20b-1466-4973-bfc8-726dce2b3629",
   "metadata": {},
   "outputs": [
    {
     "name": "stdout",
     "output_type": "stream",
     "text": [
      "<module 'myPackage' from '/Users/manis/Desktop/DAMF2/python/myPackage/__init__.py'>\n"
     ]
    }
   ],
   "source": [
    "print(myPackage\n",
    "     )"
   ]
  },
  {
   "cell_type": "code",
   "execution_count": 19,
   "id": "a037e171-919a-416e-8f85-9c0ce9d73ce1",
   "metadata": {},
   "outputs": [
    {
     "data": {
      "text/plain": [
       "3"
      ]
     },
     "execution_count": 19,
     "metadata": {},
     "output_type": "execute_result"
    }
   ],
   "source": [
    "myPackage.math.fomula.my_max(2,3)"
   ]
  },
  {
   "cell_type": "code",
   "execution_count": 9,
   "id": "321b9cce-21c6-49bf-b974-351dfa79bd53",
   "metadata": {},
   "outputs": [],
   "source": [
    "from myPackage.math.fomula import my_max"
   ]
  },
  {
   "cell_type": "code",
   "execution_count": 10,
   "id": "d5ceda7a-572e-42d0-acc6-154bf1109c1b",
   "metadata": {},
   "outputs": [
    {
     "data": {
      "text/plain": [
       "3"
      ]
     },
     "execution_count": 10,
     "metadata": {},
     "output_type": "execute_result"
    }
   ],
   "source": [
    "my_max(2,3)"
   ]
  },
  {
   "cell_type": "code",
   "execution_count": 18,
   "id": "fcd9850d-76c9-4ec1-8243-2ae0be0e92bc",
   "metadata": {},
   "outputs": [
    {
     "data": {
      "text/plain": [
       "3"
      ]
     },
     "execution_count": 18,
     "metadata": {},
     "output_type": "execute_result"
    }
   ],
   "source": [
    "from myPackage.math import fomula \n",
    "fomula.my_max(2,3)"
   ]
  },
  {
   "cell_type": "code",
   "execution_count": 13,
   "id": "2ea17048-6602-4d89-b06b-ebdac120da24",
   "metadata": {},
   "outputs": [
    {
     "name": "stdout",
     "output_type": "stream",
     "text": [
      "3.14\n"
     ]
    }
   ],
   "source": [
    "from myPackage.math.fomula import *\n",
    "print(pi)"
   ]
  },
  {
   "cell_type": "code",
   "execution_count": 16,
   "id": "919d453b-4319-45af-9cf9-fb8054606f29",
   "metadata": {},
   "outputs": [
    {
     "name": "stdout",
     "output_type": "stream",
     "text": [
      "1234\n",
      "<module 'myPackage.math.fomula' from '/Users/manis/Desktop/DAMF2/python/myPackage/math/fomula.py'>\n"
     ]
    }
   ],
   "source": [
    "fomula = 1234\n",
    "\n",
    "from myPackage.math import fomula as f\n",
    "print(fomula)\n",
    "print(f)"
   ]
  },
  {
   "cell_type": "markdown",
   "id": "1e333734-6f9c-41a7-9b6b-2097b230e95e",
   "metadata": {},
   "source": [
    "## 파이썬 내장 패키지"
   ]
  },
  {
   "cell_type": "code",
   "execution_count": 20,
   "id": "cac9caee-3996-47e4-9f84-27f04343b542",
   "metadata": {},
   "outputs": [],
   "source": [
    "import math"
   ]
  },
  {
   "cell_type": "code",
   "execution_count": 21,
   "id": "cd638ee4-c434-4c32-9171-b8603957893c",
   "metadata": {},
   "outputs": [
    {
     "data": {
      "text/plain": [
       "3.141592653589793"
      ]
     },
     "execution_count": 21,
     "metadata": {},
     "output_type": "execute_result"
    }
   ],
   "source": [
    "math.pi"
   ]
  },
  {
   "cell_type": "code",
   "execution_count": 22,
   "id": "121e1c84-dcc3-4e1c-bdf5-47c2b0aed96a",
   "metadata": {},
   "outputs": [
    {
     "data": {
      "text/plain": [
       "2.718281828459045"
      ]
     },
     "execution_count": 22,
     "metadata": {},
     "output_type": "execute_result"
    }
   ],
   "source": [
    "math.e"
   ]
  },
  {
   "cell_type": "code",
   "execution_count": 23,
   "id": "950b769f-17f1-45b9-b86a-31a4d777ed50",
   "metadata": {},
   "outputs": [
    {
     "data": {
      "text/plain": [
       "3"
      ]
     },
     "execution_count": 23,
     "metadata": {},
     "output_type": "execute_result"
    }
   ],
   "source": [
    "math.ceil(math.e)   #올림 처리 한 것 "
   ]
  },
  {
   "cell_type": "code",
   "execution_count": 24,
   "id": "2d94c257-008f-4e2c-bfea-97d55c3f66da",
   "metadata": {},
   "outputs": [
    {
     "data": {
      "text/plain": [
       "2"
      ]
     },
     "execution_count": 24,
     "metadata": {},
     "output_type": "execute_result"
    }
   ],
   "source": [
    "math.floor(math.e)  #내림 처리 "
   ]
  },
  {
   "cell_type": "code",
   "execution_count": 25,
   "id": "9832f8a4-5ea7-489c-83c2-ad2fcd27e258",
   "metadata": {},
   "outputs": [
    {
     "data": {
      "text/plain": [
       "3.0"
      ]
     },
     "execution_count": 25,
     "metadata": {},
     "output_type": "execute_result"
    }
   ],
   "source": [
    "math.sqrt(9)"
   ]
  },
  {
   "cell_type": "code",
   "execution_count": 26,
   "id": "63453452-b0c6-4a86-bbec-2e1103ede304",
   "metadata": {},
   "outputs": [
    {
     "data": {
      "text/plain": [
       "3628800"
      ]
     },
     "execution_count": 26,
     "metadata": {},
     "output_type": "execute_result"
    }
   ],
   "source": [
    "math.factorial(10)"
   ]
  },
  {
   "cell_type": "code",
   "execution_count": 27,
   "id": "f69a7b9e-ae3e-4cc5-8fd6-42d8d90d04d6",
   "metadata": {},
   "outputs": [],
   "source": [
    "from math import sqrt, factorial  # 필요한 함수를 명확히 알 경우 "
   ]
  },
  {
   "cell_type": "code",
   "execution_count": 29,
   "id": "3deac6b0-ce2e-410d-9a78-c79614c89bdf",
   "metadata": {},
   "outputs": [
    {
     "data": {
      "text/plain": [
       "3.1622776601683795"
      ]
     },
     "execution_count": 29,
     "metadata": {},
     "output_type": "execute_result"
    }
   ],
   "source": [
    "sqrt(10)"
   ]
  },
  {
   "cell_type": "code",
   "execution_count": 30,
   "id": "232f81d0-3aa2-4219-83cc-0da1a90fa539",
   "metadata": {},
   "outputs": [
    {
     "data": {
      "text/plain": [
       "24"
      ]
     },
     "execution_count": 30,
     "metadata": {},
     "output_type": "execute_result"
    }
   ],
   "source": [
    "factorial(4)"
   ]
  },
  {
   "cell_type": "markdown",
   "id": "0c56dbfa-705b-4866-9cca-87e6741a328e",
   "metadata": {},
   "source": [
    "## random"
   ]
  },
  {
   "cell_type": "code",
   "execution_count": 31,
   "id": "2525b82d-1b70-4d7f-8f43-16975df8f76e",
   "metadata": {},
   "outputs": [],
   "source": [
    "import random"
   ]
  },
  {
   "cell_type": "code",
   "execution_count": 33,
   "id": "42ed9b8a-291f-401e-9a01-9cb59f32b18d",
   "metadata": {},
   "outputs": [
    {
     "data": {
      "text/plain": [
       "0.501208606517503"
      ]
     },
     "execution_count": 33,
     "metadata": {},
     "output_type": "execute_result"
    }
   ],
   "source": [
    "random.random() #랜덤폴더의 랜덤함수를 실행 , 0~1 사이의 소수를 랜덤하게 함"
   ]
  },
  {
   "cell_type": "code",
   "execution_count": 37,
   "id": "e72a126d-c386-4864-9ea1-46d2b688c6d1",
   "metadata": {},
   "outputs": [
    {
     "data": {
      "text/plain": [
       "6"
      ]
     },
     "execution_count": 37,
     "metadata": {},
     "output_type": "execute_result"
    }
   ],
   "source": [
    "random.randint(1, 10)"
   ]
  },
  {
   "cell_type": "code",
   "execution_count": 40,
   "id": "a8e16a51-2467-40f7-aefd-f2b3bf2a2e54",
   "metadata": {},
   "outputs": [
    {
     "data": {
      "text/plain": [
       "0.052363598850944326"
      ]
     },
     "execution_count": 40,
     "metadata": {},
     "output_type": "execute_result"
    }
   ],
   "source": [
    "random.seed(123)\n",
    "random.random()"
   ]
  },
  {
   "cell_type": "code",
   "execution_count": 42,
   "id": "5c9c8764-d105-4b81-92e9-c34374965565",
   "metadata": {},
   "outputs": [],
   "source": [
    "numbers = [1, 2, 3 ,4, 5]"
   ]
  },
  {
   "cell_type": "code",
   "execution_count": 49,
   "id": "41cafd52-cb64-4111-acef-742f365a7601",
   "metadata": {},
   "outputs": [
    {
     "name": "stdout",
     "output_type": "stream",
     "text": [
      "[4, 5, 2, 3, 1]\n"
     ]
    }
   ],
   "source": [
    "random.shuffle(numbers)\n",
    "print(numbers)    #(랜덤 )"
   ]
  },
  {
   "cell_type": "code",
   "execution_count": 50,
   "id": "b99bb311-343b-47c6-b1ee-b18f751b0e50",
   "metadata": {},
   "outputs": [
    {
     "data": {
      "text/plain": [
       "4"
      ]
     },
     "execution_count": 50,
     "metadata": {},
     "output_type": "execute_result"
    }
   ],
   "source": [
    "random.choice(numbers)  # 무작위로 뽑을 때 사용 (복원추출)\n",
    "# 하나를 뽑을 때만"
   ]
  },
  {
   "cell_type": "code",
   "execution_count": 54,
   "id": "952f3372-a382-4e96-afbe-d73abb9b6760",
   "metadata": {},
   "outputs": [
    {
     "data": {
      "text/plain": [
       "[5, 1]"
      ]
     },
     "execution_count": 54,
     "metadata": {},
     "output_type": "execute_result"
    }
   ],
   "source": [
    "random.sample(numbers, 2)"
   ]
  },
  {
   "cell_type": "markdown",
   "id": "f40d80af-b762-43be-9571-b2ad18694c7f",
   "metadata": {},
   "source": [
    "### datetime > 날짜와 시간을 다룸 \n"
   ]
  },
  {
   "cell_type": "code",
   "execution_count": 55,
   "id": "9301a61d-6b5c-4fef-bbd3-14d54af671a4",
   "metadata": {},
   "outputs": [],
   "source": [
    "from datetime import datetime"
   ]
  },
  {
   "cell_type": "code",
   "execution_count": 57,
   "id": "55f24060-191f-41c6-9963-4a70472b1581",
   "metadata": {},
   "outputs": [
    {
     "data": {
      "text/plain": [
       "datetime.datetime(2025, 2, 18, 14, 39, 25, 948135)"
      ]
     },
     "execution_count": 57,
     "metadata": {},
     "output_type": "execute_result"
    }
   ],
   "source": [
    "datetime.now()"
   ]
  },
  {
   "cell_type": "code",
   "execution_count": 58,
   "id": "6e536509-d825-401c-88ce-d161d64553d2",
   "metadata": {},
   "outputs": [
    {
     "data": {
      "text/plain": [
       "datetime.datetime(2025, 2, 18, 14, 40, 9, 165393)"
      ]
     },
     "execution_count": 58,
     "metadata": {},
     "output_type": "execute_result"
    }
   ],
   "source": [
    "datetime.today()"
   ]
  },
  {
   "cell_type": "code",
   "execution_count": 59,
   "id": "c124e15a-cbb4-4bac-9304-3ad354a00f1e",
   "metadata": {},
   "outputs": [
    {
     "name": "stderr",
     "output_type": "stream",
     "text": [
      "/var/folders/cw/vfz1c_rj2vg143pfdts65w400000gn/T/ipykernel_15492/3983769260.py:1: DeprecationWarning: datetime.datetime.utcnow() is deprecated and scheduled for removal in a future version. Use timezone-aware objects to represent datetimes in UTC: datetime.datetime.now(datetime.UTC).\n",
      "  datetime.utcnow()\n"
     ]
    },
    {
     "data": {
      "text/plain": [
       "datetime.datetime(2025, 2, 18, 5, 40, 24, 907550)"
      ]
     },
     "execution_count": 59,
     "metadata": {},
     "output_type": "execute_result"
    }
   ],
   "source": [
    "datetime.utcnow()"
   ]
  },
  {
   "cell_type": "code",
   "execution_count": 60,
   "id": "84b8691c-3ac0-4819-9eeb-26268a086aff",
   "metadata": {},
   "outputs": [
    {
     "ename": "AttributeError",
     "evalue": "type object 'datetime.datetime' has no attribute 'datetime'",
     "output_type": "error",
     "traceback": [
      "\u001b[0;31m---------------------------------------------------------------------------\u001b[0m",
      "\u001b[0;31mAttributeError\u001b[0m                            Traceback (most recent call last)",
      "Cell \u001b[0;32mIn[60], line 1\u001b[0m\n\u001b[0;32m----> 1\u001b[0m \u001b[43mdatetime\u001b[49m\u001b[38;5;241;43m.\u001b[39;49m\u001b[43mdatetime\u001b[49m\u001b[38;5;241m.\u001b[39mnow(datetime\u001b[38;5;241m.\u001b[39mUTC)\n",
      "\u001b[0;31mAttributeError\u001b[0m: type object 'datetime.datetime' has no attribute 'datetime'"
     ]
    }
   ],
   "source": [
    "datetime.datetime.now(datetime.UTC)"
   ]
  },
  {
   "cell_type": "code",
   "execution_count": 61,
   "id": "7c474179-eef7-49c3-8101-0d73fb8762f9",
   "metadata": {},
   "outputs": [],
   "source": [
    "now = datetime.now()"
   ]
  },
  {
   "cell_type": "code",
   "execution_count": 73,
   "id": "ed04878e-f2f8-4e46-b14a-da248a9716ce",
   "metadata": {},
   "outputs": [
    {
     "data": {
      "text/plain": [
       "2025"
      ]
     },
     "execution_count": 73,
     "metadata": {},
     "output_type": "execute_result"
    }
   ],
   "source": [
    "now.year"
   ]
  },
  {
   "cell_type": "code",
   "execution_count": 75,
   "id": "30c66a5b-556d-4032-ada7-9d21cbe89061",
   "metadata": {},
   "outputs": [
    {
     "data": {
      "text/plain": [
       "1"
      ]
     },
     "execution_count": 75,
     "metadata": {},
     "output_type": "execute_result"
    }
   ],
   "source": [
    "now.weekday()"
   ]
  },
  {
   "cell_type": "code",
   "execution_count": 77,
   "id": "c4eee3ee-a0a1-4edb-a7e5-737642292cd0",
   "metadata": {},
   "outputs": [
    {
     "data": {
      "text/plain": [
       "'25년  02월  18일'"
      ]
     },
     "execution_count": 77,
     "metadata": {},
     "output_type": "execute_result"
    }
   ],
   "source": [
    "now.strftime('%y년  %m월  %d일') #이런식으로 가능"
   ]
  },
  {
   "cell_type": "code",
   "execution_count": 78,
   "id": "ff0c3752-949d-498e-8de7-801decb650b9",
   "metadata": {},
   "outputs": [
    {
     "data": {
      "text/plain": [
       "'25/ Feb/  18/'"
      ]
     },
     "execution_count": 78,
     "metadata": {},
     "output_type": "execute_result"
    }
   ],
   "source": [
    "now.strftime('%y/ %b/  %d/')"
   ]
  },
  {
   "cell_type": "code",
   "execution_count": 79,
   "id": "2ce34c68-42ea-444e-9b11-f6a90e02ab95",
   "metadata": {},
   "outputs": [
    {
     "name": "stdout",
     "output_type": "stream",
     "text": [
      "2025-12-25 00:00:00\n"
     ]
    }
   ],
   "source": [
    "x_mas = datetime(2025,12,25)\n",
    "print(x_mas)"
   ]
  },
  {
   "cell_type": "code",
   "execution_count": 80,
   "id": "084465c8-1baf-4721-883f-0b94ff4c9052",
   "metadata": {},
   "outputs": [],
   "source": [
    "from datetime import timedelta"
   ]
  },
  {
   "cell_type": "code",
   "execution_count": 86,
   "id": "345049ce-17ca-41a4-b087-5415ddcd246f",
   "metadata": {},
   "outputs": [
    {
     "name": "stdout",
     "output_type": "stream",
     "text": [
      "2025-12-21 00:00:00\n"
     ]
    }
   ],
   "source": [
    "future = timedelta(days =- 4)\n",
    "print(x_mas + future)"
   ]
  },
  {
   "cell_type": "code",
   "execution_count": 87,
   "id": "d4f68a37-9b72-4e1c-93f2-05105166beff",
   "metadata": {},
   "outputs": [
    {
     "data": {
      "text/plain": [
       "datetime.timedelta(days=309, seconds=33342, microseconds=379402)"
      ]
     },
     "execution_count": 87,
     "metadata": {},
     "output_type": "execute_result"
    }
   ],
   "source": [
    "x_mas - now"
   ]
  },
  {
   "cell_type": "code",
   "execution_count": null,
   "id": "3f565a7a-5658-4bb6-a42e-04a1f5bf0a23",
   "metadata": {},
   "outputs": [],
   "source": []
  }
 ],
 "metadata": {
  "kernelspec": {
   "display_name": "Python 3 (ipykernel)",
   "language": "python",
   "name": "python3"
  },
  "language_info": {
   "codemirror_mode": {
    "name": "ipython",
    "version": 3
   },
   "file_extension": ".py",
   "mimetype": "text/x-python",
   "name": "python",
   "nbconvert_exporter": "python",
   "pygments_lexer": "ipython3",
   "version": "3.13.2"
  }
 },
 "nbformat": 4,
 "nbformat_minor": 5
}
