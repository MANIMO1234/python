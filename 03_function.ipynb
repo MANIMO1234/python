{
 "cells": [
  {
   "cell_type": "markdown",
   "id": "ce4eb420-ac19-4615-b52c-05e7ab5bd423",
   "metadata": {},
   "source": [
    "# 03. 함수 (function)"
   ]
  },
  {
   "cell_type": "code",
   "execution_count": 4,
   "id": "f3eb235c-1888-413c-b2b6-ba7eb2c70eaf",
   "metadata": {},
   "outputs": [
    {
     "name": "stdout",
     "output_type": "stream",
     "text": [
      "사각형의 면적은1000 이고 둘레140는 입니다.\n"
     ]
    }
   ],
   "source": [
    "# 사각형의 가로와 세로의 길이를 이용해서 면적과 둘레를 구하는 코드.\n",
    "\n",
    "height = 50\n",
    "width = 20\n",
    "\n",
    "\n",
    "area =height * width\n",
    "perimeter = (height + width) * 2\n",
    "\n",
    "print(f'사각형의 면적은{area} 이고 둘레{perimeter}는 입니다.')\n"
   ]
  },
  {
   "cell_type": "code",
   "execution_count": 5,
   "id": "dd64dc44-b3ec-47b5-92b3-1544d94eb0e3",
   "metadata": {},
   "outputs": [
    {
     "name": "stdout",
     "output_type": "stream",
     "text": [
      "사각형의 면적은2500 이고 둘레200는 입니다.\n"
     ]
    }
   ],
   "source": [
    "\n",
    "height = 50\n",
    "width = 50\n",
    "\n",
    "\n",
    "area =height * width\n",
    "perimeter = (height + width) * 2\n",
    "\n",
    "print(f'사각형의 면적은{area} 이고 둘레{perimeter}는 입니다.')"
   ]
  },
  {
   "cell_type": "markdown",
   "id": "c96fdb6f-0917-41f4-b933-6deacf7328d6",
   "metadata": {},
   "source": [
    "## 함수의 선언과 호출\n",
    "- 선언\n",
    "```python\n",
    "def func_name(parameter1,...parameter7....): \n",
    "    code1\n",
    "    code2\n",
    "    code3\n",
    "    .....\n",
    "    return value\n",
    "    \n",
    "```\n",
    "\n",
    "- 함수를 호출하는 방법\n",
    "\n",
    "  `func_name(parameter1,,,,,,)`  >>> ()가 열렸다는 것은 함수가 시작 된다는 것이다\n",
    "\n",
    "  - **오늘의 핵심**\n",
    "  "
   ]
  },
  {
   "cell_type": "code",
   "execution_count": 7,
   "id": "812d12cb-652a-4acc-8646-bfe92995b2df",
   "metadata": {},
   "outputs": [],
   "source": [
    "def rectangle(height, width):\n",
    "    area = height * width\n",
    "    perimeter = (height + width) * 2\n",
    "\n",
    "    print(f'사각형의 면적은 {area} 둘레는 {perimeter} 입니다.')   ### 선언 단계"
   ]
  },
  {
   "cell_type": "code",
   "execution_count": 9,
   "id": "6b067f0e-3fe4-4bda-b9ae-0c4b848b4077",
   "metadata": {},
   "outputs": [
    {
     "name": "stdout",
     "output_type": "stream",
     "text": [
      "사각형의 면적은 1500 둘레는 160 입니다.\n",
      "사각형의 면적은 2000 둘레는 240 입니다.\n"
     ]
    }
   ],
   "source": [
    " rectangle(50, 30)# 함수를 실행하고 하는 것 \n",
    " rectangle(20, 100"
   ]
  },
  {
   "cell_type": "code",
   "execution_count": 10,
   "id": "089646d1-fa66-480a-b6a7-9db9cce74d4c",
   "metadata": {},
   "outputs": [
    {
     "data": {
      "text/plain": [
       "['ArithmeticError',\n",
       " 'AssertionError',\n",
       " 'AttributeError',\n",
       " 'BaseException',\n",
       " 'BaseExceptionGroup',\n",
       " 'BlockingIOError',\n",
       " 'BrokenPipeError',\n",
       " 'BufferError',\n",
       " 'BytesWarning',\n",
       " 'ChildProcessError',\n",
       " 'ConnectionAbortedError',\n",
       " 'ConnectionError',\n",
       " 'ConnectionRefusedError',\n",
       " 'ConnectionResetError',\n",
       " 'DeprecationWarning',\n",
       " 'EOFError',\n",
       " 'Ellipsis',\n",
       " 'EncodingWarning',\n",
       " 'EnvironmentError',\n",
       " 'Exception',\n",
       " 'ExceptionGroup',\n",
       " 'False',\n",
       " 'FileExistsError',\n",
       " 'FileNotFoundError',\n",
       " 'FloatingPointError',\n",
       " 'FutureWarning',\n",
       " 'GeneratorExit',\n",
       " 'IOError',\n",
       " 'ImportError',\n",
       " 'ImportWarning',\n",
       " 'IndentationError',\n",
       " 'IndexError',\n",
       " 'InterruptedError',\n",
       " 'IsADirectoryError',\n",
       " 'KeyError',\n",
       " 'KeyboardInterrupt',\n",
       " 'LookupError',\n",
       " 'MemoryError',\n",
       " 'ModuleNotFoundError',\n",
       " 'NameError',\n",
       " 'None',\n",
       " 'NotADirectoryError',\n",
       " 'NotImplemented',\n",
       " 'NotImplementedError',\n",
       " 'OSError',\n",
       " 'OverflowError',\n",
       " 'PendingDeprecationWarning',\n",
       " 'PermissionError',\n",
       " 'ProcessLookupError',\n",
       " 'PythonFinalizationError',\n",
       " 'RecursionError',\n",
       " 'ReferenceError',\n",
       " 'ResourceWarning',\n",
       " 'RuntimeError',\n",
       " 'RuntimeWarning',\n",
       " 'StopAsyncIteration',\n",
       " 'StopIteration',\n",
       " 'SyntaxError',\n",
       " 'SyntaxWarning',\n",
       " 'SystemError',\n",
       " 'SystemExit',\n",
       " 'TabError',\n",
       " 'TimeoutError',\n",
       " 'True',\n",
       " 'TypeError',\n",
       " 'UnboundLocalError',\n",
       " 'UnicodeDecodeError',\n",
       " 'UnicodeEncodeError',\n",
       " 'UnicodeError',\n",
       " 'UnicodeTranslateError',\n",
       " 'UnicodeWarning',\n",
       " 'UserWarning',\n",
       " 'ValueError',\n",
       " 'Warning',\n",
       " 'ZeroDivisionError',\n",
       " '_IncompleteInputError',\n",
       " '__IPYTHON__',\n",
       " '__build_class__',\n",
       " '__debug__',\n",
       " '__doc__',\n",
       " '__import__',\n",
       " '__loader__',\n",
       " '__name__',\n",
       " '__package__',\n",
       " '__spec__',\n",
       " 'abs',\n",
       " 'aiter',\n",
       " 'all',\n",
       " 'anext',\n",
       " 'any',\n",
       " 'ascii',\n",
       " 'bin',\n",
       " 'bool',\n",
       " 'breakpoint',\n",
       " 'bytearray',\n",
       " 'bytes',\n",
       " 'callable',\n",
       " 'chr',\n",
       " 'classmethod',\n",
       " 'compile',\n",
       " 'complex',\n",
       " 'copyright',\n",
       " 'credits',\n",
       " 'delattr',\n",
       " 'dict',\n",
       " 'dir',\n",
       " 'display',\n",
       " 'divmod',\n",
       " 'enumerate',\n",
       " 'eval',\n",
       " 'exec',\n",
       " 'execfile',\n",
       " 'filter',\n",
       " 'float',\n",
       " 'format',\n",
       " 'frozenset',\n",
       " 'get_ipython',\n",
       " 'getattr',\n",
       " 'globals',\n",
       " 'hasattr',\n",
       " 'hash',\n",
       " 'help',\n",
       " 'hex',\n",
       " 'id',\n",
       " 'input',\n",
       " 'int',\n",
       " 'isinstance',\n",
       " 'issubclass',\n",
       " 'iter',\n",
       " 'len',\n",
       " 'license',\n",
       " 'list',\n",
       " 'locals',\n",
       " 'map',\n",
       " 'max',\n",
       " 'memoryview',\n",
       " 'min',\n",
       " 'next',\n",
       " 'object',\n",
       " 'oct',\n",
       " 'open',\n",
       " 'ord',\n",
       " 'pow',\n",
       " 'print',\n",
       " 'property',\n",
       " 'range',\n",
       " 'repr',\n",
       " 'reversed',\n",
       " 'round',\n",
       " 'runfile',\n",
       " 'set',\n",
       " 'setattr',\n",
       " 'slice',\n",
       " 'sorted',\n",
       " 'staticmethod',\n",
       " 'str',\n",
       " 'sum',\n",
       " 'super',\n",
       " 'tuple',\n",
       " 'type',\n",
       " 'vars',\n",
       " 'zip']"
      ]
     },
     "execution_count": 10,
     "metadata": {},
     "output_type": "execute_result"
    }
   ],
   "source": [
    "dir(__builtins__)  # 세부 내용을 보여주세용"
   ]
  },
  {
   "cell_type": "code",
   "execution_count": 12,
   "id": "8d0391a8-2e2f-40fc-bf8d-84970762eddb",
   "metadata": {},
   "outputs": [
    {
     "data": {
      "text/plain": [
       "100"
      ]
     },
     "execution_count": 12,
     "metadata": {},
     "output_type": "execute_result"
    }
   ],
   "source": [
    "max(100, 2)"
   ]
  },
  {
   "cell_type": "code",
   "execution_count": 17,
   "id": "6d97b5ce-6c8a-4872-8c02-64fba84b3b81",
   "metadata": {},
   "outputs": [],
   "source": [
    "def my_max(num1, num2):\n",
    "   if num1 > num2:\n",
    "       print(num1)\n",
    "   elif num1 < num2:\n",
    "       print(num2)\n",
    "   else:\n",
    "       print('같습니다')\n",
    "    \n",
    "    "
   ]
  },
  {
   "cell_type": "code",
   "execution_count": 18,
   "id": "c7ad48ad-cc4d-4079-a777-6dd66d5ba065",
   "metadata": {},
   "outputs": [
    {
     "name": "stdout",
     "output_type": "stream",
     "text": [
      "같습니다\n"
     ]
    }
   ],
   "source": [
    "my_max(5, 5)"
   ]
  },
  {
   "cell_type": "markdown",
   "id": "f4a0a0dc-1fb9-440f-9853-e53241d6dc0b",
   "metadata": {},
   "source": [
    "## 함수의 return\n",
    "- 항상 있어야 한다 >> 결과의 저장을 위해\n",
    "- 함수가 return을 만나면 해당값을 반환하고 함수를 종료\n",
    "- 만약 return이 없는 경우 None을 자동으로 반환\n",
    "- return은 오직 하나의 객체만 반환한다. > (수학 함수랑 똑같은 개념)\n"
   ]
  },
  {
   "cell_type": "code",
   "execution_count": 19,
   "id": "a2e9296b-de13-404c-9393-822636758b1c",
   "metadata": {},
   "outputs": [
    {
     "name": "stdout",
     "output_type": "stream",
     "text": [
      "2\n"
     ]
    }
   ],
   "source": [
    "my_max(1,2)"
   ]
  },
  {
   "cell_type": "code",
   "execution_count": 20,
   "id": "5c1e54c9-a338-4535-b9e8-da27d802a27d",
   "metadata": {},
   "outputs": [
    {
     "name": "stdout",
     "output_type": "stream",
     "text": [
      "2\n",
      "None\n"
     ]
    }
   ],
   "source": [
    "result = my_max(1,2)\n",
    "print(result)\n",
    "#result * 2"
   ]
  },
  {
   "cell_type": "markdown",
   "id": "2152eb2f-f7d1-428f-a733-951a723bba51",
   "metadata": {},
   "source": [
    "d"
   ]
  },
  {
   "cell_type": "code",
   "execution_count": 21,
   "id": "30b29ad4-bc53-4b7b-800f-1915bfc7a8ba",
   "metadata": {},
   "outputs": [],
   "source": [
    "def my_max2(num1,num2):\n",
    "    if num1 > num2:\n",
    "        return num1\n",
    "    else:\n",
    "        return num2\n",
    "        "
   ]
  },
  {
   "cell_type": "code",
   "execution_count": 23,
   "id": "ff8b00fd-6d61-4321-b1d3-011bef1836b9",
   "metadata": {},
   "outputs": [
    {
     "name": "stdout",
     "output_type": "stream",
     "text": [
      "2\n"
     ]
    }
   ],
   "source": [
    "result = my_max2(1,2)  # return은 값을 알려주고 , 작업을 연속적으로 하기에 좋다\n",
    "print(result)"
   ]
  },
  {
   "cell_type": "code",
   "execution_count": 24,
   "id": "0bb73c49-2084-4827-8027-838397bbc98a",
   "metadata": {},
   "outputs": [
    {
     "data": {
      "text/plain": [
       "20"
      ]
     },
     "execution_count": 24,
     "metadata": {},
     "output_type": "execute_result"
    }
   ],
   "source": [
    "def my_def(x):\n",
    "    return x * 2\n",
    "\n",
    "my_def(10)"
   ]
  },
  {
   "cell_type": "code",
   "execution_count": 25,
   "id": "4bccaf38-7900-470c-94d4-5c756f55ccd0",
   "metadata": {},
   "outputs": [
    {
     "data": {
      "text/plain": [
       "(20, 10)"
      ]
     },
     "execution_count": 25,
     "metadata": {},
     "output_type": "execute_result"
    }
   ],
   "source": [
    "def my_def(x):\n",
    "    return x * 2, x   # > tuple이 되어 버리는 거임 ,, 그래서 억지로 소괄호로 묶어 주는 거삼\n",
    "\n",
    "my_def(10)"
   ]
  },
  {
   "cell_type": "code",
   "execution_count": 27,
   "id": "f64c5b9f-8cef-4c70-b7cb-d3bf46685b4a",
   "metadata": {},
   "outputs": [
    {
     "name": "stdout",
     "output_type": "stream",
     "text": [
      "0\n",
      "1\n",
      "2\n",
      "3\n"
     ]
    },
    {
     "data": {
      "text/plain": [
       "3"
      ]
     },
     "execution_count": 27,
     "metadata": {},
     "output_type": "execute_result"
    }
   ],
   "source": [
    "def my_for(x):\n",
    "    for i in range(x):\n",
    "        print(i)\n",
    "        if i == 3:\n",
    "            return i\n",
    "\n",
    "my_for(5)"
   ]
  },
  {
   "cell_type": "code",
   "execution_count": 64,
   "id": "84abccfc-268b-4791-9bd4-dfc1c735e4c6",
   "metadata": {},
   "outputs": [],
   "source": [
    "def my_list_max(num1, num2):\n",
    "    if num1 > num2:\n",
    "        return num1\n",
    "    else:\n",
    "        return num2\n",
    "\n",
    "    # 내가 한거,,,\n",
    "    \n"
   ]
  },
  {
   "cell_type": "code",
   "execution_count": 65,
   "id": "59bdd4b8-c8d8-42a9-b13a-a10eca91664d",
   "metadata": {},
   "outputs": [
    {
     "data": {
      "text/plain": [
       "[2, 3, 4]"
      ]
     },
     "execution_count": 65,
     "metadata": {},
     "output_type": "execute_result"
    }
   ],
   "source": [
    "my_list_max([1, 2, 3, 100], [2, 3, 4],)\n",
    "\n",
    "#"
   ]
  },
  {
   "cell_type": "code",
   "execution_count": 53,
   "id": "7bfa7887-ce66-4bb6-825f-662ffe9cb757",
   "metadata": {},
   "outputs": [],
   "source": [
    "def my_list_max(list1,list2):\n",
    "    # 원과 투의 총합이 필요\n",
    "\n",
    "    sum_of_list1 = list1[0] + list1[1] + list1[2]\n",
    "    sum_of_list2 = list2[0] + list2[1] + list2[2]\n",
    "\n",
    "    if sum_of_list1 > sum_of_list2:\n",
    "        return list1\n",
    "    else:\n",
    "        return list2"
   ]
  },
  {
   "cell_type": "code",
   "execution_count": 54,
   "id": "d9789942-572f-45a4-8cb1-6396c25bb1f5",
   "metadata": {},
   "outputs": [
    {
     "data": {
      "text/plain": [
       "[2, 3, 4]"
      ]
     },
     "execution_count": 54,
     "metadata": {},
     "output_type": "execute_result"
    }
   ],
   "source": [
    "my_list_max([1, 2, 3],[2, 3, 4])"
   ]
  },
  {
   "cell_type": "code",
   "execution_count": 51,
   "id": "0750388c-ebff-4170-ae6a-cb72a1f1e775",
   "metadata": {},
   "outputs": [],
   "source": [
    "def my_list_max(list1,list2):\n",
    "    sum_of_list1 = 0\n",
    "    sum_of_list2 = 0\n",
    "\n",
    "    for item in list1:\n",
    "        sum_of_list1 = sum_of_list1 +item\n",
    "    for item in list2:\n",
    "        sum_of_list2 += item\n",
    "\n",
    "    if sum_of_list1 > sum_of_list2:\n",
    "        return list1\n",
    "    else:\n",
    "        return list2\n",
    "    "
   ]
  },
  {
   "cell_type": "code",
   "execution_count": 52,
   "id": "24f2c98f-ab29-4eff-82fa-0380d2c08090",
   "metadata": {},
   "outputs": [
    {
     "data": {
      "text/plain": [
       "[2, 3, 4]"
      ]
     },
     "execution_count": 52,
     "metadata": {},
     "output_type": "execute_result"
    }
   ],
   "source": [
    "my_list_max([1, 2, 3],[2, 3, 4])"
   ]
  },
  {
   "cell_type": "code",
   "execution_count": 56,
   "id": "2f99d652-074b-407a-b4b5-11be3d660e5e",
   "metadata": {},
   "outputs": [],
   "source": [
    "def my_list_max(list1,list2):\n",
    "    sum_of_list1 = sum(list1)\n",
    "    sum_of_list2 = sum(list2)\n",
    "\n",
    "    if sum_of_list1 > sum_of_list2:\n",
    "        return list1\n",
    "    else:\n",
    "        return list2\n",
    "\n",
    "\n",
    "\n",
    "\n",
    "# if sum(list1) > sum2(list2): >> 이렇게 해도 된다\n",
    "\n",
    "    "
   ]
  },
  {
   "cell_type": "code",
   "execution_count": 57,
   "id": "3e706f3a-5c8e-4b16-be1a-273938a420c4",
   "metadata": {},
   "outputs": [
    {
     "data": {
      "text/plain": [
       "[2, 3, 4]"
      ]
     },
     "execution_count": 57,
     "metadata": {},
     "output_type": "execute_result"
    }
   ],
   "source": [
    "my_list_max([1, 2, 3],[2, 3, 4])"
   ]
  },
  {
   "cell_type": "markdown",
   "id": "2742ad80-0c14-4c19-8822-d1b90b5137b3",
   "metadata": {},
   "source": [
    "## 함수의 인수 (Input)\n",
    "\n",
    "-input에 들어 올 수 있는 데이터는 무엇이 있을가\n",
    "-결국은 데이터를 어떻게 넣을 것인가 \n",
    "\n",
    "\n",
    "#### 위치인수\n",
    "- 기본적으로 함수는 위치를 기준으로 인수를 판단합니다.\n",
    "- \n"
   ]
  },
  {
   "cell_type": "code",
   "execution_count": 66,
   "id": "486791c6-24b0-441e-af15-0d5400f3762c",
   "metadata": {},
   "outputs": [],
   "source": [
    "def cylinder(r, h):\n",
    "    return 3.14 * r ** 2 * h"
   ]
  },
  {
   "cell_type": "code",
   "execution_count": 67,
   "id": "e4564c18-a00a-479d-ab09-2a45d163b12b",
   "metadata": {},
   "outputs": [
    {
     "data": {
      "text/plain": [
       "282.6"
      ]
     },
     "execution_count": 67,
     "metadata": {},
     "output_type": "execute_result"
    }
   ],
   "source": [
    "cylinder(3 ,10)"
   ]
  },
  {
   "cell_type": "code",
   "execution_count": 68,
   "id": "b415780e-4455-40f3-9704-bc1b1dc57ff0",
   "metadata": {},
   "outputs": [
    {
     "data": {
      "text/plain": [
       "942.0"
      ]
     },
     "execution_count": 68,
     "metadata": {},
     "output_type": "execute_result"
    }
   ],
   "source": [
    "cylinder(10, 3)"
   ]
  },
  {
   "cell_type": "markdown",
   "id": "fd27b6fb-423e-4b4d-891c-73d5f91449e9",
   "metadata": {},
   "source": [
    "#### 기본값\n",
    "\n",
    "```python\n",
    "\n",
    "def fun_name(p1=v1):\n",
    "    code1\n",
    "    return value\n",
    "    \n",
    "```"
   ]
  },
  {
   "cell_type": "code",
   "execution_count": 77,
   "id": "3d940524-c78b-44d5-9e1f-dd91ff8cb93b",
   "metadata": {},
   "outputs": [],
   "source": [
    "def greeting(name='익명'):   # > 값이 없어도 임의로 처리 하기 위해 디폴트 값을 설정 하기 위해  하는 공간 \n",
    "    return f'{name}님 반갑습니다!'"
   ]
  },
  {
   "cell_type": "code",
   "execution_count": 80,
   "id": "48c7fdf9-7430-43e9-a1fe-cc0f42642476",
   "metadata": {},
   "outputs": [
    {
     "data": {
      "text/plain": [
       "'선민님 반갑습니다!'"
      ]
     },
     "execution_count": 80,
     "metadata": {},
     "output_type": "execute_result"
    }
   ],
   "source": [
    "greeting('선민')"
   ]
  },
  {
   "cell_type": "code",
   "execution_count": 82,
   "id": "666abf04-203b-414f-99ce-6947750e62b8",
   "metadata": {},
   "outputs": [
    {
     "name": "stdout",
     "output_type": "stream",
     "text": [
      "안녕하세용 반갑습니다 누눈\n"
     ]
    }
   ],
   "source": [
    "print('안녕하세용','반갑습니다', '누눈')"
   ]
  },
  {
   "cell_type": "code",
   "execution_count": 85,
   "id": "9f73624e-0543-4266-9078-46da531f6aeb",
   "metadata": {},
   "outputs": [],
   "source": [
    "def greeting(name, age):\n",
    "    return f'{name}님의 나이는 {age}살 입니다'"
   ]
  },
  {
   "cell_type": "raw",
   "id": "66b397b0-b2f1-4c08-9227-6912dcdb236a",
   "metadata": {},
   "source": [
    "greeting('길동',10)"
   ]
  },
  {
   "cell_type": "code",
   "execution_count": 86,
   "id": "8857a961-bf3c-41de-b407-a7ee91a26bd1",
   "metadata": {},
   "outputs": [
    {
     "data": {
      "text/plain": [
       "'길동님의 나이는 10살 입니다'"
      ]
     },
     "execution_count": 86,
     "metadata": {},
     "output_type": "execute_result"
    }
   ],
   "source": [
    "greeting('길동', 10)"
   ]
  },
  {
   "cell_type": "code",
   "execution_count": 87,
   "id": "f1ff7300-996f-4cd7-b634-26c898808aa0",
   "metadata": {},
   "outputs": [],
   "source": [
    "def greeting(age, name='익명'):\n",
    "    return f'{name}님의 나이는 {age}살 입니다'"
   ]
  },
  {
   "cell_type": "code",
   "execution_count": 90,
   "id": "3d9ba92c-3fc6-489b-95c9-06a903c49924",
   "metadata": {},
   "outputs": [
    {
     "data": {
      "text/plain": [
       "'익명님의 나이는 10살 입니다'"
      ]
     },
     "execution_count": 90,
     "metadata": {},
     "output_type": "execute_result"
    }
   ],
   "source": [
    "greeting(10)  # 위치가 중요합니다리이이이이이이잉\n"
   ]
  },
  {
   "cell_type": "markdown",
   "id": "2fb22645-f59b-45a8-82ed-557ff781ce7e",
   "metadata": {},
   "source": [
    "#### 키워드 인수 \n",
    "- 함수를 호출/실행 할때 내가 원하는 위치에 직접적으로 값을 전달\n",
    "  "
   ]
  },
  {
   "cell_type": "code",
   "execution_count": 91,
   "id": "ba11a8ed-4f11-4fcb-a670-93b5d6ca76f6",
   "metadata": {},
   "outputs": [],
   "source": [
    "def greeting(age, name='익명'):\n",
    "    return f'{name}님의 나이는 {age}살 입니다'"
   ]
  },
  {
   "cell_type": "code",
   "execution_count": 93,
   "id": "2102e856-56fc-44b5-bad8-677340fee198",
   "metadata": {},
   "outputs": [
    {
     "data": {
      "text/plain": [
       "'선민님의 나이는 20살 입니다'"
      ]
     },
     "execution_count": 93,
     "metadata": {},
     "output_type": "execute_result"
    }
   ],
   "source": [
    "greeting(10)\n",
    "greeting(name = '선민' , age = 20)"
   ]
  },
  {
   "cell_type": "markdown",
   "id": "31a7d5a8-6573-4c8a-bb68-c3d27a5818ed",
   "metadata": {},
   "source": [
    "#### 가변인자 리스\n",
    "\n",
    "```python\n",
    "\n",
    "def func_name(*parms):\n",
    "    code\n",
    "    ...\n",
    "    return value\n",
    "```"
   ]
  },
  {
   "cell_type": "code",
   "execution_count": 94,
   "id": "cc1075a6-dcae-4e51-b274-9350068e16ee",
   "metadata": {},
   "outputs": [],
   "source": [
    "def my_print(*words):\n",
    "    print(words)"
   ]
  },
  {
   "cell_type": "code",
   "execution_count": 95,
   "id": "cc293d18-40a1-4b1c-93b1-9b2f8d7c53d9",
   "metadata": {},
   "outputs": [
    {
     "name": "stdout",
     "output_type": "stream",
     "text": [
      "('mr', 'mae', 'ssss')\n"
     ]
    }
   ],
   "source": [
    "my_print('mr','mae','ssss') # tuple로 인식 하고 있음 ,,, 하나로 통째로 묶어서 words에 담겠다!"
   ]
  },
  {
   "cell_type": "code",
   "execution_count": 103,
   "id": "29a02b1b-91be-4360-9c40-951ecd1c9eb9",
   "metadata": {},
   "outputs": [],
   "source": [
    "def my_max(*num):\n",
    "\n",
    "    for h in range(num):\n",
    "        if num > h:\n",
    "            return(num)\n",
    "        else:\n",
    "            return(h)\n",
    "            \n",
    "    "
   ]
  },
  {
   "cell_type": "code",
   "execution_count": 104,
   "id": "d9733307-505a-4b46-9ba4-1f2bf8732b0d",
   "metadata": {},
   "outputs": [
    {
     "ename": "TypeError",
     "evalue": "'tuple' object cannot be interpreted as an integer",
     "output_type": "error",
     "traceback": [
      "\u001b[0;31m---------------------------------------------------------------------------\u001b[0m",
      "\u001b[0;31mTypeError\u001b[0m                                 Traceback (most recent call last)",
      "Cell \u001b[0;32mIn[104], line 1\u001b[0m\n\u001b[0;32m----> 1\u001b[0m \u001b[43mmy_max\u001b[49m\u001b[43m(\u001b[49m\u001b[38;5;241;43m1\u001b[39;49m\u001b[43m,\u001b[49m\u001b[43m \u001b[49m\u001b[38;5;241;43m2\u001b[39;49m\u001b[43m,\u001b[49m\u001b[43m \u001b[49m\u001b[38;5;241;43m3\u001b[39;49m\u001b[43m,\u001b[49m\u001b[43m \u001b[49m\u001b[38;5;241;43m4\u001b[39;49m\u001b[43m,\u001b[49m\u001b[43m \u001b[49m\u001b[38;5;241;43m5\u001b[39;49m\u001b[43m,\u001b[49m\u001b[43m \u001b[49m\u001b[38;5;241;43m6\u001b[39;49m\u001b[43m,\u001b[49m\u001b[43m \u001b[49m\u001b[38;5;241;43m7\u001b[39;49m\u001b[43m)\u001b[49m\n",
      "Cell \u001b[0;32mIn[103], line 3\u001b[0m, in \u001b[0;36mmy_max\u001b[0;34m(*num)\u001b[0m\n\u001b[1;32m      1\u001b[0m \u001b[38;5;28;01mdef\u001b[39;00m\u001b[38;5;250m \u001b[39m\u001b[38;5;21mmy_max\u001b[39m(\u001b[38;5;241m*\u001b[39mnum):\n\u001b[0;32m----> 3\u001b[0m     \u001b[38;5;28;01mfor\u001b[39;00m h \u001b[38;5;129;01min\u001b[39;00m \u001b[38;5;28;43mrange\u001b[39;49m\u001b[43m(\u001b[49m\u001b[43mnum\u001b[49m\u001b[43m)\u001b[49m:\n\u001b[1;32m      4\u001b[0m         \u001b[38;5;28;01mif\u001b[39;00m num \u001b[38;5;241m>\u001b[39m h:\n\u001b[1;32m      5\u001b[0m             \u001b[38;5;28;01mreturn\u001b[39;00m(num)\n",
      "\u001b[0;31mTypeError\u001b[0m: 'tuple' object cannot be interpreted as an integer"
     ]
    }
   ],
   "source": [
    "my_max(1, 2, 3, 4, 5, 6, 7)"
   ]
  },
  {
   "cell_type": "code",
   "execution_count": 109,
   "id": "a531c0b8-54f6-41d1-83b9-005d46a71c50",
   "metadata": {},
   "outputs": [],
   "source": [
    "def my_max(*numbers):\n",
    "    #numbers =(1,2,3,4,5,6,7)\n",
    "\n",
    "    #max_num = 0 \n",
    "    # 초기값은 내가 어떤 상황인지에 따라 다르게 설정 해야 한다 , 비교 상황을 실제 상황으로 처리 할 수 있당 \n",
    "    max_num = numbers[0] # 입장하자 마자 첫번째 데이터를 바로 쥐는 거라고 할 수 있다.2\n",
    "    \n",
    "    for number in numbers:\n",
    "        if max_num < number:\n",
    "            max_num = number\n",
    "\n",
    "    return max_num\n",
    "    "
   ]
  },
  {
   "cell_type": "code",
   "execution_count": 110,
   "id": "4cc65cfb-d4dd-4ace-9f31-5a31749ca010",
   "metadata": {},
   "outputs": [
    {
     "data": {
      "text/plain": [
       "32442323"
      ]
     },
     "execution_count": 110,
     "metadata": {},
     "output_type": "execute_result"
    }
   ],
   "source": [
    "my_max(2,3,4,244324,32442323)"
   ]
  },
  {
   "cell_type": "code",
   "execution_count": 111,
   "id": "05e91bfb-d37d-4269-8b64-77f056571a46",
   "metadata": {},
   "outputs": [
    {
     "data": {
      "text/plain": [
       "-1"
      ]
     },
     "execution_count": 111,
     "metadata": {},
     "output_type": "execute_result"
    }
   ],
   "source": [
    "my_max(-2, -3, -4, -1)"
   ]
  },
  {
   "cell_type": "code",
   "execution_count": null,
   "id": "b64d4eeb-18b2-4838-a1ba-46d33677ed0c",
   "metadata": {},
   "outputs": [],
   "source": []
  }
 ],
 "metadata": {
  "kernelspec": {
   "display_name": "Python 3 (ipykernel)",
   "language": "python",
   "name": "python3"
  },
  "language_info": {
   "codemirror_mode": {
    "name": "ipython",
    "version": 3
   },
   "file_extension": ".py",
   "mimetype": "text/x-python",
   "name": "python",
   "nbconvert_exporter": "python",
   "pygments_lexer": "ipython3",
   "version": "3.13.2"
  }
 },
 "nbformat": 4,
 "nbformat_minor": 5
}
