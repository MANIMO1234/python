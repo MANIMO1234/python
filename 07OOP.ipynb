{
 "cells": [
  {
   "cell_type": "markdown",
   "id": "d67c5f8c-e5e7-4592-81ff-74a610348b9f",
   "metadata": {},
   "source": [
    "# 객체 지향 프로그래밍 (OOP)\n",
    "\n",
    "- 클래스(class) : 같은 종류의 집단에 속하는 속성과 행동을 정의한 것 \n",
    "- 속성(attribute) : 클래스 혹은 인스턴스가 가지고 있는 데이터/값\n",
    "- 행동(method): 클래스/ 인스턴스가 가지고 있는 함수 혹은 기능 (객체(class) 안에 들어 있는 것 )\n",
    "- 인스턴스(instance): 클래스를 실제로 메모리상에 할당한 것"
   ]
  },
  {
   "cell_type": "code",
   "execution_count": null,
   "id": "52ecd43b-dc80-4325-852e-6af113637121",
   "metadata": {},
   "outputs": [],
   "source": [
    "number = 1 + 2j"
   ]
  },
  {
   "cell_type": "code",
   "execution_count": null,
   "id": "db691f49-392b-4383-bc2d-cfc8cec8352c",
   "metadata": {},
   "outputs": [],
   "source": [
    "print(type(number))   #  이미 'j'가 complex라는 class로 분류 되어 있다"
   ]
  },
  {
   "cell_type": "code",
   "execution_count": null,
   "id": "77a6d7bc-0a87-42fd-872a-576653d90af5",
   "metadata": {},
   "outputs": [],
   "source": [
    "number.real"
   ]
  },
  {
   "cell_type": "code",
   "execution_count": null,
   "id": "32889320-1c71-4115-8a9c-b3d39bee88a6",
   "metadata": {},
   "outputs": [],
   "source": [
    "print(number.real)   #변수\n",
    "print(number.imag)   # 값어 접근 하는 거기 때문에 ()가 안붙음 "
   ]
  },
  {
   "cell_type": "code",
   "execution_count": null,
   "id": "f29a307c-0296-46b2-9860-8cb0e50b5dc4",
   "metadata": {},
   "outputs": [],
   "source": [
    "numbers = [1, 2, 3]   # list로 이미 정의 되어있삼"
   ]
  },
  {
   "cell_type": "code",
   "execution_count": null,
   "id": "dd721a9b-ec24-4fda-84bf-b9352f56c240",
   "metadata": {},
   "outputs": [],
   "source": [
    "print(type(numbers)) "
   ]
  },
  {
   "cell_type": "code",
   "execution_count": null,
   "id": "282d8eaa-9628-4529-a13d-cda3d504c18d",
   "metadata": {},
   "outputs": [],
   "source": [
    "numbers.reverse()\n",
    "print(numbers)    # 함수를 실행 하기 때문에 괄호가 붙는다  "
   ]
  },
  {
   "cell_type": "code",
   "execution_count": null,
   "id": "70cfe5df-496d-4903-94aa-13a5d1e99ba9",
   "metadata": {},
   "outputs": [],
   "source": [
    "number = '111-2222-3333'\n",
    "power = True\n",
    "phone_book = {\n",
    "\n",
    "    'kim' : '000-3333-4444',\n",
    "    'par' : '222-3333-55555'\n",
    "}\n",
    "\n",
    "def call(from_num , to_num):\n",
    "    print(f'{from_num}가 {to_num}한테 전화 거는 중')\n",
    "\n",
    "call(number, phone_book['kim'])"
   ]
  },
  {
   "cell_type": "markdown",
   "id": "71ab84a7-5c15-4d5c-a559-04e11e861a8e",
   "metadata": {},
   "source": [
    "## class\n",
    "\n",
    "- class 선언(정의)\n",
    "```python\n",
    "class ClassName(): # 카멜케이스로 대문자로 써야한다 각단어의 시작점\n",
    "\n",
    "    atrribute1 = value1\n",
    "    attribute2 = vlaue2\n",
    "    .....\n",
    "\n",
    "    def method_name1 (self):\n",
    "        code\n",
    "    \n",
    "    def method_name2 (self):\n",
    "        code\n",
    "\n",
    "        ...\n",
    "        \n",
    "\n",
    "```\n",
    "- 인스턴스화(class를 실행 함 )\n",
    "\n",
    "\n",
    "```python\n",
    "\n",
    "  c =ClassName()\n",
    "```\n"
   ]
  },
  {
   "cell_type": "code",
   "execution_count": null,
   "id": "2ef627ae-a545-4072-a7b9-55c3d696057d",
   "metadata": {},
   "outputs": [],
   "source": [
    "# 선언, 정의\n",
    "\n",
    "class MyClass():\n",
    "    name = 'kim'\n",
    "\n",
    "    def hello(self):\n",
    "        return 'hi'"
   ]
  },
  {
   "cell_type": "code",
   "execution_count": null,
   "id": "b4f99579-b0dd-492f-b01a-0cd77ca5f0f0",
   "metadata": {},
   "outputs": [],
   "source": [
    "m = MyClass()   # 인스턴스화"
   ]
  },
  {
   "cell_type": "code",
   "execution_count": null,
   "id": "d5d5b464-1072-4e87-b563-0d78e70b5452",
   "metadata": {},
   "outputs": [],
   "source": [
    "print(type(m))"
   ]
  },
  {
   "cell_type": "code",
   "execution_count": null,
   "id": "fd5e7225-bfe1-4d17-a1f2-2ba9d3ac201f",
   "metadata": {},
   "outputs": [],
   "source": [
    "print(m.name)\n",
    "print(m.hello())"
   ]
  },
  {
   "cell_type": "code",
   "execution_count": null,
   "id": "5fd9660e-6caf-4fff-8ab3-944b9c3ae9f3",
   "metadata": {},
   "outputs": [],
   "source": [
    "m2 = MyClass()\n",
    "print(m2.name)\n",
    "print(m2.hello())"
   ]
  },
  {
   "cell_type": "code",
   "execution_count": null,
   "id": "07b70571-61c1-4fc9-9e75-b11aecbfe834",
   "metadata": {},
   "outputs": [],
   "source": [
    "m2.name = 'park'\n",
    "\n",
    "print(m.name)\n",
    "print(m2.name)"
   ]
  },
  {
   "cell_type": "code",
   "execution_count": null,
   "id": "a746e440-9003-4f74-8e82-330b8379eb10",
   "metadata": {},
   "outputs": [],
   "source": [
    "class Phone():\n",
    "    power = False\n",
    "    number = '010-3333-2222'\n",
    "    book = {}\n",
    "    model = ''\n",
    "\n",
    "\n",
    "    def on(self):  #class안에 있는 함수에는 항상  self를 적어줘야 한다... 항상 항상 나 자신\n",
    "        if self.power == False:\n",
    "            self.power = True\n",
    "    def off(self):\n",
    "        if self.power == True:\n",
    "            self.pwer = False  \n",
    "\n",
    "\n",
    "    def call(self,target):\n",
    "        if self.power == True:\n",
    "            print(f'{self.number}가 {target.number}한테 전화거는 중...')\n",
    "        else:\n",
    "            print('휴대폰이 꺼져있습니다')"
   ]
  },
  {
   "cell_type": "code",
   "execution_count": null,
   "id": "d2a966b0-c26e-488b-9336-cc6d807d4054",
   "metadata": {},
   "outputs": [],
   "source": [
    "my = Phone()\n",
    "your = Phone()"
   ]
  },
  {
   "cell_type": "code",
   "execution_count": null,
   "id": "dd5459d8-c0c1-4887-a887-af953a297e77",
   "metadata": {},
   "outputs": [],
   "source": [
    "my.number"
   ]
  },
  {
   "cell_type": "code",
   "execution_count": null,
   "id": "f6ac6f29-0a41-4ced-ab52-dba95a09c0db",
   "metadata": {},
   "outputs": [],
   "source": [
    "your.number"
   ]
  },
  {
   "cell_type": "code",
   "execution_count": null,
   "id": "6aabad84-b550-46f0-9168-afc9ff266a72",
   "metadata": {},
   "outputs": [],
   "source": [
    "my.number = '111-2222-3333'"
   ]
  },
  {
   "cell_type": "code",
   "execution_count": null,
   "id": "b0552bb0-06e6-4442-afda-4d3e6e53555b",
   "metadata": {},
   "outputs": [],
   "source": [
    "print(my.number)"
   ]
  },
  {
   "cell_type": "code",
   "execution_count": null,
   "id": "6d6481fb-bf07-4205-9d79-1337542cbb1a",
   "metadata": {},
   "outputs": [],
   "source": [
    "my.power"
   ]
  },
  {
   "cell_type": "code",
   "execution_count": null,
   "id": "6dacf715-7f37-46f7-8bdf-5d5eaa7c1b90",
   "metadata": {},
   "outputs": [],
   "source": [
    "my.on()"
   ]
  },
  {
   "cell_type": "code",
   "execution_count": null,
   "id": "74387bfc-77b7-4fd1-bc53-44db41b846d5",
   "metadata": {},
   "outputs": [],
   "source": [
    "my.power"
   ]
  },
  {
   "cell_type": "code",
   "execution_count": null,
   "id": "9c637c41-9c1e-42e8-9284-e7caefb7ac28",
   "metadata": {},
   "outputs": [],
   "source": [
    "your.power"
   ]
  },
  {
   "cell_type": "code",
   "execution_count": null,
   "id": "d79c631a-d8f9-4b1d-9937-e90dcb7e0c90",
   "metadata": {},
   "outputs": [],
   "source": [
    "my.call(your)"
   ]
  },
  {
   "cell_type": "code",
   "execution_count": null,
   "id": "901ca0a8-0a9c-4dd2-b137-c3073838feda",
   "metadata": {},
   "outputs": [],
   "source": [
    "\n",
    "class Person():\n",
    "    name = ''\n",
    "    gender = ''\n",
    "    age = 0\n",
    "    hieght = 0\n",
    "\n",
    "\n",
    "    def greeting(self):\n",
    "        print(f'안녕하세요 나는 {self.name}입니다.')\n",
    "\n",
    "    def grow(self):\n",
    "        self.age +=1"
   ]
  },
  {
   "cell_type": "code",
   "execution_count": null,
   "id": "7472731b-cd01-4fb5-b9a8-bdd353af92bf",
   "metadata": {},
   "outputs": [],
   "source": [
    "p1 = Person()\n",
    "p2 = Person()"
   ]
  },
  {
   "cell_type": "code",
   "execution_count": null,
   "id": "5fbc9385-49ef-4d90-81a9-15d15bb24724",
   "metadata": {},
   "outputs": [],
   "source": [
    "print(p1.name)\n",
    "print(p2.name)"
   ]
  },
  {
   "cell_type": "code",
   "execution_count": null,
   "id": "8468743c-a23b-4b6d-a7b2-7c0c86047aef",
   "metadata": {},
   "outputs": [],
   "source": [
    "p1.name = '홍길동'\n",
    "p2.name ='kim'\n",
    "\n",
    "p1.gender = 'male'\n",
    "p2.gender = 'female'\n",
    "\n",
    "p1.age = 20\n",
    "p2.age = 30\n",
    "\n",
    "p1.height = 180\n",
    "p2.height = 190"
   ]
  },
  {
   "cell_type": "code",
   "execution_count": null,
   "id": "4bd0c382-6181-44b6-b36f-ca27710d96ce",
   "metadata": {},
   "outputs": [],
   "source": [
    "p1.greeting()"
   ]
  },
  {
   "cell_type": "code",
   "execution_count": null,
   "id": "4579cc93-c831-4e37-888f-2fcf619c1773",
   "metadata": {},
   "outputs": [],
   "source": [
    "p2.greeting()   # = person.greeting(p1)"
   ]
  },
  {
   "cell_type": "markdown",
   "id": "d934a231-05c6-4d0c-97e6-16a6acf3af04",
   "metadata": {},
   "source": [
    "## 생성자와 소멸자\n",
    "\n",
    "- 생성자 : 생성할때 도움을 주니까링\n",
    "\n",
    "    ```python\n",
    "    class MyClass():\n",
    "        def __init__(self):\n",
    "            pass\n",
    "        def __del__(self):\n",
    "            pass\n",
    "    \n",
    "    ```\n",
    "- "
   ]
  },
  {
   "cell_type": "code",
   "execution_count": null,
   "id": "64612853-3a1d-447d-a5f2-19655712e968",
   "metadata": {},
   "outputs": [],
   "source": [
    "class Person():\n",
    "    name = ''\n",
    "    def __init__(self, name):\n",
    "        self.name = name     # 오른쪽 네임과 왼쪽 네임은 서로 다른 상자에 들어 있는 것\n",
    "        print('생성됨')\n",
    "\n",
    "    def __del__(self):\n",
    "        print('소멸됨')"
   ]
  },
  {
   "cell_type": "code",
   "execution_count": null,
   "id": "5361aada-7aa9-46c2-9e49-3c40a9d04851",
   "metadata": {},
   "outputs": [],
   "source": [
    "p1 = Person()  #person__init__(p1, >????????)"
   ]
  },
  {
   "cell_type": "code",
   "execution_count": null,
   "id": "afecc909-c837-4a11-9f11-1246047ca701",
   "metadata": {},
   "outputs": [],
   "source": [
    "p1 = Person('kim')   #kim은 함수 내부에서만 사용하는 것임  p1의 공간에 name에 담아 둔거임\n",
    "p2 = Person('park')"
   ]
  },
  {
   "cell_type": "code",
   "execution_count": null,
   "id": "9f7c4af4-1b68-4970-b6e9-6e285213ec37",
   "metadata": {},
   "outputs": [],
   "source": [
    "del p1\n"
   ]
  },
  {
   "cell_type": "code",
   "execution_count": null,
   "id": "575d4cc5-fb30-4e67-8084-d4d6bbf87bfb",
   "metadata": {},
   "outputs": [],
   "source": [
    "class Circle():\n",
    "    def __init__(self ,r, x, y):\n",
    "        self.r = r\n",
    "        self.x = x\n",
    "        self.y = y\n",
    "\n",
    "    def info(self):\n",
    "        print(f'반지름:{self.r}, 중심점 :{self.x},{self.y}')"
   ]
  },
  {
   "cell_type": "code",
   "execution_count": null,
   "id": "4ca913a4-9b7b-478e-abcc-7316c972f465",
   "metadata": {},
   "outputs": [],
   "source": [
    "c1 = Circle(5,0,0)\n",
    "c2 = Circle(3,1,1)"
   ]
  },
  {
   "cell_type": "code",
   "execution_count": null,
   "id": "c48c33fc-3061-473c-b3a0-60129031275e",
   "metadata": {},
   "outputs": [],
   "source": [
    "c1.info()\n",
    "c2.info()"
   ]
  },
  {
   "cell_type": "code",
   "execution_count": null,
   "id": "11195511-4602-418e-96c9-fea30b14314b",
   "metadata": {},
   "outputs": [],
   "source": [
    "class Circle():\n",
    "    p1 = 3.14\n",
    "    def __init__(self ,r, x=0, y=0):\n",
    "        self.r = r\n",
    "        self.x = x\n",
    "        self.y = y\n",
    "\n",
    "    def info(self):\n",
    "        print(f'반지름:{self.r}, 중심점 :{self.x},{self.y}')\n",
    "\n",
    "    def area(self):\n",
    "        return self.r**2*self.p1\n",
    "\n",
    "    def round(self):\n",
    "        return self.r * self.p1 * 2\n",
    "\n",
    "    def move(self, x, y):\n",
    "        self.x = x\n",
    "        self.y = y\n",
    "        "
   ]
  },
  {
   "cell_type": "code",
   "execution_count": null,
   "id": "2c775e07-4366-463c-bca1-b1cfb72d2f7b",
   "metadata": {},
   "outputs": [],
   "source": [
    "c1= Circle(5)\n",
    "c2 = Circle(3,1,1)\n"
   ]
  },
  {
   "cell_type": "code",
   "execution_count": null,
   "id": "4243fab2-a752-4d3d-b403-ad44266ae9f3",
   "metadata": {},
   "outputs": [],
   "source": [
    "c1.info()\n",
    "c2.info()"
   ]
  },
  {
   "cell_type": "code",
   "execution_count": null,
   "id": "12bfbff1-729c-4c68-8e20-dcabc8fe5ba0",
   "metadata": {},
   "outputs": [],
   "source": [
    "print(c1.area())\n",
    "print(c2.area())"
   ]
  },
  {
   "cell_type": "code",
   "execution_count": null,
   "id": "abbf72a9-d9fd-4e04-bb65-d552b1f07f5b",
   "metadata": {},
   "outputs": [],
   "source": [
    "c1.round()"
   ]
  },
  {
   "cell_type": "code",
   "execution_count": null,
   "id": "a4bf1000-8530-41d2-8b9f-7b60ef665635",
   "metadata": {},
   "outputs": [],
   "source": [
    "c1.move(100,100)\n",
    "c1.info()"
   ]
  },
  {
   "cell_type": "code",
   "execution_count": null,
   "id": "744d3c75-5f21-414a-a50a-1ccb2e9859d4",
   "metadata": {},
   "outputs": [],
   "source": [
    "class Point():\n",
    "    def __init__(self, x, y):\n",
    "        self.x = x\n",
    "        self.y =y\n",
    "        \n",
    "    def info(self):\n",
    "        print(f'{self.x},{self.y}')"
   ]
  },
  {
   "cell_type": "code",
   "execution_count": null,
   "id": "5fbf7bbc-cda4-4df8-a0ac-fd95669a4c11",
   "metadata": {},
   "outputs": [],
   "source": [
    "p1 = Point(1,1)\n",
    "p2 = Point(2,3)"
   ]
  },
  {
   "cell_type": "code",
   "execution_count": null,
   "id": "f3cbead7-34a1-4f3a-9111-472a945da56c",
   "metadata": {},
   "outputs": [],
   "source": [
    "p1.info()"
   ]
  },
  {
   "cell_type": "code",
   "execution_count": null,
   "id": "18728144-1521-4f88-92ee-ea606a4222fc",
   "metadata": {},
   "outputs": [],
   "source": [
    "class Circle():\n",
    "    def __init__(self, r, point):\n",
    "        self.r = r\n",
    "        self.point = point\n",
    "\n",
    "    def info(self):\n",
    "        print(f'반지름 {self.point.x} 중심점:{self.point.x},{self.point.y}')"
   ]
  },
  {
   "cell_type": "code",
   "execution_count": null,
   "id": "de389ab3-9bd3-4332-b0c1-c4a1ec24d89c",
   "metadata": {},
   "outputs": [],
   "source": [
    "c1 = Circle(10,p1)\n",
    "c2 = Circle(5,p2)"
   ]
  },
  {
   "cell_type": "code",
   "execution_count": null,
   "id": "47d06fae-2f49-49f1-b90a-890a6d8333d0",
   "metadata": {},
   "outputs": [],
   "source": [
    "c1.info()"
   ]
  },
  {
   "cell_type": "code",
   "execution_count": null,
   "id": "a3d17b27-c10b-4753-b33c-81dc8413ad5e",
   "metadata": {},
   "outputs": [],
   "source": [
    "class Point():\n",
    "    def __init__(self, x, y):\n",
    "        self.x = x\n",
    "        self.y =y\n",
    "        \n",
    "    def info(self):\n",
    "        print(f'{self.x},{self.y}')"
   ]
  },
  {
   "cell_type": "code",
   "execution_count": null,
   "id": "dd44b549-790d-4e33-9189-e49ad4c8d986",
   "metadata": {},
   "outputs": [],
   "source": [
    "class Circle():\n",
    "    def __init__(self, r, point):\n",
    "        self.r = r\n",
    "        self.point = point\n",
    "\n",
    "    def info(self):\n",
    "        point = self.point\n",
    "        x = point.x\n",
    "        y = point.y\n",
    "        print(f'반지름 {self.r} 중심점:{x},{y}')"
   ]
  },
  {
   "cell_type": "code",
   "execution_count": null,
   "id": "48cd61d6-e478-4fc1-b84e-f77ccf310bc3",
   "metadata": {},
   "outputs": [],
   "source": [
    "c1 = Circle(10,p1)\n",
    "c2 = Circle(5,p2)"
   ]
  },
  {
   "cell_type": "code",
   "execution_count": null,
   "id": "0736cb19-a598-40b8-b627-2be7ea73fea2",
   "metadata": {},
   "outputs": [],
   "source": [
    "c1.info()"
   ]
  },
  {
   "cell_type": "markdown",
   "id": "e32921d3-0bf0-4e40-942e-5f0c2e2ef69c",
   "metadata": {},
   "source": [
    "## 클래스 변수 / 인스턴트 변수\n",
    "\n",
    "- 클래스 변수: 클래스 선언 블록 최상단에 위치\n",
    "- 인스턴스 변수: 인스턴스 내부에서 생성한 변수\n",
    "- ```python\n",
    "\n",
    "  class MyClass():\n",
    "      class_ variable = '클래스변수'\n",
    "\n",
    "\n",
    "  def __init__(self):\n",
    "     self.instance_variable = '인스턴스변수'\n",
    "  ```"
   ]
  },
  {
   "cell_type": "code",
   "execution_count": null,
   "id": "adfeb94b-52d2-44ef-b360-b64fdafa206e",
   "metadata": {},
   "outputs": [],
   "source": [
    "class Person():\n",
    "    name = 'hong'\n",
    "    age = 10\n",
    "\n",
    "    def __intit__(self, name):\n",
    "        self.name = name"
   ]
  },
  {
   "cell_type": "code",
   "execution_count": null,
   "id": "6e45dcd2-de50-4367-8c11-1fd4c5a51637",
   "metadata": {},
   "outputs": [],
   "source": [
    "p1 = Person('oh')\n",
    "print(p1.name)\n",
    "print(p1.age)"
   ]
  },
  {
   "cell_type": "code",
   "execution_count": null,
   "id": "809c3ca9-d094-491f-96f3-1fff9942074e",
   "metadata": {},
   "outputs": [],
   "source": []
  },
  {
   "cell_type": "code",
   "execution_count": null,
   "id": "790adc3c-05e4-41b8-8672-fb1939d516d7",
   "metadata": {},
   "outputs": [],
   "source": []
  },
  {
   "cell_type": "code",
   "execution_count": null,
   "id": "553c39f4-8792-47ec-998e-e6ce40496f16",
   "metadata": {},
   "outputs": [],
   "source": []
  },
  {
   "cell_type": "markdown",
   "id": "93e4bb9a-dead-43b9-b97a-4af3beed86d1",
   "metadata": {},
   "source": [
    "### 클래스 메소드/ 인스턴스 메소드 / 스태틱메소드"
   ]
  },
  {
   "cell_type": "markdown",
   "id": "918a9758-5cb1-489c-9513-ffed3b46707f",
   "metadata": {},
   "source": [
    "```python\n",
    "class MyClass():\n",
    "    def instance_method(self)    ->  () 는 instance 자기 자신을 말한\n",
    "    pass\n",
    "\n",
    "    @classmethod\n",
    "    def class_method(cls):        ->\n",
    "        pass        \n",
    "\n",
    "    @staticmethod\n",
    "    def static_method():         ->\n",
    "        pass\n",
    "                   \n",
    "\n",
    "\n",
    "\n",
    "````"
   ]
  },
  {
   "cell_type": "code",
   "execution_count": 31,
   "id": "4364da81-161c-46f4-b43a-d6db76041d3b",
   "metadata": {},
   "outputs": [],
   "source": [
    "class MyClass():\n",
    "    \n",
    "    def instance_method(self):\n",
    "        print(self)\n",
    "        \n",
    "    @classmethod\n",
    "    def class_method(cls):\n",
    "        print(cls)\n",
    "        \n",
    "    @staticmethod\n",
    "    def static_method():\n",
    "        print('static')\n",
    "\n",
    "\n",
    "  "
   ]
  },
  {
   "cell_type": "code",
   "execution_count": 32,
   "id": "117bb714-ccc1-4972-86b8-502490a5036e",
   "metadata": {},
   "outputs": [
    {
     "name": "stdout",
     "output_type": "stream",
     "text": [
      "<__main__.MyClass object at 0x108bbda90>\n",
      "<__main__.MyClass object at 0x108bbda90>\n"
     ]
    }
   ],
   "source": [
    "mc = MyClass()\n",
    "mc.instance_method()\n",
    "print(mc)"
   ]
  },
  {
   "cell_type": "code",
   "execution_count": null,
   "id": "50d0de49-e46c-47f8-ae6f-c3ed2072572e",
   "metadata": {},
   "outputs": [],
   "source": [
    "mc.class_mothod()"
   ]
  },
  {
   "cell_type": "code",
   "execution_count": 29,
   "id": "aff7a806-a83a-4023-a3b3-0acf9567c03c",
   "metadata": {},
   "outputs": [],
   "source": [
    "class Puppy():\n",
    "    num_of_puppy = 0 \n",
    "    \n",
    "\n",
    "    def __init__(self, name):\n",
    "        self.name = name\n",
    "        Puppy.num_of_puppy += 1\n",
    "\n",
    "\n",
    "    @classmethod\n",
    "    def info(cls):\n",
    "        print(f'현재 강아지는 {cls.num_of_puppy} 입니다.')\n",
    "\n",
    "    def bark(self):\n",
    "        print(f'멍멍{self.name}입니다.')\n",
    "\n",
    "    @staticmethod\n",
    "    def bark2():\n",
    "        print('왈왈')          ### 값이 필요하지 않고 독자적으로 일을 함 \n",
    "        "
   ]
  },
  {
   "cell_type": "code",
   "execution_count": 30,
   "id": "626f887a-673e-46bc-9516-c6d60213dda8",
   "metadata": {},
   "outputs": [
    {
     "name": "stdout",
     "output_type": "stream",
     "text": [
      "현재 강아지는 3 입니다.\n"
     ]
    }
   ],
   "source": [
    "p1 = Puppy('초코')\n",
    "p2 = Puppy('구름')\n",
    "p3 = Puppy('인절미')\n",
    "\n",
    "Puppy.info() "
   ]
  },
  {
   "cell_type": "code",
   "execution_count": 5,
   "id": "838c49af-dc5f-41ef-b85c-a087077150ac",
   "metadata": {},
   "outputs": [
    {
     "name": "stdout",
     "output_type": "stream",
     "text": [
      "멍멍초코입니다.\n",
      "멍멍구름입니다.\n"
     ]
    }
   ],
   "source": [
    "p1.bark()\n",
    "p2.bark()\n"
   ]
  },
  {
   "cell_type": "markdown",
   "id": "48039fec-5f92-486c-9e8b-5b34476fbb68",
   "metadata": {},
   "source": [
    "\n",
    "\n",
    "## 상속"
   ]
  },
  {
   "cell_type": "code",
   "execution_count": 16,
   "id": "3bceb26e-9c24-4af4-a0aa-b7e411ddb67a",
   "metadata": {},
   "outputs": [],
   "source": [
    "class Person():\n",
    "    ident = ''\n",
    "\n",
    "    def __init__(self, name):\n",
    "        self.name = name\n",
    "\n",
    "    def greeting(self):\n",
    "        print(f'안녕하세용{self.name}입니다.')"
   ]
  },
  {
   "cell_type": "code",
   "execution_count": 17,
   "id": "d16959e0-f16d-4f70-8914-52cc1d1846da",
   "metadata": {},
   "outputs": [],
   "source": [
    "p1 = Person('hong')\n",
    "p2 = Person('lim')"
   ]
  },
  {
   "cell_type": "code",
   "execution_count": 18,
   "id": "e44c0fb9-2f94-4d2a-be8d-8556375f587d",
   "metadata": {},
   "outputs": [
    {
     "name": "stdout",
     "output_type": "stream",
     "text": [
      "안녕하세용hong입니다.\n"
     ]
    }
   ],
   "source": [
    "p1.greeting()"
   ]
  },
  {
   "cell_type": "code",
   "execution_count": 22,
   "id": "4872ed0e-edc8-44b8-b71f-9d324a20c0e4",
   "metadata": {},
   "outputs": [],
   "source": [
    "p1.ident = '9999999'"
   ]
  },
  {
   "cell_type": "code",
   "execution_count": 27,
   "id": "e37c61f0-5d13-4e8a-88a6-ea85b971b9b8",
   "metadata": {},
   "outputs": [],
   "source": [
    "class Solder(Person):  #person이 가지고 있는 모든 정보를 넣어줌\n",
    "    def solder_greeting(self):\n",
    "        print(f'충성! {self.name}입니다!')"
   ]
  },
  {
   "cell_type": "code",
   "execution_count": 28,
   "id": "b7fb13fa-1147-46a8-945a-320263e29513",
   "metadata": {},
   "outputs": [
    {
     "name": "stdout",
     "output_type": "stream",
     "text": [
      "안녕하세용굳건이입니다.\n",
      "충성! 굳건이입니다!\n"
     ]
    }
   ],
   "source": [
    "s1 = Solder('굳건이')\n",
    "s1.greeting()\n",
    "s1.solder_greeting()    # 똑같은 이름으로 만들었다고 해도 내가 만든 것이 더 높다"
   ]
  },
  {
   "cell_type": "code",
   "execution_count": 23,
   "id": "202cbb51-8b04-40f5-b184-2198b16a1de8",
   "metadata": {},
   "outputs": [
    {
     "data": {
      "text/plain": [
       "'25-12341234'"
      ]
     },
     "execution_count": 23,
     "metadata": {},
     "output_type": "execute_result"
    }
   ],
   "source": [
    "s1.ident = '25-12341234'\n",
    "s1.ident"
   ]
  },
  {
   "cell_type": "code",
   "execution_count": 94,
   "id": "087265e6-a923-49c4-b375-0cebe624e775",
   "metadata": {},
   "outputs": [],
   "source": [
    "class Person():\n",
    "    def __init__(self, name , age, email, phone):\n",
    "        self.name = name\n",
    "        self.age = age\n",
    "        self.email = email\n",
    "        self.phone = phone\n",
    "\n",
    "\n",
    "    \n",
    "# class Student(Person):\n",
    "#     def __init__(self, name , age, email, phone, student_id):\n",
    "        \n",
    "#         # self.name = name\n",
    "#         # self.age = age\n",
    "#         # self.email = email\n",
    "#         # self.phone = phone\n",
    "#         super().__init__(name , age, email, phone) #부모 클래스가 가지고 있는 init을 실행해쥬\n",
    "#          self.student_id = student_id\n",
    "\n",
    "        #super가 상속이네,,, 잘만들어 놓은거 잘쓰겠삼유\n",
    "        \n",
    "    "
   ]
  },
  {
   "cell_type": "markdown",
   "id": "e6a0350b-458f-4d3f-b902-280a3ef89ce5",
   "metadata": {},
   "source": [
    "### 다중상속, 다이아몬드 상속\n"
   ]
  },
  {
   "cell_type": "code",
   "execution_count": 41,
   "id": "7972f941-4c48-471f-8aba-95f55cb3a192",
   "metadata": {},
   "outputs": [],
   "source": [
    "class Person():\n",
    "    def __init__(self, name):\n",
    "        self.name = name\n",
    "\n",
    "    def breath(self):\n",
    "        print('후하')"
   ]
  },
  {
   "cell_type": "code",
   "execution_count": 42,
   "id": "fa2d3fb7-a2a9-4038-9cf4-439188b41dff",
   "metadata": {},
   "outputs": [],
   "source": [
    "class Mom(Person):\n",
    "    gene = 'xx'\n",
    "\n",
    "    def swim(self):\n",
    "        print('어푸어푸')\n",
    "\n"
   ]
  },
  {
   "cell_type": "code",
   "execution_count": 43,
   "id": "4b407368-0647-40ef-b0bc-897c9c584b01",
   "metadata": {},
   "outputs": [],
   "source": [
    "class Dad(Person):\n",
    "    gene = 'xy'\n",
    "    def run(self):\n",
    "        print('슝')"
   ]
  },
  {
   "cell_type": "code",
   "execution_count": 44,
   "id": "1c09c4a9-8a1a-4505-98d3-5184981ee460",
   "metadata": {},
   "outputs": [],
   "source": [
    "class Child(Mom,Dad):\n",
    "    pass\n",
    "    "
   ]
  },
  {
   "cell_type": "code",
   "execution_count": 45,
   "id": "5a9c093e-04e1-4a10-9cd2-6ae7afaf176d",
   "metadata": {},
   "outputs": [
    {
     "name": "stdout",
     "output_type": "stream",
     "text": [
      "후하\n",
      "슝\n",
      "어푸어푸\n"
     ]
    }
   ],
   "source": [
    "c = Child('쪽쪽이')\n",
    "c.breath()\n",
    "c.run()\n",
    "c.swim()"
   ]
  },
  {
   "cell_type": "code",
   "execution_count": 46,
   "id": "cc0a64c9-ec07-4a83-aab9-2d537be3b486",
   "metadata": {},
   "outputs": [
    {
     "data": {
      "text/plain": [
       "'xx'"
      ]
     },
     "execution_count": 46,
     "metadata": {},
     "output_type": "execute_result"
    }
   ],
   "source": [
    "c.gene   #엄마랑 아빠랑 위치를 바꿔서 쓰면 아빠의 젠더 정보가 더 빨리 온다"
   ]
  },
  {
   "cell_type": "code",
   "execution_count": 64,
   "id": "a1225f1c-7a25-4f09-96ee-fc11aedf663d",
   "metadata": {
    "jupyter": {
     "source_hidden": true
    }
   },
   "outputs": [],
   "source": [
    "\n",
    "\n",
    "#class 연습해보기 \n",
    "\n",
    "\n",
    "class CarRace():\n",
    "    def __init__(self,name, brand ,time, distance = 2000 ):\n",
    "        \n",
    "        self.name = name\n",
    "        self.brand = brand\n",
    "        self.time  = time\n",
    "        self.distance = distance\n",
    "        self.speed = distance / time\n",
    "\n",
    "    def recode(self):\n",
    "          print(f'{self.brand}의{self.name}의 기록은  {self.speed} 입니다.' )\n",
    "\n",
    "\n",
    "    \n",
    "        \n",
    "    \n",
    "    # def self_out(self):\n",
    "    #     return self.distance == 0\n",
    "    #     print('탈락 입니다')\n"
   ]
  },
  {
   "cell_type": "code",
   "execution_count": 65,
   "id": "39a7fdf1-11c4-455a-83da-88279d5703bb",
   "metadata": {},
   "outputs": [],
   "source": [
    "continental_gt = CarRace('컨디넨탈', 'bentley', 230 )\n",
    "tourbillion = CarRace('투르비뇽','bugatti', 110)"
   ]
  },
  {
   "cell_type": "code",
   "execution_count": 66,
   "id": "f567c270-5fd4-4d28-9a1c-9e79fa544df2",
   "metadata": {},
   "outputs": [
    {
     "name": "stdout",
     "output_type": "stream",
     "text": [
      "bentley의컨디넨탈의 기록은  8.695652173913043 입니다.\n"
     ]
    }
   ],
   "source": [
    "continental_gt.recode()"
   ]
  },
  {
   "cell_type": "code",
   "execution_count": 88,
   "id": "e7d54abc-1052-4110-945e-65adceda1473",
   "metadata": {},
   "outputs": [
    {
     "name": "stdout",
     "output_type": "stream",
     "text": [
      "두구두구 경기 결과!\n",
      "bentley의컨디넨탈의 기록은  1382.17000691085 입니다.\n",
      "bugatti의투르비뇽의 기록은  21.109516169889385 입니다.\n",
      "the winner is tourbillion \n"
     ]
    }
   ],
   "source": [
    "import math\n",
    "import random\n",
    "\n",
    "class CarRace():\n",
    "    def __init__(self, name, brand , distance = 2000 ):\n",
    "        time = round(random.uniform(1, 100), 3)\n",
    "        self.name = name\n",
    "        self.brand = brand\n",
    "        self.time  = time\n",
    "        self.distance = distance\n",
    "        self.speed = distance / time\n",
    "\n",
    "    def recode(self):\n",
    "          print(f'{self.brand}의{self.name}의 기록은  {self.speed} 입니다.' )\n",
    "\n",
    "\n",
    "continental_gt = CarRace('컨디넨탈', 'bentley' )\n",
    "tourbillion = CarRace('투르비뇽','bugatti')\n",
    "\n",
    "print('두구두구 경기 결과!')\n",
    "\n",
    "continental_gt.recode()\n",
    "tourbillion.recode()\n",
    "\n",
    "\n",
    "\n",
    "if continental_gt.speed < tourbillion.speed:\n",
    "    print(('the winner is continental_gt' ))\n",
    "elif continental_gt.speed == tourbillion.speed:\n",
    "    print('again')\n",
    "else:\n",
    "    print('the winner is tourbillion ')\n",
    "    \n"
   ]
  },
  {
   "cell_type": "code",
   "execution_count": 91,
   "id": "48594c7a-c772-449e-b89a-286d52d2f55c",
   "metadata": {},
   "outputs": [
    {
     "ename": "SyntaxError",
     "evalue": "positional argument follows keyword argument (263709435.py, line 3)",
     "output_type": "error",
     "traceback": [
      "\u001b[0;36m  Cell \u001b[0;32mIn[91], line 3\u001b[0;36m\u001b[0m\n\u001b[0;31m    super().__init__(self, name, brand , distance = 2000, year)\u001b[0m\n\u001b[0m                                                              ^\u001b[0m\n\u001b[0;31mSyntaxError\u001b[0m\u001b[0;31m:\u001b[0m positional argument follows keyword argument\n"
     ]
    }
   ],
   "source": [
    "class NC(CarRace):\n",
    "    \n",
    "    "
   ]
  },
  {
   "cell_type": "code",
   "execution_count": 95,
   "id": "961f842f-1f17-4aec-938d-b6b5c8c644af",
   "metadata": {},
   "outputs": [],
   "source": [
    "\n",
    "    class Student(Person):\n",
    "        def __init__(self, name, age, email, phone, student_id):\n",
    "            super().__init__(name, age, email, phone)\n",
    "            self.student_id = student_id"
   ]
  },
  {
   "cell_type": "code",
   "execution_count": null,
   "id": "a07368bb-ed34-4467-9c02-9250ef0e2d49",
   "metadata": {},
   "outputs": [],
   "source": []
  }
 ],
 "metadata": {
  "kernelspec": {
   "display_name": "Python 3 (ipykernel)",
   "language": "python",
   "name": "python3"
  },
  "language_info": {
   "codemirror_mode": {
    "name": "ipython",
    "version": 3
   },
   "file_extension": ".py",
   "mimetype": "text/x-python",
   "name": "python",
   "nbconvert_exporter": "python",
   "pygments_lexer": "ipython3",
   "version": "3.13.2"
  }
 },
 "nbformat": 4,
 "nbformat_minor": 5
}
