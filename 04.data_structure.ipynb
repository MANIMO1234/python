{
 "cells": [
  {
   "cell_type": "markdown",
   "id": "fa9ba813-07ad-41bd-8ff4-d9069b79af2c",
   "metadata": {},
   "source": [
    "# 자료구조\n",
    "- 여러가지 자료구조가 가지고 있는 메소드(함수) 알아보기\n",
    "- "
   ]
  },
  {
   "cell_type": "code",
   "execution_count": 1,
   "id": "37ca5e26-e300-42ed-b726-5648d7d84773",
   "metadata": {},
   "outputs": [
    {
     "name": "stdout",
     "output_type": "stream",
     "text": [
      "['__add__', '__class__', '__contains__', '__delattr__', '__dir__', '__doc__', '__eq__', '__format__', '__ge__', '__getattribute__', '__getitem__', '__getnewargs__', '__getstate__', '__gt__', '__hash__', '__init__', '__init_subclass__', '__iter__', '__le__', '__len__', '__lt__', '__mod__', '__mul__', '__ne__', '__new__', '__reduce__', '__reduce_ex__', '__repr__', '__rmod__', '__rmul__', '__setattr__', '__sizeof__', '__str__', '__subclasshook__', 'capitalize', 'casefold', 'center', 'count', 'encode', 'endswith', 'expandtabs', 'find', 'format', 'format_map', 'index', 'isalnum', 'isalpha', 'isascii', 'isdecimal', 'isdigit', 'isidentifier', 'islower', 'isnumeric', 'isprintable', 'isspace', 'istitle', 'isupper', 'join', 'ljust', 'lower', 'lstrip', 'maketrans', 'partition', 'removeprefix', 'removesuffix', 'replace', 'rfind', 'rindex', 'rjust', 'rpartition', 'rsplit', 'rstrip', 'split', 'splitlines', 'startswith', 'strip', 'swapcase', 'title', 'translate', 'upper', 'zfill']\n"
     ]
    }
   ],
   "source": [
    "print(dir ('hello'))"
   ]
  },
  {
   "cell_type": "markdown",
   "id": "76ea6e7d-07fb-4d51-bff5-317aaeed4959",
   "metadata": {},
   "source": [
    "## 문자열 메소드 "
   ]
  },
  {
   "cell_type": "code",
   "execution_count": 2,
   "id": "8e80430c-6d91-4659-a870-f133eff14377",
   "metadata": {},
   "outputs": [],
   "source": [
    "a = 'hello my name is m'"
   ]
  },
  {
   "cell_type": "code",
   "execution_count": 3,
   "id": "e1a97ddf-e620-42ff-8a5c-6953cb3efaca",
   "metadata": {},
   "outputs": [
    {
     "name": "stdout",
     "output_type": "stream",
     "text": [
      "hello my name is m\n"
     ]
    }
   ],
   "source": [
    "print(a)"
   ]
  },
  {
   "cell_type": "code",
   "execution_count": 5,
   "id": "6eede49b-e5ff-4c22-85ce-0ea990ccdec8",
   "metadata": {},
   "outputs": [],
   "source": [
    "a = a.capitalize() # 대문자로 바뀜 / 함수라서 return이 되는 거임 "
   ]
  },
  {
   "cell_type": "code",
   "execution_count": 6,
   "id": "0401fffd-9b31-4f78-adf8-efd7b62b1e0b",
   "metadata": {},
   "outputs": [
    {
     "name": "stdout",
     "output_type": "stream",
     "text": [
      "Hello my name is m\n"
     ]
    }
   ],
   "source": [
    "print(a)"
   ]
  },
  {
   "cell_type": "code",
   "execution_count": 7,
   "id": "4517ec13-d1c1-4972-ba9f-879db8f51822",
   "metadata": {},
   "outputs": [
    {
     "data": {
      "text/plain": [
       "'Hello My Name Is M'"
      ]
     },
     "execution_count": 7,
     "metadata": {},
     "output_type": "execute_result"
    }
   ],
   "source": [
    "a.title()  # 각각의 단어들을 대문자"
   ]
  },
  {
   "cell_type": "code",
   "execution_count": 8,
   "id": "7f84feb3-4468-4028-a7b7-7d589874cd0a",
   "metadata": {},
   "outputs": [
    {
     "data": {
      "text/plain": [
       "'hello my name is m'"
      ]
     },
     "execution_count": 8,
     "metadata": {},
     "output_type": "execute_result"
    }
   ],
   "source": [
    "a.lower()"
   ]
  },
  {
   "cell_type": "code",
   "execution_count": 9,
   "id": "8228cd42-b133-4f47-ba30-79bc021b06de",
   "metadata": {},
   "outputs": [
    {
     "data": {
      "text/plain": [
       "'HELLO MY NAME IS M'"
      ]
     },
     "execution_count": 9,
     "metadata": {},
     "output_type": "execute_result"
    }
   ],
   "source": [
    "a.upper()"
   ]
  },
  {
   "cell_type": "code",
   "execution_count": 10,
   "id": "28f601a4-8fed-43da-a897-f9ac9a150bbf",
   "metadata": {},
   "outputs": [
    {
     "data": {
      "text/plain": [
       "'my!name!is'"
      ]
     },
     "execution_count": 10,
     "metadata": {},
     "output_type": "execute_result"
    }
   ],
   "source": [
    "my_list =['my', 'name' , 'is'] \n",
    "'!'.join(my_list)  #!f를 기준으로 하나로 합쳐지는 것이다"
   ]
  },
  {
   "cell_type": "code",
   "execution_count": 11,
   "id": "0be96edb-989d-4f43-9086-08f7ece829ba",
   "metadata": {},
   "outputs": [
    {
     "data": {
      "text/plain": [
       "'배?고?프?다'"
      ]
     },
     "execution_count": 11,
     "metadata": {},
     "output_type": "execute_result"
    }
   ],
   "source": [
    "'?'.join('배고프다')  # 시퀀스 형태의 데이터이기 때문에 배 ?고? ,, 식으로 되어 있음 str이라는 자료"
   ]
  },
  {
   "cell_type": "code",
   "execution_count": null,
   "id": "0f8cdb71-254c-434d-9dfe-3f32ccb1dbd6",
   "metadata": {},
   "outputs": [],
   "source": []
  },
  {
   "cell_type": "code",
   "execution_count": 15,
   "id": "b7b23b38-fc52-4ed1-b2f4-8fb645dcfead",
   "metadata": {},
   "outputs": [
    {
     "name": "stdout",
     "output_type": "stream",
     "text": [
      "26\n"
     ]
    },
    {
     "data": {
      "text/plain": [
       "'hello'"
      ]
     },
     "execution_count": 15,
     "metadata": {},
     "output_type": "execute_result"
    }
   ],
   "source": [
    "a = '        hello            \\n'\n",
    "print(len(a))\n",
    "a.strip()     # 띄어스기 , 줄 건너 띄기 , tap도 지워주는 메소드"
   ]
  },
  {
   "cell_type": "code",
   "execution_count": 16,
   "id": "e7a88f1b-cffc-437a-9ffa-8f059320ae72",
   "metadata": {},
   "outputs": [
    {
     "data": {
      "text/plain": [
       "'hello????????????'"
      ]
     },
     "execution_count": 16,
     "metadata": {},
     "output_type": "execute_result"
    }
   ],
   "source": [
    "a =  '!!!!!!!!!!!!!!!!!hello????????????'\n",
    "a.strip('!')"
   ]
  },
  {
   "cell_type": "code",
   "execution_count": 18,
   "id": "6292c528-bd63-4f63-abf6-b4eb90501c15",
   "metadata": {},
   "outputs": [
    {
     "data": {
      "text/plain": [
       "'!!!!!!!!!!!!!!!!!hello'"
      ]
     },
     "execution_count": 18,
     "metadata": {},
     "output_type": "execute_result"
    }
   ],
   "source": [
    "a.strip('?')"
   ]
  },
  {
   "cell_type": "code",
   "execution_count": 24,
   "id": "0956f13a-ef5b-4130-88b9-b9192866cd04",
   "metadata": {},
   "outputs": [
    {
     "data": {
      "text/plain": [
       "'hello-----'"
      ]
     },
     "execution_count": 24,
     "metadata": {},
     "output_type": "execute_result"
    }
   ],
   "source": [
    "a = '-----hello-----'\n",
    "a.rstrip('-')\n",
    "a.lstrip('-')"
   ]
  },
  {
   "cell_type": "code",
   "execution_count": 28,
   "id": "45341208-89ff-43c9-8987-4ccd7b7c0c93",
   "metadata": {},
   "outputs": [
    {
     "data": {
      "text/plain": [
       "'w!!!oooooooooooow'"
      ]
     },
     "execution_count": 28,
     "metadata": {},
     "output_type": "execute_result"
    }
   ],
   "source": [
    "a = 'wooooooooooooooow'   #원하는 철자를 바꾸게 되 \n",
    "a.replace('o','!' , 3)  # 이 과정을 몇번이나 할지 "
   ]
  },
  {
   "cell_type": "code",
   "execution_count": 32,
   "id": "c6b39f4a-84d6-4e08-aa1d-052a85a98bb6",
   "metadata": {},
   "outputs": [
    {
     "data": {
      "text/plain": [
       "-1"
      ]
     },
     "execution_count": 32,
     "metadata": {},
     "output_type": "execute_result"
    }
   ],
   "source": [
    "a = 'apple'\n",
    "a.find('a')  # a = 0\n",
    "a.find('l') # l = 3  >> 인덱스를 출력 해줌\n",
    "a.find('p') # 동일 한 것이 있을 때는 가장 가까이 있는 곳 \n",
    "a.find('z')   # -1 이것은 여기에 읍써요ㅗㅗ "
   ]
  },
  {
   "cell_type": "code",
   "execution_count": 34,
   "id": "2895a3f9-b070-4bd7-84bc-0d69d3bbf771",
   "metadata": {},
   "outputs": [
    {
     "ename": "ValueError",
     "evalue": "substring not found",
     "output_type": "error",
     "traceback": [
      "\u001b[0;31m---------------------------------------------------------------------------\u001b[0m",
      "\u001b[0;31mValueError\u001b[0m                                Traceback (most recent call last)",
      "Cell \u001b[0;32mIn[34], line 3\u001b[0m\n\u001b[1;32m      1\u001b[0m a \u001b[38;5;241m=\u001b[39m \u001b[38;5;124m'\u001b[39m\u001b[38;5;124mapple\u001b[39m\u001b[38;5;124m'\u001b[39m\n\u001b[1;32m      2\u001b[0m a\u001b[38;5;241m.\u001b[39mindex(\u001b[38;5;124m'\u001b[39m\u001b[38;5;124ma\u001b[39m\u001b[38;5;124m'\u001b[39m)\n\u001b[0;32m----> 3\u001b[0m \u001b[43ma\u001b[49m\u001b[38;5;241;43m.\u001b[39;49m\u001b[43mindex\u001b[49m\u001b[43m(\u001b[49m\u001b[38;5;124;43m'\u001b[39;49m\u001b[38;5;124;43mz\u001b[39;49m\u001b[38;5;124;43m'\u001b[39;49m\u001b[43m)\u001b[49m\n",
      "\u001b[0;31mValueError\u001b[0m: substring not found"
     ]
    }
   ],
   "source": [
    "a = 'apple'\n",
    "a.index('a') #위와 동일한 것으로 알 수 있습니둥둥 \n",
    "a.index('z') #error: 에러가 발생 / index는  -1이 가장 뒤에 있는 값이다 "
   ]
  },
  {
   "cell_type": "code",
   "execution_count": 35,
   "id": "1e790e24-23fb-4d73-bad8-4212a9769894",
   "metadata": {},
   "outputs": [
    {
     "data": {
      "text/plain": [
       "['my', 'name', 'is', 'mmm']"
      ]
     },
     "execution_count": 35,
     "metadata": {},
     "output_type": "execute_result"
    }
   ],
   "source": [
    "a = 'my name is mmm'\n",
    "a. split()"
   ]
  },
  {
   "cell_type": "code",
   "execution_count": 40,
   "id": "2e09de94-de20-4a08-8de9-cc1a7ea1eb4c",
   "metadata": {},
   "outputs": [],
   "source": [
    "a = 'my! name! is! m'"
   ]
  },
  {
   "cell_type": "code",
   "execution_count": 41,
   "id": "04e3989d-936b-45be-b2a6-a0bc32c8b345",
   "metadata": {},
   "outputs": [
    {
     "data": {
      "text/plain": [
       "['my', ' name', ' is', ' m']"
      ]
     },
     "execution_count": 41,
     "metadata": {},
     "output_type": "execute_result"
    }
   ],
   "source": [
    "a.split('!')"
   ]
  },
  {
   "cell_type": "code",
   "execution_count": 42,
   "id": "e7e375a7-3f30-4b7f-8b0e-ca1b592a29d4",
   "metadata": {},
   "outputs": [],
   "source": [
    "a = 'wsfoooooooooooooow'"
   ]
  },
  {
   "cell_type": "code",
   "execution_count": 43,
   "id": "c777234a-6183-4378-bf7b-4d34a3adbebe",
   "metadata": {},
   "outputs": [
    {
     "data": {
      "text/plain": [
       "14"
      ]
     },
     "execution_count": 43,
     "metadata": {},
     "output_type": "execute_result"
    }
   ],
   "source": [
    "a.count('o')"
   ]
  },
  {
   "cell_type": "markdown",
   "id": "f36bb2dd-36e4-46fa-8519-e762b38bc2c4",
   "metadata": {},
   "source": [
    "## 리스트 메소드"
   ]
  },
  {
   "cell_type": "code",
   "execution_count": 45,
   "id": "31ea5d70-ab56-489c-b1d5-8de8cd73f71b",
   "metadata": {},
   "outputs": [],
   "source": [
    "numbers= [2, 3, 4, 5, 6, 6, 10]"
   ]
  },
  {
   "cell_type": "code",
   "execution_count": 47,
   "id": "58ad3c5c-0d0f-4ff3-b334-6489518130c8",
   "metadata": {},
   "outputs": [
    {
     "name": "stdout",
     "output_type": "stream",
     "text": [
      "[2, 3, 4, 5, 6, 6, 10, 10, 8]\n"
     ]
    }
   ],
   "source": [
    "numbers.append(8)  # 맨 마지막에 데이터로 들어 온다 / 스택 , \n",
    "print (numbers)"
   ]
  },
  {
   "cell_type": "code",
   "execution_count": 48,
   "id": "7569f027-512e-492d-ae66-6c9b0bcc8b5d",
   "metadata": {},
   "outputs": [],
   "source": [
    "a = [99, 100]"
   ]
  },
  {
   "cell_type": "code",
   "execution_count": 50,
   "id": "b58e92fc-9ba2-4b52-ba40-acc76df855ae",
   "metadata": {},
   "outputs": [
    {
     "name": "stdout",
     "output_type": "stream",
     "text": [
      "[2, 3, 4, 5, 6, 6, 10, 10, 8, 99, 100, 99, 100]\n"
     ]
    }
   ],
   "source": [
    "numbers.extend(a)  ### >> numbers + a >> 연결이랑 관련 있는 듯욤\n",
    "print(numbers)"
   ]
  },
  {
   "cell_type": "code",
   "execution_count": 53,
   "id": "d1266207-bf74-410a-baed-2b979371f7ac",
   "metadata": {},
   "outputs": [
    {
     "name": "stdout",
     "output_type": "stream",
     "text": [
      "[2, 3, 4, 55, 5, 6, 6, 10, 10, 8, 99, 100, 99, 100, 5]\n"
     ]
    }
   ],
   "source": [
    "numbers.insert(3, 55)   # 3번째에 숫자 5를 집어 넣겠습니다.\n",
    "print(numbers)"
   ]
  },
  {
   "cell_type": "code",
   "execution_count": 56,
   "id": "b9f5be04-9269-4442-91f5-d1518c2918b6",
   "metadata": {},
   "outputs": [
    {
     "name": "stdout",
     "output_type": "stream",
     "text": [
      "[2, 3, 4, 55, 5, 6, 6, 10, 10, 99, 99, 100, 5]\n"
     ]
    }
   ],
   "source": [
    "numbers.remove(100)        # 첫번 째 x를 찾아서 제거하고 , 없으면 오류\n",
    "print(numbers)"
   ]
  },
  {
   "cell_type": "code",
   "execution_count": 57,
   "id": "34f09a18-6aed-43c5-9dc7-debac35fddae",
   "metadata": {},
   "outputs": [
    {
     "name": "stdout",
     "output_type": "stream",
     "text": [
      "[2, 3, 4, 55, 5, 6, 6, 10, 10, 99, 99, 100]\n"
     ]
    }
   ],
   "source": [
    "numbers.pop()   #> 맨 마지막 데이터를 제거 할 때 사용 한다 . \n",
    "print(numbers)"
   ]
  },
  {
   "cell_type": "code",
   "execution_count": null,
   "id": "b420637d-bed3-4a7a-a891-5331d5937807",
   "metadata": {},
   "outputs": [],
   "source": [
    "## queue: 선입 선출  \n",
    "# 파이썬은 스택 구조를 취함 "
   ]
  },
  {
   "cell_type": "code",
   "execution_count": 58,
   "id": "66367ea1-7b31-4e52-bfc5-29d9f1336de4",
   "metadata": {},
   "outputs": [
    {
     "name": "stdout",
     "output_type": "stream",
     "text": [
      "[3, 4, 55, 5, 6, 6, 10, 10, 99, 99, 100]\n"
     ]
    }
   ],
   "source": [
    "numbers.pop(0)   #-> 의도적으로 맨 앞의 데이터를 제거 , 0이 없는 경우는 맨 뒤에 있는 데이터를 제거 \n",
    "print(numbers)"
   ]
  },
  {
   "cell_type": "code",
   "execution_count": 59,
   "id": "74da2dc6-c164-428b-b4a4-50ff69ac5b7e",
   "metadata": {},
   "outputs": [
    {
     "name": "stdout",
     "output_type": "stream",
     "text": [
      "[3, 4, 5, 6, 6, 10, 10, 55, 99, 99, 100]\n"
     ]
    }
   ],
   "source": [
    "numbers.sort()   # 정렬하다 \n",
    "print(numbers)"
   ]
  },
  {
   "cell_type": "code",
   "execution_count": 61,
   "id": "52aa0e43-da8e-4e06-b938-b770133c4c53",
   "metadata": {},
   "outputs": [
    {
     "name": "stdout",
     "output_type": "stream",
     "text": [
      "[100, 99, 99, 55, 10, 10, 6, 6, 5, 4, 3]\n"
     ]
    }
   ],
   "source": [
    "numbers.sort(reverse=True)\n",
    "print(numbers)"
   ]
  },
  {
   "cell_type": "code",
   "execution_count": 64,
   "id": "826a229c-6cb9-40b5-a7a8-29256acea951",
   "metadata": {},
   "outputs": [
    {
     "name": "stdout",
     "output_type": "stream",
     "text": [
      "[2, 3, 5, 6, 9.0]\n",
      "[5, 3, 2, 6, 9.0]\n"
     ]
    }
   ],
   "source": [
    "a = [5,3,2,6,9.0]\n",
    "print(sorted(a))\n",
    "print(a)"
   ]
  },
  {
   "cell_type": "code",
   "execution_count": 65,
   "id": "d3b493d1-c74b-4dd7-aa02-a2e4cf56c480",
   "metadata": {},
   "outputs": [
    {
     "name": "stdout",
     "output_type": "stream",
     "text": [
      "['a', 'b', 'e', 'o', 'z']\n"
     ]
    }
   ],
   "source": [
    "my_list = ['a', 'e', 'z', 'b', 'o']\n",
    "my_list.sort()\n",
    "print(my_list)"
   ]
  },
  {
   "cell_type": "code",
   "execution_count": 66,
   "id": "0248646d-82f6-4dc3-81fe-d3a620d252ee",
   "metadata": {},
   "outputs": [
    {
     "name": "stdout",
     "output_type": "stream",
     "text": [
      "[100, 99, 99, 55, 10, 10, 6, 6, 5, 4, 3]\n",
      "[3, 4, 5, 6, 6, 10, 10, 55, 99, 99, 100]\n"
     ]
    }
   ],
   "source": [
    "print(numbers)\n",
    "numbers.reverse()\n",
    "print(numbers)"
   ]
  },
  {
   "cell_type": "code",
   "execution_count": 68,
   "id": "0adce9d4-d2e1-4c8f-b143-852afe7e034e",
   "metadata": {},
   "outputs": [
    {
     "data": {
      "text/plain": [
       "2"
      ]
     },
     "execution_count": 68,
     "metadata": {},
     "output_type": "execute_result"
    }
   ],
   "source": [
    "numbers.count(6)"
   ]
  },
  {
   "cell_type": "markdown",
   "id": "97dca89d-ec20-47b6-9d6a-f0a8c54dfaf7",
   "metadata": {},
   "source": [
    "## list copy"
   ]
  },
  {
   "cell_type": "code",
   "execution_count": 70,
   "id": "c167684c-08ad-4ff9-b5d4-5a5530d26ef4",
   "metadata": {},
   "outputs": [],
   "source": [
    "origin_list = [1, 2, 3]\n",
    "copy_list = origin_list"
   ]
  },
  {
   "cell_type": "code",
   "execution_count": 71,
   "id": "3ce4eaaa-5b73-4e23-8d85-929c7335690d",
   "metadata": {},
   "outputs": [
    {
     "name": "stdout",
     "output_type": "stream",
     "text": [
      "[1, 2, 3]\n",
      "[1, 2, 3]\n"
     ]
    }
   ],
   "source": [
    "print(origin_list)\n",
    "print(copy_list)"
   ]
  },
  {
   "cell_type": "code",
   "execution_count": 72,
   "id": "d7e6d862-9ad8-4079-ba94-6ab7215f9062",
   "metadata": {},
   "outputs": [
    {
     "name": "stdout",
     "output_type": "stream",
     "text": [
      "[100, 2, 3]\n",
      "[100, 2, 3]\n"
     ]
    }
   ],
   "source": [
    "copy_list[0] = 100 \n",
    "print(origin_list)\n",
    "print(copy_list)"
   ]
  },
  {
   "cell_type": "code",
   "execution_count": 73,
   "id": "6544453a-4565-409b-90cc-bd6d1506aa48",
   "metadata": {},
   "outputs": [
    {
     "name": "stdout",
     "output_type": "stream",
     "text": [
      "[1, 2, 3]\n",
      "[100, 2, 3]\n"
     ]
    }
   ],
   "source": [
    "origin_list = [1, 2, 3]\n",
    "copy_list = origin_list[:]  -> #그 데이터 자체에 접근 하여 , 해당 데이터만 변경\n",
    "\n",
    "copy_list[0] = 100\n",
    "\n",
    "print(origin_list)\n",
    "print(copy_list)"
   ]
  },
  {
   "cell_type": "code",
   "execution_count": 75,
   "id": "cf67040c-b656-4d08-9f3c-8eaba438b6f3",
   "metadata": {},
   "outputs": [
    {
     "name": "stdout",
     "output_type": "stream",
     "text": [
      "[1, 2, [-10, 11]]\n",
      "[100, 2, [-10, 11]]\n"
     ]
    }
   ],
   "source": [
    "o_l = [1, 2 ,[10, 11]]\n",
    "c_l = o_l[:]\n",
    "\n",
    "c_l[0] = 100\n",
    "o_l[2][0] = -10\n",
    "\n",
    "print(o_l)\n",
    "print(c_l)"
   ]
  },
  {
   "cell_type": "code",
   "execution_count": 76,
   "id": "dfee15e8-3d50-4690-ae53-5f12a8a2b3dc",
   "metadata": {},
   "outputs": [
    {
     "name": "stdout",
     "output_type": "stream",
     "text": [
      "[1, 2, [10, 11]]\n",
      "[100, 2, [10, -11]]\n"
     ]
    }
   ],
   "source": [
    "import copy\n",
    "\n",
    "o_l = [1, 2 ,[10, 11]]\n",
    "c_l = copy.deepcopy(o_l)\n",
    "\n",
    "c_l[0] = 100\n",
    "c_l[2][1] = -11\n",
    "\n",
    "\n",
    "print(o_l)\n",
    "print(c_l)"
   ]
  },
  {
   "cell_type": "markdown",
   "id": "c76d6059-9369-418d-8ef4-340b9ee4501f",
   "metadata": {},
   "source": [
    "## list comprehension"
   ]
  },
  {
   "cell_type": "code",
   "execution_count": 78,
   "id": "4c84d463-6628-43fc-ba2e-bd1f40137057",
   "metadata": {},
   "outputs": [
    {
     "name": "stdout",
     "output_type": "stream",
     "text": [
      "[1, 2, 3, 4, 5, 6, 7, 8, 9, 10]\n"
     ]
    }
   ],
   "source": [
    "numbers = list(range(1,11))\n",
    "print(numbers)"
   ]
  },
  {
   "cell_type": "code",
   "execution_count": 80,
   "id": "b093611f-391a-415d-a23d-e7eccc22503f",
   "metadata": {},
   "outputs": [
    {
     "name": "stdout",
     "output_type": "stream",
     "text": [
      "[1, 8, 27, 64, 125, 216, 343, 512, 729, 1000]\n"
     ]
    }
   ],
   "source": [
    "result = []\n",
    "\n",
    "for number in numbers:\n",
    "    temp = number ** 3\n",
    "    result.append(temp)\n",
    "\n",
    "print(result)"
   ]
  },
  {
   "cell_type": "code",
   "execution_count": 81,
   "id": "f9a087cb-68e0-43ad-9380-a9d567509a17",
   "metadata": {},
   "outputs": [
    {
     "name": "stdout",
     "output_type": "stream",
     "text": [
      "[1, 8, 27, 64, 125, 216, 343, 512, 729, 1000]\n"
     ]
    }
   ],
   "source": [
    "result = [number ** 3 for number in numbers ]\n",
    "\n",
    "#result =[number1**3, number2**3.....]\n",
    "#for문의 앞과 뒤로 나누어 끊어 읽는다 \n",
    "\n",
    "print(result)"
   ]
  },
  {
   "cell_type": "code",
   "execution_count": null,
   "id": "552e8b5d-3863-46f8-9be0-bd2c3698922d",
   "metadata": {},
   "outputs": [],
   "source": [
    "# 짝수만 고르기 "
   ]
  },
  {
   "cell_type": "code",
   "execution_count": 82,
   "id": "177ec865-ef45-4567-b6d0-3c9a520c37a2",
   "metadata": {},
   "outputs": [
    {
     "name": "stdout",
     "output_type": "stream",
     "text": [
      "[1, 2, 3, 4, 5, 6, 7, 8, 9, 10, 11, 12, 13, 14, 15, 16, 17, 18, 19, 20, 21, 22, 23, 24, 25, 26, 27, 28, 29, 30]\n"
     ]
    }
   ],
   "source": [
    "numbers = list(range(1,31))\n",
    "print(numbers)"
   ]
  },
  {
   "cell_type": "code",
   "execution_count": 85,
   "id": "a4a11a3c-59bd-41c5-b653-de7cb0b07199",
   "metadata": {},
   "outputs": [
    {
     "name": "stdout",
     "output_type": "stream",
     "text": [
      "[1, 2, 3, 4, 5, 6, 7, 8, 9, 10, 11, 12, 13, 14, 15, 16, 17, 18, 19, 20, 21, 22, 23, 24, 25, 26, 27, 28, 29, 30]\n"
     ]
    }
   ],
   "source": [
    "result = []\n",
    "\n",
    "for number in numbers:\n",
    "    if number % 2 == 0:\n",
    "        result.append(number)\n",
    "\n",
    "print(numbers)"
   ]
  },
  {
   "cell_type": "code",
   "execution_count": 86,
   "id": "0cb38eb7-31cb-452e-bf61-4ffd7f006483",
   "metadata": {},
   "outputs": [
    {
     "name": "stdout",
     "output_type": "stream",
     "text": [
      "[4, 8, 12, 16, 20, 24, 28, 32, 36, 40, 44, 48, 52, 56, 60]\n"
     ]
    }
   ],
   "source": [
    "numbers = list(range(1, 31))\n",
    "result = [number * 2 for number in numbers if number % 2 == 0 ]\n",
    "print (result)"
   ]
  },
  {
   "cell_type": "code",
   "execution_count": 89,
   "id": "b3dcde47-8ce3-4482-9437-a60a4e45a8db",
   "metadata": {},
   "outputs": [],
   "source": [
    "# 연습 문제 ! 모음 제거\n",
    "\n",
    "words = 'my name is mm'\n",
    "\n",
    "# i랑 a 이랑 e를 제거 하기 , 그렇다면 글자들을 반복 하였을 때 i, a, e를 만났을때 제거 하는 건가\n",
    "\n",
    " #-> my nm s mm"
   ]
  },
  {
   "cell_type": "code",
   "execution_count": 101,
   "id": "331e23c4-3206-48b7-897b-01039e906244",
   "metadata": {},
   "outputs": [
    {
     "ename": "AttributeError",
     "evalue": "'tuple' object has no attribute 'remove'",
     "output_type": "error",
     "traceback": [
      "\u001b[0;31m---------------------------------------------------------------------------\u001b[0m",
      "\u001b[0;31mAttributeError\u001b[0m                            Traceback (most recent call last)",
      "Cell \u001b[0;32mIn[101], line 7\u001b[0m\n\u001b[1;32m      5\u001b[0m \u001b[38;5;28;01mfor\u001b[39;00m word \u001b[38;5;129;01min\u001b[39;00m words:\n\u001b[1;32m      6\u001b[0m     \u001b[38;5;28;01mif\u001b[39;00m word \u001b[38;5;241m==\u001b[39m (\u001b[38;5;124m'\u001b[39m\u001b[38;5;124ma\u001b[39m\u001b[38;5;124m'\u001b[39m):\n\u001b[0;32m----> 7\u001b[0m         \u001b[43mresult\u001b[49m\u001b[38;5;241;43m.\u001b[39;49m\u001b[43mremove\u001b[49m(word)\n\u001b[1;32m      8\u001b[0m     \u001b[38;5;28;01melif\u001b[39;00m word \u001b[38;5;241m==\u001b[39m (\u001b[38;5;124m'\u001b[39m\u001b[38;5;124me\u001b[39m\u001b[38;5;124m'\u001b[39m):\n\u001b[1;32m      9\u001b[0m         result\u001b[38;5;241m.\u001b[39mpop(word)\n",
      "\u001b[0;31mAttributeError\u001b[0m: 'tuple' object has no attribute 'remove'"
     ]
    }
   ],
   "source": [
    "#for if\n",
    "result = ()\n",
    "words = 'my name is mm'\n",
    "\n",
    "for word in words:\n",
    "    if word == ('a'):\n",
    "        result.remove(word)\n",
    "    elif word == ('e'):\n",
    "        result.pop(word)\n",
    "    elif word == ('i'):        # 스티링을 하나로 구성 했어야 하고 , 뺀다기 보다 , 뽑아서 배열 한다는 생각을 했어야 함 \n",
    "        result.pop(word)\n",
    "    else:\n",
    "         result\n",
    "        \n",
    "print(result)"
   ]
  },
  {
   "cell_type": "code",
   "execution_count": 98,
   "id": "c82c7c4c-f897-42b3-ac31-90ec305bf3f3",
   "metadata": {},
   "outputs": [],
   "source": [
    "# 2. list conprehe"
   ]
  },
  {
   "cell_type": "code",
   "execution_count": 110,
   "id": "081b7f37-96b6-4127-864a-84a047bd44d3",
   "metadata": {},
   "outputs": [
    {
     "name": "stdout",
     "output_type": "stream",
     "text": [
      "['m', 'y', ' ', 'n', 'm', ' ', 's', ' ', 'm', 'm']\n",
      "my nm s mm\n"
     ]
    }
   ],
   "source": [
    "\n",
    "words = 'my name is mm'\n",
    "vowels= ['a', 'e', 'i', 'o', 'u']\n",
    "result = []\n",
    "\n",
    "\n",
    "for char in words:\n",
    "    if char not in vowels: # 모음인 경우 -> 모음이 아닌 경우 \n",
    "       result.append(char)\n",
    "    #else: # 자음인 경우 \n",
    "        #result.append(char)\n",
    "        \n",
    "print(result)\n",
    "print(''.join(result))"
   ]
  },
  {
   "cell_type": "code",
   "execution_count": 105,
   "id": "26518390-ddd6-4367-853d-8919d854aa66",
   "metadata": {},
   "outputs": [],
   "source": [
    "\n",
    "words = 'my name is mm'"
   ]
  },
  {
   "cell_type": "code",
   "execution_count": 109,
   "id": "4243915a-a8cd-4d2b-ae75-5ed7492876af",
   "metadata": {},
   "outputs": [
    {
     "name": "stdout",
     "output_type": "stream",
     "text": [
      "['m', 'y', ' ', 'n', 'm', ' ', 's', ' ', 'm', 'm']\n",
      "my nm s mm\n"
     ]
    }
   ],
   "source": [
    "\n",
    "vowels= 'aeiou'\n",
    "result = []\n",
    "\n",
    "\n",
    "for char in words:\n",
    "    if char not in 'aeiou': # 모음인 경우 -> 모음이 아닌 경우 \n",
    "       result.append(char)\n",
    "    #else: # 자음인 경우 \n",
    "        #result.append(char)\n",
    "        \n",
    "print(result)\n",
    "print(''.join(result))"
   ]
  },
  {
   "cell_type": "code",
   "execution_count": 111,
   "id": "57eb0398-072d-451f-a3ad-d200508fae83",
   "metadata": {},
   "outputs": [
    {
     "name": "stdout",
     "output_type": "stream",
     "text": [
      "['m', 'y', ' ', 'n', 'm', ' ', 's', ' ', 'm', 'm']\n",
      "my nm s mm\n"
     ]
    }
   ],
   "source": [
    "vowels = 'aeiou'\n",
    "result = [char for char in words if char not in vowels]\n",
    "print(result)\n",
    "print(''.join(result))"
   ]
  },
  {
   "cell_type": "code",
   "execution_count": 114,
   "id": "7652cc30-c609-428c-b226-fa93e6d6d737",
   "metadata": {},
   "outputs": [
    {
     "name": "stdout",
     "output_type": "stream",
     "text": [
      "my nm s mm\n"
     ]
    }
   ],
   "source": [
    "# 3 replace 메소드  >> 진짜로 모음을 제거 한 것에 가까움\n",
    "\n",
    "vowels = 'aeiou'\n",
    "\n",
    "for char in vowels:\n",
    "    words = words.replace(char,'')\n",
    "\n",
    "print(words)\n",
    "\n",
    "\n",
    "# replace () 함수는 바꿔 주는 것을 말함 \n"
   ]
  },
  {
   "cell_type": "markdown",
   "id": "523990a7-83b2-4b3b-84fa-47525b6e0c40",
   "metadata": {},
   "source": [
    "## dictionary 메소드\n"
   ]
  },
  {
   "cell_type": "code",
   "execution_count": 2,
   "id": "7e356c53-7c02-475b-96e2-8852ecd82d72",
   "metadata": {},
   "outputs": [],
   "source": [
    "info = {\n",
    "\n",
    "    'name':'mm',\n",
    "    'age': 11,\n",
    "    'location': 'seoul',\n",
    "    'phone_b': {\n",
    "        'k':'111-23323-2323',\n",
    "        's':'123-69695-8484'\n",
    "    },\n",
    "    'models':['iphone','ipaid','imac'],\n",
    "\n",
    "    \n",
    "}"
   ]
  },
  {
   "cell_type": "code",
   "execution_count": 8,
   "id": "6033d45f-8d10-4b95-99a6-c7084e5dc33e",
   "metadata": {},
   "outputs": [
    {
     "name": "stdout",
     "output_type": "stream",
     "text": [
      "mm\n",
      "11\n",
      "111-23323-2323\n",
      "ipaid\n"
     ]
    }
   ],
   "source": [
    "print(info['name'])\n",
    "print(info['age'])\n",
    "print(info['phone_b']['k']) # 한땀 한땀 키를 입력하여 들어 가야 한다.\n",
    "print(info['models'][1]) # list이기 때문에 index로 접근 하여야 함 "
   ]
  },
  {
   "cell_type": "code",
   "execution_count": 9,
   "id": "e4357bd5-7422-4fe8-a249-987c4aa9dff7",
   "metadata": {},
   "outputs": [
    {
     "name": "stdout",
     "output_type": "stream",
     "text": [
      "{'name': 'lee', 'age': 11, 'location': 'seoul', 'phone_b': {'k': '111-23323-2323', 's': '123-69695-8484'}, 'models': ['iphone', 'ipaid', 'imac']}\n"
     ]
    }
   ],
   "source": [
    "info['name'] = 'lee'  # 정보변경\n",
    "print(info)"
   ]
  },
  {
   "cell_type": "code",
   "execution_count": 12,
   "id": "784650cd-24fb-4e96-ae70-1d51e27940e4",
   "metadata": {},
   "outputs": [
    {
     "name": "stdout",
     "output_type": "stream",
     "text": [
      "{'name': 'chio', 'age': 11, 'location': 'seoul', 'phone_b': {'k': '111-23323-2323', 's': '123-69695-8484'}, 'models': ['iphone', 'ipaid', 'imac']}\n"
     ]
    }
   ],
   "source": [
    "info.update(name='chio')\n",
    "print(info)    #정보변경"
   ]
  },
  {
   "cell_type": "code",
   "execution_count": 13,
   "id": "f00ef5ad-8d97-4b43-8d2d-17ca614afa62",
   "metadata": {},
   "outputs": [
    {
     "name": "stdout",
     "output_type": "stream",
     "text": [
      "{'name': 'chio', 'age': 11, 'phone_b': {'k': '111-23323-2323', 's': '123-69695-8484'}, 'models': ['iphone', 'ipaid', 'imac']}\n"
     ]
    }
   ],
   "source": [
    "info.pop('location')    # 시퀀스 형이 아니기 때문에 순서가 없음 , 시퀸스의 pop은 가장 마지막의 것\n",
    "print(info)  #딕셔너리에서는 내가 원하는 key값을 다 없애다"
   ]
  },
  {
   "cell_type": "code",
   "execution_count": 14,
   "id": "d7758ff3-94bc-4b2a-8ca0-135b17380b7e",
   "metadata": {},
   "outputs": [
    {
     "name": "stdout",
     "output_type": "stream",
     "text": [
      "chio\n",
      "chio\n"
     ]
    }
   ],
   "source": [
    "print(info.get('name'))\n",
    "print(info['name'])    #get은 정보를 가지고 오는 것 "
   ]
  },
  {
   "cell_type": "code",
   "execution_count": 16,
   "id": "ea7bf7a2-9e3a-4d48-ba60-cb497327f69c",
   "metadata": {},
   "outputs": [
    {
     "name": "stdout",
     "output_type": "stream",
     "text": [
      "None\n"
     ]
    }
   ],
   "source": [
    "print(info.get('birth'))    # get은 정해둔 값이 없을 때 사용 하는 것이 대부분임 "
   ]
  },
  {
   "cell_type": "code",
   "execution_count": 17,
   "id": "d0b764cd-743e-42b8-a9b4-a407534dd3aa",
   "metadata": {},
   "outputs": [
    {
     "ename": "KeyError",
     "evalue": "'birth'",
     "output_type": "error",
     "traceback": [
      "\u001b[0;31m---------------------------------------------------------------------------\u001b[0m",
      "\u001b[0;31mKeyError\u001b[0m                                  Traceback (most recent call last)",
      "Cell \u001b[0;32mIn[17], line 1\u001b[0m\n\u001b[0;32m----> 1\u001b[0m \u001b[38;5;28mprint\u001b[39m(\u001b[43minfo\u001b[49m\u001b[43m[\u001b[49m\u001b[38;5;124;43m'\u001b[39;49m\u001b[38;5;124;43mbirth\u001b[39;49m\u001b[38;5;124;43m'\u001b[39;49m\u001b[43m]\u001b[49m)\n",
      "\u001b[0;31mKeyError\u001b[0m: 'birth'"
     ]
    }
   ],
   "source": [
    "print(info['birth'])   # 없는 것을 물어 보면 오류 발생 "
   ]
  },
  {
   "cell_type": "code",
   "execution_count": 20,
   "id": "4db8e324-0a34-4164-8c7d-5fe6d6b3a371",
   "metadata": {},
   "outputs": [
    {
     "name": "stdout",
     "output_type": "stream",
     "text": [
      "{'a': 4, 'b': 2, 'ab': 3, 'o': 2}\n"
     ]
    }
   ],
   "source": [
    "# 연습문제\n",
    "\n",
    "blood_type = ['a', 'b', 'o', 'ab','b','a','a','ab','o','a','ab']\n",
    "\n",
    "result = {\n",
    "\n",
    "    'a' : 0,\n",
    "    'b' : 0,\n",
    "    'ab' : 0,\n",
    "    'o' : 0,\n",
    "}\n",
    "\n",
    "for blood in blood_type:\n",
    "    result[blood]+= 1\n",
    "    \n",
    "print(result)\n",
    "\n",
    "\n",
    "    \n",
    "\n",
    "#{'a':4}"
   ]
  },
  {
   "cell_type": "code",
   "execution_count": 21,
   "id": "85d3575c-fa36-43d0-a3fc-a3591092af15",
   "metadata": {},
   "outputs": [
    {
     "name": "stdout",
     "output_type": "stream",
     "text": [
      "{'서울': 2, '대전': 1, '대구': 1, '부산': 1, 'LA': 1, 'paris': 1}\n"
     ]
    }
   ],
   "source": [
    "locations = ['서울', '서울','대전','대구','부산','LA','paris']\n",
    "\n",
    "result = {}\n",
    "\n",
    "for location in locations:\n",
    "    if location in result.keys():#key목록에 있냐 이거야\n",
    "        result[location] += 1\n",
    "    else:\n",
    "        result[location] = 1\n",
    "print(result)"
   ]
  },
  {
   "cell_type": "code",
   "execution_count": 24,
   "id": "2902798d-aafc-4242-9226-886be479eae7",
   "metadata": {},
   "outputs": [
    {
     "name": "stdout",
     "output_type": "stream",
     "text": [
      "{'서울': 4, '대전': 2, '대구': 2, '부산': 2, 'LA': 2, 'paris': 2}\n"
     ]
    }
   ],
   "source": [
    "for location in locations:\n",
    "    if result.get(location):\n",
    "        result[location] += 1\n",
    "    else:\n",
    "        result[location] = 1\n",
    "print(result)"
   ]
  },
  {
   "cell_type": "markdown",
   "id": "74477509-e9ae-47b1-86fd-2654c7c30556",
   "metadata": {},
   "source": [
    "중요한 자료야 \n",
    " -위의 문제의 경우 get을 사용하여 딕셔너리에 접금 할 수 있어\n",
    " 또한 keys를 통해서 해당 정보가 해당 딕셔너리에 있는지 확인 할 수 있어 , 만약 자료가 있다면  하나씩 더하고 그렇지 않다면 새로 추가 한후 그 값으 1로 정리 해달라는 것이여 \n",
    " "
   ]
  },
  {
   "cell_type": "markdown",
   "id": "7bdf7556-c948-4d55-8574-33c578489af7",
   "metadata": {},
   "source": [
    "## dic comprehension\n",
    "\n"
   ]
  },
  {
   "cell_type": "code",
   "execution_count": 26,
   "id": "ab1c60e8-11ff-4b58-98f6-f391b33d31e0",
   "metadata": {},
   "outputs": [
    {
     "name": "stdout",
     "output_type": "stream",
     "text": [
      "{1: 1, 2: 8, 3: 27, 4: 64, 5: 125, 6: 216, 7: 343, 8: 512, 9: 729, 10: 1000}\n"
     ]
    }
   ],
   "source": [
    "#{1:1, 2: 8, 3:27.............,10 :1000}\n",
    "\n",
    "result= {}\n",
    "numbers = range(1,11)\n",
    "\n",
    "for number in numbers:\n",
    "    result[number] = number**3\n",
    "\n",
    "print(result)"
   ]
  },
  {
   "cell_type": "code",
   "execution_count": 28,
   "id": "21aace0b-3fca-4dbd-95fc-a7cdbbcae2d6",
   "metadata": {},
   "outputs": [
    {
     "name": "stdout",
     "output_type": "stream",
     "text": [
      "{1: 1, 2: 8, 3: 27, 4: 64, 5: 125, 6: 216, 7: 343, 8: 512, 9: 729, 10: 1000}\n"
     ]
    }
   ],
   "source": [
    "result = {number: number**3 for number in range(1,11)}\n",
    "print(result)"
   ]
  },
  {
   "cell_type": "code",
   "execution_count": 29,
   "id": "f35e28e2-abd6-4e1e-9339-44bf7cdb1fd5",
   "metadata": {},
   "outputs": [],
   "source": [
    "dust = {\n",
    "    '서울' : 50,\n",
    "    '인천' : 100,\n",
    "    '수원' :30,\n",
    "    '부산' : 0\n",
    "    \n",
    "}"
   ]
  },
  {
   "cell_type": "code",
   "execution_count": 31,
   "id": "dc90f09c-cd6c-483b-9f44-1f1b16636f5c",
   "metadata": {},
   "outputs": [
    {
     "name": "stdout",
     "output_type": "stream",
     "text": [
      "{'수원': 30, '부산': 0}\n"
     ]
    }
   ],
   "source": [
    "result = {}\n",
    "for key , value in dust.items():\n",
    "    if value <= 30: # if를 통과한 후 result에 담음\n",
    "        result[key] = value\n",
    "print(result)\n"
   ]
  },
  {
   "cell_type": "code",
   "execution_count": 35,
   "id": "96f40e40-353f-42a3-a4bb-fc416b1d87bf",
   "metadata": {},
   "outputs": [
    {
     "name": "stdout",
     "output_type": "stream",
     "text": [
      "{'수원': 30, '부산': 0}\n"
     ]
    }
   ],
   "source": [
    "#2 comp\n",
    "\n",
    "result = {k :v for k , v in dust.items()if v <= 30}\n",
    "print(result)\n",
    "\n",
    "\n",
    "\n",
    "#key아 value에  동시에 접근 할 때 item을 사용 하는 것이ㅡ 좋음 "
   ]
  },
  {
   "cell_type": "markdown",
   "id": "4fcc3e9d-aab8-4eb0-b162-2a1a2ae43905",
   "metadata": {},
   "source": [
    "set 메소드"
   ]
  },
  {
   "cell_type": "code",
   "execution_count": 36,
   "id": "9b2c9861-b3ac-47b5-b4b1-3b9b8b691faf",
   "metadata": {},
   "outputs": [],
   "source": [
    "fruits = {'apple', 'banana', 'melon'}"
   ]
  },
  {
   "cell_type": "code",
   "execution_count": 37,
   "id": "357f6e76-5975-4e20-900f-066f2532c7cb",
   "metadata": {},
   "outputs": [
    {
     "name": "stdout",
     "output_type": "stream",
     "text": [
      "{'melon', 'watermelon', 'apple', 'banana'}\n"
     ]
    }
   ],
   "source": [
    "fruits.add('watermelon')\n",
    "print(fruits)"
   ]
  },
  {
   "cell_type": "code",
   "execution_count": 39,
   "id": "cf48e202-c551-4803-8c6c-b88642e880ec",
   "metadata": {},
   "outputs": [
    {
     "name": "stdout",
     "output_type": "stream",
     "text": [
      "{'melon', 'grape', 'orange', 'apple', 'banana', 'watermelon'}\n"
     ]
    }
   ],
   "source": [
    "fruits.update({'orange', 'grape'})  # 컨케트네이션 역할 , 많이 추가\n",
    "print(fruits)"
   ]
  },
  {
   "cell_type": "code",
   "execution_count": 40,
   "id": "1f11cdc8-949b-4bc4-8c55-84f364affa70",
   "metadata": {},
   "outputs": [
    {
     "name": "stdout",
     "output_type": "stream",
     "text": [
      "{'melon', 'grape', 'orange', 'banana', 'watermelon'}\n"
     ]
    }
   ],
   "source": [
    "fruits.remove('apple')\n",
    "print(fruits)    #제거"
   ]
  },
  {
   "cell_type": "code",
   "execution_count": 42,
   "id": "fd017d1d-0fae-45a3-9ebd-491ef890425f",
   "metadata": {},
   "outputs": [
    {
     "name": "stdout",
     "output_type": "stream",
     "text": [
      "{'grape', 'orange', 'banana', 'watermelon'}\n"
     ]
    }
   ],
   "source": [
    "fruits.pop()\n",
    "print(fruits)    # 랜던하게 제거 된단다 훅 쓸일이 없삼요 거의 "
   ]
  },
  {
   "cell_type": "markdown",
   "id": "993b7aa4-e13f-4214-ab30-dd931d95e2ab",
   "metadata": {},
   "source": [
    "## map , met , zip\n",
    "\n",
    "\n",
    "- map (funciton, iterable)\n",
    "- iterable: 시퀀스 타입\n",
    "- lazy한 타입 어쩌고 저쩌고,,,"
   ]
  },
  {
   "cell_type": "code",
   "execution_count": 43,
   "id": "1ae558b3-11bf-4ca2-8544-bdefb9762aca",
   "metadata": {},
   "outputs": [
    {
     "name": "stdout",
     "output_type": "stream",
     "text": [
      "['1', '2', '3', '4', '5']\n"
     ]
    }
   ],
   "source": [
    "#map의 활용 \n",
    "numbers = [1, 2, 3, 4, 5]\n",
    "\n",
    "# 숫자를 일괄 적으로 문자로 바꾸고 싶은데?\n",
    "\n",
    "result = []\n",
    "for number in numbers:\n",
    "    result.append(str(number))\n",
    "print(result)"
   ]
  },
  {
   "cell_type": "code",
   "execution_count": 46,
   "id": "5af4ad47-8bd3-45a4-950f-085f436efcef",
   "metadata": {},
   "outputs": [
    {
     "name": "stdout",
     "output_type": "stream",
     "text": [
      "<map object at 0x106ddeef0>\n",
      "['1', '2', '3', '4', '5']\n"
     ]
    }
   ],
   "source": [
    "result = map(str,numbers)  # 함수를 알려주고 , 어디다 적용 할 건지 \n",
    "print(result) #object가 map 함수의 결과물이다 at뒤에는 어디에 적용 된건지 알려줌\n",
    "print(list(result)) # list를 넣어줘야 가능 함유\n",
    "\n",
    "# map에 바로 list를 적은 후 소괄호로 묶여도 실행이 가능 하다 > 일괄처라"
   ]
  },
  {
   "cell_type": "code",
   "execution_count": 47,
   "id": "b2389b45-c49c-4b34-b250-7a7e1b8c4df6",
   "metadata": {},
   "outputs": [
    {
     "name": "stdout",
     "output_type": "stream",
     "text": [
      "[1, 8, 27, 64, 125]\n"
     ]
    }
   ],
   "source": [
    "numbers = [1, 2, 3, 4, 5]\n",
    "\n",
    "#3제곱 한 결과로 알고 싶아?\n",
    "\n",
    "result = []\n",
    "for number in numbers:\n",
    "    result.append(number**3)\n",
    "print(result)"
   ]
  },
  {
   "cell_type": "code",
   "execution_count": 48,
   "id": "c5737747-c1ca-498f-a879-9e665f4a154a",
   "metadata": {},
   "outputs": [],
   "source": [
    "def cube(x):\n",
    "    return x**3   # 무언가를 3제곱 하는 함수를 만들어야 함 \n"
   ]
  },
  {
   "cell_type": "code",
   "execution_count": 51,
   "id": "59b43448-ec07-45fa-8f1a-e5c149c376a8",
   "metadata": {},
   "outputs": [
    {
     "name": "stdout",
     "output_type": "stream",
     "text": [
      "<map object at 0x106e025f0>\n",
      "[1, 8, 27, 64, 125]\n"
     ]
    }
   ],
   "source": [
    "result = map(cube,numbers)# numbers를 돌아다니면서 cube를 해준다\n",
    "print(result)\n",
    "print(list(result))"
   ]
  },
  {
   "cell_type": "code",
   "execution_count": 57,
   "id": "c5ea3a02-7922-47a5-9fbb-30f6da14defe",
   "metadata": {},
   "outputs": [
    {
     "name": "stdout",
     "output_type": "stream",
     "text": [
      "[1, 3, 5, 7, 9]\n"
     ]
    }
   ],
   "source": [
    "test_input = '1 3 5 7 9'\n",
    "#1 띄어스기 기준으로 나눈다\n",
    "\n",
    "test_input.split()\n",
    "#2각 글자를 숫자로 바꾼다 \n",
    "\n",
    "result = list(map(int,test_input.split()))\n",
    "\n",
    "print(result)\n",
    "#3 리스트에 저장한다."
   ]
  },
  {
   "cell_type": "markdown",
   "id": "2723e0c2-e074-4700-82d1-d0f6b49afdd0",
   "metadata": {},
   "source": [
    "### filter\n",
    "\n",
    "filter(function , iterable )   # map이랑 다른 것은 모든 데이터 일괄 처리 , 필터는 조건에 부합하는 것만 적용\n"
   ]
  },
  {
   "cell_type": "code",
   "execution_count": 58,
   "id": "52c2c1d2-9626-4715-ad32-893f5a0615ca",
   "metadata": {},
   "outputs": [],
   "source": [
    "def is_odd(x):\n",
    "    return x % 2   # 항상 ture or flase 인 함수만 쓸 수 있음"
   ]
  },
  {
   "cell_type": "code",
   "execution_count": 61,
   "id": "38e05266-08a4-454e-b5f2-b4d970492b0e",
   "metadata": {},
   "outputs": [
    {
     "name": "stdout",
     "output_type": "stream",
     "text": [
      "[1, 3, 5]\n"
     ]
    }
   ],
   "source": [
    "numbers = [1,2,3,4,5,6]\n",
    "\n",
    "result = []\n",
    "for number in numbers:\n",
    "    if number % 2 == 1:\n",
    "        result.append(number)\n",
    "print(result)\n",
    "        "
   ]
  },
  {
   "cell_type": "code",
   "execution_count": 59,
   "id": "6d61b336-eade-49a0-8146-fa7aaf3d9d49",
   "metadata": {},
   "outputs": [
    {
     "name": "stdout",
     "output_type": "stream",
     "text": [
      "<filter object at 0x106e000d0>\n",
      "[1, 3, 5]\n"
     ]
    }
   ],
   "source": [
    "result = filter(is_odd, numbers)\n",
    "print(result)\n",
    "print(list(result))"
   ]
  },
  {
   "cell_type": "markdown",
   "id": "cfdea632-5b98-4710-992f-eaed95a2ef5e",
   "metadata": {},
   "source": [
    "## zip\n"
   ]
  },
  {
   "cell_type": "code",
   "execution_count": 62,
   "id": "20e41f74-841f-4d84-910b-64daae6212bf",
   "metadata": {},
   "outputs": [
    {
     "name": "stdout",
     "output_type": "stream",
     "text": [
      "<zip object at 0x10b347ec0>\n",
      "[(1, 100), (2, 200), (3, 300)]\n"
     ]
    }
   ],
   "source": [
    "a = [1, 2, 3] \n",
    "b = [100, 200, 300]\n",
    "\n",
    "result = zip(a, b)\n",
    "print(result)\n",
    "print(list(result))"
   ]
  },
  {
   "cell_type": "code",
   "execution_count": null,
   "id": "1bcce31b-43b4-4aa7-ab2e-2153c65d1c6b",
   "metadata": {},
   "outputs": [],
   "source": []
  }
 ],
 "metadata": {
  "kernelspec": {
   "display_name": "Python 3 (ipykernel)",
   "language": "python",
   "name": "python3"
  },
  "language_info": {
   "codemirror_mode": {
    "name": "ipython",
    "version": 3
   },
   "file_extension": ".py",
   "mimetype": "text/x-python",
   "name": "python",
   "nbconvert_exporter": "python",
   "pygments_lexer": "ipython3",
   "version": "3.13.2"
  }
 },
 "nbformat": 4,
 "nbformat_minor": 5
}
