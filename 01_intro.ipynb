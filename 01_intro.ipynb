{
 "cells": [
  {
   "cell_type": "markdown",
   "id": "d721df9f-2bce-4f1c-b267-c9ca2d0384ea",
   "metadata": {},
   "source": [
    "# 01. intro\n",
    "\n",
    "## shortcut\n",
    "\n",
    "- ctrl+ enter: 현재 셀 실행\n",
    "- shift+enter: 현재 셀 실향 & 아래로 이동\n",
    "- alt+enter : 현재 셀 실행 & 아래에 새로운 셀 추가(option)\n",
    "  "
   ]
  },
  {
   "cell_type": "markdown",
   "id": "ed1469a6-e183-4b61-a254-e797708e4b2b",
   "metadata": {},
   "source": [
    "## 주의사항 \n",
    "\n",
    "1. apple / Apple은 다른 것이다.\n",
    "2. git add./ git add . 다른 것이다 >> 띄어쓰기 주의\n",
    "3. message / massage는 다름 "
   ]
  },
  {
   "cell_type": "markdown",
   "id": "d3a05b9a-de7f-46e7-b162-41677afb51c3",
   "metadata": {},
   "source": [
    "# 01. 변수\n",
    "\n",
    "```\n",
    "var_name = value\n",
    "```\n",
    "\n",
    "= 은 오른쪽에 있는 데이터를 왼쪽 상자에 넣는다고 생각하자\n",
    "\n",
    "- 변수이름은 어떤 이름이든 사용가능\n",
    "- 다만 영어, 숫자 ,_를 이용해서 선언\n",
    "- 키워드는 불가능\n",
    "- 변수는 상자 (a는 상자 ,1은 content)\n",
    "\n"
   ]
  },
  {
   "cell_type": "code",
   "execution_count": 4,
   "id": "b455af67-9ffd-403b-8f25-25bfb7a48be9",
   "metadata": {},
   "outputs": [],
   "source": [
    "a=100"
   ]
  },
  {
   "cell_type": "code",
   "execution_count": 5,
   "id": "d104a4f0-c965-4c2f-8efe-5d1e0c224851",
   "metadata": {},
   "outputs": [
    {
     "data": {
      "text/plain": [
       "100"
      ]
     },
     "execution_count": 5,
     "metadata": {},
     "output_type": "execute_result"
    }
   ],
   "source": [
    "a "
   ]
  },
  {
   "cell_type": "code",
   "execution_count": 6,
   "id": "e2889327-5495-4dd7-9392-10c2e988aae3",
   "metadata": {},
   "outputs": [
    {
     "data": {
      "text/plain": [
       "['False',\n",
       " 'None',\n",
       " 'True',\n",
       " 'and',\n",
       " 'as',\n",
       " 'assert',\n",
       " 'async',\n",
       " 'await',\n",
       " 'break',\n",
       " 'class',\n",
       " 'continue',\n",
       " 'def',\n",
       " 'del',\n",
       " 'elif',\n",
       " 'else',\n",
       " 'except',\n",
       " 'finally',\n",
       " 'for',\n",
       " 'from',\n",
       " 'global',\n",
       " 'if',\n",
       " 'import',\n",
       " 'in',\n",
       " 'is',\n",
       " 'lambda',\n",
       " 'nonlocal',\n",
       " 'not',\n",
       " 'or',\n",
       " 'pass',\n",
       " 'raise',\n",
       " 'return',\n",
       " 'try',\n",
       " 'while',\n",
       " 'with',\n",
       " 'yield']"
      ]
     },
     "execution_count": 6,
     "metadata": {},
     "output_type": "execute_result"
    }
   ],
   "source": [
    "import keyword\n",
    "keyword.kwlist"
   ]
  },
  {
   "cell_type": "code",
   "execution_count": 8,
   "id": "9dc5be80-a8f0-418b-9b0c-cbfb1b1d0c95",
   "metadata": {},
   "outputs": [],
   "source": [
    "seoul_dust_rate = 150"
   ]
  },
  {
   "cell_type": "markdown",
   "id": "0b071f1c-522d-4ffd-a4f9-81508317ea87",
   "metadata": {
    "jupyter": {
     "source_hidden": true
    }
   },
   "source": [
    "# 1.1 number"
   ]
  },
  {
   "cell_type": "code",
   "execution_count": 9,
   "id": "e67c821a-1a6b-4cc0-81eb-201699e1fd4d",
   "metadata": {},
   "outputs": [],
   "source": [
    "a=10000"
   ]
  },
  {
   "cell_type": "code",
   "execution_count": 10,
   "id": "66c33c5c-e17e-4f85-8ee6-0c811f6e7d7b",
   "metadata": {},
   "outputs": [
    {
     "data": {
      "text/plain": [
       "10000"
      ]
     },
     "execution_count": 10,
     "metadata": {},
     "output_type": "execute_result"
    }
   ],
   "source": [
    "a"
   ]
  },
  {
   "cell_type": "code",
   "execution_count": 11,
   "id": "3294fb7a-4fc4-44c0-b344-f9be8fa1e2ab",
   "metadata": {},
   "outputs": [
    {
     "data": {
      "text/plain": [
       "int"
      ]
     },
     "execution_count": 11,
     "metadata": {},
     "output_type": "execute_result"
    }
   ],
   "source": [
    "type(a)"
   ]
  },
  {
   "cell_type": "markdown",
   "id": "2e526a5b-094a-461d-8446-1ffe9a69f582",
   "metadata": {},
   "source": [
    "- type(n) 하면 n 이 무엇인지 보여주고 int은 숫자(실수)"
   ]
  },
  {
   "cell_type": "code",
   "execution_count": 12,
   "id": "95d462bf-18ac-446f-986c-18c16b1b7606",
   "metadata": {},
   "outputs": [],
   "source": [
    "b = 1.1"
   ]
  },
  {
   "cell_type": "code",
   "execution_count": 13,
   "id": "e2f0129e-d065-46f5-93c1-c8637d764dea",
   "metadata": {},
   "outputs": [
    {
     "data": {
      "text/plain": [
       "1.1"
      ]
     },
     "execution_count": 13,
     "metadata": {},
     "output_type": "execute_result"
    }
   ],
   "source": [
    "b"
   ]
  },
  {
   "cell_type": "code",
   "execution_count": 14,
   "id": "9ac0d66d-4a26-4070-a3ac-881fd93655b7",
   "metadata": {},
   "outputs": [
    {
     "data": {
      "text/plain": [
       "float"
      ]
     },
     "execution_count": 14,
     "metadata": {},
     "output_type": "execute_result"
    }
   ],
   "source": [
    "type(b)"
   ]
  },
  {
   "cell_type": "markdown",
   "id": "da302a72-8723-4f6c-ad7f-5ce9caa282a3",
   "metadata": {},
   "source": [
    "- float 는 실수"
   ]
  },
  {
   "cell_type": "code",
   "execution_count": 15,
   "id": "7fc41a9b-b983-44b9-b187-bef741fc79db",
   "metadata": {},
   "outputs": [],
   "source": [
    "c = 1 + 1j"
   ]
  },
  {
   "cell_type": "code",
   "execution_count": 16,
   "id": "76a4a800-0fa5-405d-9795-423bdd830b3c",
   "metadata": {},
   "outputs": [
    {
     "data": {
      "text/plain": [
       "(1+1j)"
      ]
     },
     "execution_count": 16,
     "metadata": {},
     "output_type": "execute_result"
    }
   ],
   "source": [
    "c"
   ]
  },
  {
   "cell_type": "code",
   "execution_count": 17,
   "id": "367a9529-dcfd-4820-8a32-dd95f5fdae9b",
   "metadata": {},
   "outputs": [
    {
     "data": {
      "text/plain": [
       "complex"
      ]
     },
     "execution_count": 17,
     "metadata": {},
     "output_type": "execute_result"
    }
   ],
   "source": [
    "type(c)"
   ]
  },
  {
   "cell_type": "markdown",
   "id": "e38e4f6f-a7fb-4a2c-9ff3-b7293032beb0",
   "metadata": {
    "jupyter": {
     "source_hidden": true
    }
   },
   "source": [
    "- 복소수는 complex"
   ]
  },
  {
   "cell_type": "markdown",
   "id": "91c32dbb-de77-4f8c-aaf2-e7273893c363",
   "metadata": {},
   "source": [
    "# 1.2 boolean"
   ]
  },
  {
   "cell_type": "code",
   "execution_count": 18,
   "id": "9c66e9b7-08b6-400b-83a7-175e414dc758",
   "metadata": {},
   "outputs": [],
   "source": [
    "a = True"
   ]
  },
  {
   "cell_type": "code",
   "execution_count": 19,
   "id": "033cfd46-b9a1-4cb9-bb7f-fb07c3befe11",
   "metadata": {},
   "outputs": [
    {
     "data": {
      "text/plain": [
       "True"
      ]
     },
     "execution_count": 19,
     "metadata": {},
     "output_type": "execute_result"
    }
   ],
   "source": [
    "a"
   ]
  },
  {
   "cell_type": "code",
   "execution_count": 20,
   "id": "d9926852-729b-44e4-bdd9-e37d12c237c5",
   "metadata": {},
   "outputs": [
    {
     "data": {
      "text/plain": [
       "bool"
      ]
     },
     "execution_count": 20,
     "metadata": {},
     "output_type": "execute_result"
    }
   ],
   "source": [
    "type(a)"
   ]
  },
  {
   "cell_type": "code",
   "execution_count": 21,
   "id": "9184ab0e-cfcf-41e7-8791-ac30ae75ddc9",
   "metadata": {},
   "outputs": [],
   "source": [
    "b = False"
   ]
  },
  {
   "cell_type": "code",
   "execution_count": 22,
   "id": "2c7b4138-158e-4d00-8991-e02a09034f44",
   "metadata": {},
   "outputs": [
    {
     "data": {
      "text/plain": [
       "False"
      ]
     },
     "execution_count": 22,
     "metadata": {},
     "output_type": "execute_result"
    }
   ],
   "source": [
    "b"
   ]
  },
  {
   "cell_type": "markdown",
   "id": "72fd19c0-499f-4a0f-83d0-45987b82a7fd",
   "metadata": {},
   "source": [
    "# 1.3 string\n",
    "\n",
    "- 문자열\n",
    "- `'``\"`를 이용하여 표현\n",
    "- 문자열을 감싸는 도구로 , 정보가 있지 않다>> 문자임을 알려주는 것을 알려줌\n",
    "- 일관성을 이용하기 위해 한가지 따옴표로 다 정리 한다>> 일종의 가이드를 따르는 것이 좋음 "
   ]
  },
  {
   "cell_type": "code",
   "execution_count": 23,
   "id": "bfda908d-c11d-4fbd-82a9-037f6f697cd5",
   "metadata": {},
   "outputs": [],
   "source": [
    "a = 'hello'"
   ]
  },
  {
   "cell_type": "code",
   "execution_count": 24,
   "id": "4edf8bbb-78ce-4064-ba33-28137fe1e357",
   "metadata": {},
   "outputs": [],
   "source": [
    "b = \"hi\""
   ]
  },
  {
   "cell_type": "code",
   "execution_count": 25,
   "id": "4869de45-dde7-4b35-ac5c-f29fef5af7fd",
   "metadata": {},
   "outputs": [
    {
     "data": {
      "text/plain": [
       "'hello'"
      ]
     },
     "execution_count": 25,
     "metadata": {},
     "output_type": "execute_result"
    }
   ],
   "source": [
    "a"
   ]
  },
  {
   "cell_type": "code",
   "execution_count": 26,
   "id": "26f623d1-7758-45be-b576-684e0dddabf7",
   "metadata": {},
   "outputs": [
    {
     "data": {
      "text/plain": [
       "'hi'"
      ]
     },
     "execution_count": 26,
     "metadata": {},
     "output_type": "execute_result"
    }
   ],
   "source": [
    "b"
   ]
  },
  {
   "cell_type": "code",
   "execution_count": 30,
   "id": "29152069-b3e1-4157-92fc-36518c6679a4",
   "metadata": {},
   "outputs": [
    {
     "name": "stdout",
     "output_type": "stream",
     "text": [
      "hello my name is \"mooo\"\n"
     ]
    }
   ],
   "source": [
    "print('hello my name is \"mooo\"')"
   ]
  },
  {
   "cell_type": "code",
   "execution_count": 32,
   "id": "6c916482-9159-4d57-80eb-4e9631a141df",
   "metadata": {},
   "outputs": [
    {
     "name": "stdout",
     "output_type": "stream",
     "text": [
      "hello\n",
      " my name is'moo'\n"
     ]
    }
   ],
   "source": [
    "print('hello\\n my name is\\'moo\\'')"
   ]
  },
  {
   "cell_type": "code",
   "execution_count": 33,
   "id": "028cc603-ce4b-4409-9e5c-3e6f53697528",
   "metadata": {},
   "outputs": [],
   "source": [
    "a = '''\n",
    "hello \n",
    "world\n",
    "hi\n",
    "'''"
   ]
  },
  {
   "cell_type": "code",
   "execution_count": 34,
   "id": "0c157294-db7b-4f6e-bd83-a5dd15006356",
   "metadata": {},
   "outputs": [
    {
     "data": {
      "text/plain": [
       "'\\nhello \\nworld\\nhi\\n'"
      ]
     },
     "execution_count": 34,
     "metadata": {},
     "output_type": "execute_result"
    }
   ],
   "source": [
    "a"
   ]
  },
  {
   "cell_type": "code",
   "execution_count": 38,
   "id": "0783f975-a8ef-4e74-b172-9bf0ad69a438",
   "metadata": {},
   "outputs": [],
   "source": [
    "a = 10\n",
    "b = '홍길동은 a살입니다.'"
   ]
  },
  {
   "cell_type": "code",
   "execution_count": 39,
   "id": "b0cdd44b-c47a-4a35-ad6c-a74b01894b4b",
   "metadata": {},
   "outputs": [
    {
     "name": "stdout",
     "output_type": "stream",
     "text": [
      "홍길동은 a살입니다.\n"
     ]
    }
   ],
   "source": [
    "print(b)"
   ]
  },
  {
   "cell_type": "code",
   "execution_count": 40,
   "id": "b55cbb0c-d76b-4545-ba04-7c01cf36fa73",
   "metadata": {},
   "outputs": [],
   "source": [
    "#adfadfadfa"
   ]
  },
  {
   "cell_type": "markdown",
   "id": "243bf201-944e-480c-8311-866e437a5d80",
   "metadata": {},
   "source": [
    "### string interpolation\n",
    "- %-forming\n",
    "- {}.format\n",
    "- f'{age}"
   ]
  },
  {
   "cell_type": "code",
   "execution_count": 42,
   "id": "b0730c9e-69d1-435e-a8dd-89216708b58a",
   "metadata": {},
   "outputs": [
    {
     "ename": "NameError",
     "evalue": "name 'age' is not defined",
     "output_type": "error",
     "traceback": [
      "\u001b[0;31m---------------------------------------------------------------------------\u001b[0m",
      "\u001b[0;31mNameError\u001b[0m                                 Traceback (most recent call last)",
      "Cell \u001b[0;32mIn[42], line 1\u001b[0m\n\u001b[0;32m----> 1\u001b[0m \u001b[38;5;28mprint\u001b[39m(\u001b[38;5;124m'\u001b[39m\u001b[38;5;124m 홍길동은 \u001b[39m\u001b[38;5;132;01m%s\u001b[39;00m\u001b[38;5;124m살 입니다\u001b[39m\u001b[38;5;124m'\u001b[39m \u001b[38;5;241m%\u001b[39m \u001b[43mage\u001b[49m)\n",
      "\u001b[0;31mNameError\u001b[0m: name 'age' is not defined"
     ]
    }
   ],
   "source": [
    "print(' 홍길동은 %s살 입니다' % age)"
   ]
  },
  {
   "cell_type": "code",
   "execution_count": 43,
   "id": "1bdfc2dc-74ef-4f9d-aa62-bebcaf1b8988",
   "metadata": {},
   "outputs": [],
   "source": [
    "age = 10"
   ]
  },
  {
   "cell_type": "code",
   "execution_count": 44,
   "id": "76c7ab7e-40f8-4ec8-b266-61590c195ecc",
   "metadata": {},
   "outputs": [
    {
     "name": "stdout",
     "output_type": "stream",
     "text": [
      "홍길동은 10살입니다.\n"
     ]
    }
   ],
   "source": [
    "print('홍길동은 %s살입니다.' % age)"
   ]
  },
  {
   "cell_type": "code",
   "execution_count": 45,
   "id": "bbb2aea0-f707-4dc1-abe3-9f94ba582280",
   "metadata": {},
   "outputs": [
    {
     "name": "stdout",
     "output_type": "stream",
     "text": [
      "홍길동은10살입니다.\n"
     ]
    }
   ],
   "source": [
    "print('홍길동은{}살입니다.'.format(age))"
   ]
  },
  {
   "cell_type": "code",
   "execution_count": 47,
   "id": "29d68f4b-f8ef-4eba-96f2-2a7e8fb6908e",
   "metadata": {},
   "outputs": [
    {
     "name": "stdout",
     "output_type": "stream",
     "text": [
      "홍길동은10살입니다.\n"
     ]
    }
   ],
   "source": [
    "print(f'홍길동은{age}살입니다.')"
   ]
  },
  {
   "cell_type": "markdown",
   "id": "4168a192-b8bf-4b60-b2d2-b8d46835f55c",
   "metadata": {},
   "source": [
    "# 02. 연산자"
   ]
  },
  {
   "cell_type": "markdown",
   "id": "096e2382-4ff9-471e-83dc-5c6deedc92fa",
   "metadata": {},
   "source": [
    "## 2.1 산술연산자\n"
   ]
  },
  {
   "cell_type": "code",
   "execution_count": 57,
   "id": "ca04d92d-2865-4414-bab8-7cdf4970f178",
   "metadata": {},
   "outputs": [],
   "source": [
    "a = 5\n",
    "b = 2"
   ]
  },
  {
   "cell_type": "code",
   "execution_count": 58,
   "id": "ea6fbff6-b41f-45ad-9fc2-45981ea10b04",
   "metadata": {},
   "outputs": [
    {
     "name": "stdout",
     "output_type": "stream",
     "text": [
      "7\n",
      "3\n",
      "10\n",
      "2.5\n"
     ]
    }
   ],
   "source": [
    "print(a+b)\n",
    "print(a-b)\n",
    "print(a*b)\n",
    "print(a/b)"
   ]
  },
  {
   "cell_type": "code",
   "execution_count": 60,
   "id": "95cb3ed7-ae5a-477c-9ffc-b7cc64f628e6",
   "metadata": {},
   "outputs": [
    {
     "name": "stdout",
     "output_type": "stream",
     "text": [
      "25\n",
      "2\n",
      "1\n"
     ]
    }
   ],
   "source": [
    "print(a ** b)\n",
    "print(a // b)\n",
    "print(a % b)"
   ]
  },
  {
   "cell_type": "markdown",
   "id": "9470b59a-3971-4eab-8edd-8db25fe0379b",
   "metadata": {},
   "source": [
    "- // > 몫만 표시\n",
    "- % > 나머지만 알려 주는 거\n",
    "- ** >은 제곱수"
   ]
  },
  {
   "cell_type": "code",
   "execution_count": 62,
   "id": "d16122ad-bfa2-4b88-8ef3-cfb098d15de4",
   "metadata": {},
   "outputs": [
    {
     "name": "stdout",
     "output_type": "stream",
     "text": [
      "(2, 1)\n"
     ]
    }
   ],
   "source": [
    "result = divmod(a,b)\n",
    "print(result)"
   ]
  },
  {
   "cell_type": "markdown",
   "id": "33ba3705-0664-4fd2-8be9-7babb23371df",
   "metadata": {},
   "source": [
    "- divmod는  몫과 나머지를 함께 계산 해주는 함수이다"
   ]
  },
  {
   "cell_type": "markdown",
   "id": "73ee0af5-fb54-4c57-a017-dfc8310cc255",
   "metadata": {},
   "source": [
    "## 2.2 비교연산자"
   ]
  },
  {
   "cell_type": "code",
   "execution_count": 65,
   "id": "3dd830c1-d4eb-424a-a52d-77cfffac5165",
   "metadata": {},
   "outputs": [],
   "source": [
    "a = 5\n",
    "b = 10"
   ]
  },
  {
   "cell_type": "code",
   "execution_count": 68,
   "id": "c9ed1a1f-1f12-4988-acbd-c2c2c6f54ef1",
   "metadata": {},
   "outputs": [
    {
     "name": "stdout",
     "output_type": "stream",
     "text": [
      "False\n",
      "True\n",
      "False\n",
      "False\n"
     ]
    }
   ],
   "source": [
    "print(a > b)\n",
    "print(a < b)\n",
    "print(a >= b)\n",
    "print(a == b)"
   ]
  },
  {
   "cell_type": "markdown",
   "id": "eb61f92d-b1a6-4a7a-bde0-8415e947b4d2",
   "metadata": {},
   "source": [
    "- > < 부등호는 의문문이다\n",
    "- ==는 수학의 = 과 같음\n",
    "- !=는 같지 않다"
   ]
  },
  {
   "cell_type": "code",
   "execution_count": 69,
   "id": "52e67170-c677-49dd-acaf-11e3d78787ef",
   "metadata": {},
   "outputs": [
    {
     "name": "stdout",
     "output_type": "stream",
     "text": [
      "True\n"
     ]
    }
   ],
   "source": [
    "print(a != b)"
   ]
  },
  {
   "cell_type": "code",
   "execution_count": 70,
   "id": "fcc6e4ba-9d93-4cda-9fda-051117f23a46",
   "metadata": {},
   "outputs": [
    {
     "name": "stdout",
     "output_type": "stream",
     "text": [
      "True\n"
     ]
    }
   ],
   "source": [
    "print('hi' == 'hi')"
   ]
  },
  {
   "cell_type": "code",
   "execution_count": 72,
   "id": "48e4e904-5543-4de3-b6ea-cc9e68093f10",
   "metadata": {},
   "outputs": [
    {
     "name": "stdout",
     "output_type": "stream",
     "text": [
      "False\n"
     ]
    }
   ],
   "source": [
    "print('hi' == 'Hi')"
   ]
  },
  {
   "cell_type": "markdown",
   "id": "b820627f-75b0-4e5a-9963-59a41c882a41",
   "metadata": {},
   "source": [
    "## 2.3 논리연산자\n",
    "- and : 양쪽 모두 true일 때 , true를 반환 >> 조건 모두 만족 해야 함 \n",
    "- or :  양쪽 모두 False일 때 , False를 반환 >> 하나만 True이면 가능 함\n",
    "- not : 현재 상태를 부정 하는 친구 "
   ]
  },
  {
   "cell_type": "code",
   "execution_count": 76,
   "id": "e51f281f-f6a7-4fcf-b903-16bad4cf8c30",
   "metadata": {},
   "outputs": [
    {
     "name": "stdout",
     "output_type": "stream",
     "text": [
      "True\n",
      "False\n",
      "False\n",
      "False\n"
     ]
    }
   ],
   "source": [
    "print(True and True)\n",
    "print(True and False)\n",
    "print(False and True)\n",
    "print(False and False)"
   ]
  },
  {
   "cell_type": "code",
   "execution_count": 78,
   "id": "415ed3ff-ff42-4ac7-a8e1-cb4c05e417a0",
   "metadata": {},
   "outputs": [
    {
     "name": "stdout",
     "output_type": "stream",
     "text": [
      "True\n",
      "True\n",
      "True\n",
      "False\n"
     ]
    }
   ],
   "source": [
    "print(True or True)\n",
    "print(True or False)\n",
    "print(False or True)\n",
    "print(False or False)"
   ]
  },
  {
   "cell_type": "code",
   "execution_count": 79,
   "id": "21d41014-4a73-419a-9a5f-a700794d9f89",
   "metadata": {},
   "outputs": [
    {
     "name": "stdout",
     "output_type": "stream",
     "text": [
      "False\n"
     ]
    }
   ],
   "source": [
    "a = True\n",
    "print(not a)"
   ]
  },
  {
   "cell_type": "code",
   "execution_count": 81,
   "id": "bc402789-fd3d-4886-8cae-07a03058637e",
   "metadata": {},
   "outputs": [
    {
     "name": "stdout",
     "output_type": "stream",
     "text": [
      "5\n",
      "0\n",
      "0\n",
      "0\n"
     ]
    }
   ],
   "source": [
    "# 단축평가\n",
    "print(3 and 5) \n",
    "print(3 and 0)\n",
    "print(0 and 5)\n",
    "print(0 and 0)"
   ]
  },
  {
   "cell_type": "raw",
   "id": "f6672dd9-484e-4e61-bb89-d510afbe9e73",
   "metadata": {},
   "source": []
  },
  {
   "cell_type": "code",
   "execution_count": 82,
   "id": "918b3a47-7ffc-4304-9c32-71c7c3ca0f77",
   "metadata": {},
   "outputs": [
    {
     "name": "stdout",
     "output_type": "stream",
     "text": [
      "3\n",
      "3\n",
      "5\n",
      "0\n"
     ]
    }
   ],
   "source": [
    "print(3 or 5)\n",
    "print(3 or 0)\n",
    "print(0 or 5)\n",
    "print(0 or 0)"
   ]
  },
  {
   "cell_type": "markdown",
   "id": "a1d31d96-ffce-4657-b22b-905869194442",
   "metadata": {},
   "source": [
    "## 2.4 복합 연산자"
   ]
  },
  {
   "cell_type": "code",
   "execution_count": 103,
   "id": "46636340-0c4b-4573-aa11-02143ecbd774",
   "metadata": {},
   "outputs": [],
   "source": [
    "a = 2\n",
    "b = 3"
   ]
  },
  {
   "cell_type": "code",
   "execution_count": 104,
   "id": "801c8f9b-41a5-4386-8311-63f3c8def7b4",
   "metadata": {},
   "outputs": [],
   "source": [
    "#a = a + b\n",
    "a = a - b\n",
    "#a = a * b\n",
    "#a = a / b"
   ]
  },
  {
   "cell_type": "code",
   "execution_count": 105,
   "id": "3a473b8c-7e9d-431d-9e7a-162bb762b57f",
   "metadata": {},
   "outputs": [
    {
     "data": {
      "text/plain": [
       "-1"
      ]
     },
     "execution_count": 105,
     "metadata": {},
     "output_type": "execute_result"
    }
   ],
   "source": [
    "a"
   ]
  },
  {
   "cell_type": "code",
   "execution_count": null,
   "id": "2980bb7e-c2a0-4f93-9f32-e540f9c24bff",
   "metadata": {},
   "outputs": [],
   "source": [
    "a += b\n",
    "a -= b\n",
    "a *= b\n",
    "a /= b\n",
    "a //= b\n",
    "a %= b\n",
    "a **= b\n"
   ]
  },
  {
   "cell_type": "markdown",
   "id": "c189f117-5fe0-4fef-bffe-5a32bf2459a1",
   "metadata": {},
   "source": [
    "## 2.5 기타연산자"
   ]
  },
  {
   "cell_type": "code",
   "execution_count": 106,
   "id": "bc51ba8d-512a-4ceb-bf44-9b213a9383b6",
   "metadata": {},
   "outputs": [],
   "source": [
    "a = 'hi'\n",
    "b = 'hello'"
   ]
  },
  {
   "cell_type": "code",
   "execution_count": 107,
   "id": "ebbe8c12-ae3e-4539-befb-4efa0a14b1cf",
   "metadata": {},
   "outputs": [
    {
     "name": "stdout",
     "output_type": "stream",
     "text": [
      "hihello\n"
     ]
    }
   ],
   "source": [
    "# concatenation >  합쳐, 글자와 글자만 , 숫자와 숫자만 가능\n",
    "print(a + b)\n"
   ]
  },
  {
   "cell_type": "code",
   "execution_count": 108,
   "id": "045f98da-86c1-4d9a-a842-5552ed2da61f",
   "metadata": {},
   "outputs": [],
   "source": [
    "a = [1,2,3]\n",
    "b = [2,3,4]"
   ]
  },
  {
   "cell_type": "code",
   "execution_count": 109,
   "id": "95dee461-287e-4a4b-9c1c-ddc103a90688",
   "metadata": {},
   "outputs": [
    {
     "name": "stdout",
     "output_type": "stream",
     "text": [
      "[1, 2, 3, 2, 3, 4]\n"
     ]
    }
   ],
   "source": [
    "print(a + b) #똑같이 cat작용"
   ]
  },
  {
   "cell_type": "code",
   "execution_count": 110,
   "id": "84ee7357-cdd0-4e0f-98c1-28b36fcb4deb",
   "metadata": {},
   "outputs": [
    {
     "name": "stdout",
     "output_type": "stream",
     "text": [
      "True\n"
     ]
    }
   ],
   "source": [
    "print(1 in a)"
   ]
  },
  {
   "cell_type": "code",
   "execution_count": 111,
   "id": "205f7524-a48b-4d6b-bd87-ac926d0ab57a",
   "metadata": {},
   "outputs": [
    {
     "name": "stdout",
     "output_type": "stream",
     "text": [
      "False\n"
     ]
    }
   ],
   "source": [
    "print(10 in a)"
   ]
  },
  {
   "cell_type": "code",
   "execution_count": 117,
   "id": "9fbdfd96-bb33-4804-8199-d30e9fd62423",
   "metadata": {},
   "outputs": [],
   "source": [
    "a = 257\n",
    "b = 257"
   ]
  },
  {
   "cell_type": "code",
   "execution_count": 118,
   "id": "03f601db-90c3-400b-a32a-7766ede008c8",
   "metadata": {},
   "outputs": [
    {
     "name": "stdout",
     "output_type": "stream",
     "text": [
      "True\n",
      "False\n"
     ]
    }
   ],
   "source": [
    "print(a == b)\n",
    "print(a is b)"
   ]
  },
  {
   "cell_type": "markdown",
   "id": "3543e057-9fd8-4b00-a825-b008af5daee6",
   "metadata": {},
   "source": [
    "- == > 값이 같은지 비교함 (data)\n",
    "- is > 객체가 같은지 비교함 (memory 값)"
   ]
  },
  {
   "cell_type": "markdown",
   "id": "3b4fd929-3468-455d-a6f5-cf874a0d3b7e",
   "metadata": {},
   "source": [
    "### 연산자 우선 순위\n",
    "\n",
    "0. ()를 통해서 그룹\n",
    "1. **\n",
    "2. 산술연산자(*,/)\n",
    "3. 산술연산자(+,-)\n",
    "4. 비교연산자(부등호) , in, is\n",
    "5. not\n",
    "6. and\n",
    "7. or\n",
    "8. "
   ]
  },
  {
   "cell_type": "markdown",
   "id": "790f307c-77bf-4ec0-86d4-8ef541a71c8c",
   "metadata": {},
   "source": [
    "# 0.3 형변환"
   ]
  },
  {
   "cell_type": "markdown",
   "id": "8f80e3fc-e093-4f5e-87f4-b1a8008c159a",
   "metadata": {},
   "source": [
    "- 숫자가 글자로\n",
    "- 글자가 숫자로 변화는 것,,,"
   ]
  },
  {
   "cell_type": "markdown",
   "id": "ebba0cd6-29fd-4336-8439-10e5cc8264d7",
   "metadata": {},
   "source": [
    "## 3.1 암시적 형변환 \n"
   ]
  },
  {
   "cell_type": "code",
   "execution_count": 120,
   "id": "84497cae-1b4e-4155-8c0e-dfab74af8a21",
   "metadata": {},
   "outputs": [],
   "source": [
    "a = True # 1\n",
    "b = False # 0\n",
    "c = 1 # True로 인식"
   ]
  },
  {
   "cell_type": "code",
   "execution_count": 122,
   "id": "67df2b15-ecb7-4614-8944-b677614b4d13",
   "metadata": {},
   "outputs": [
    {
     "name": "stdout",
     "output_type": "stream",
     "text": [
      "1\n",
      "2\n"
     ]
    }
   ],
   "source": [
    "print(a + b)\n",
    "print(a + c)"
   ]
  },
  {
   "cell_type": "markdown",
   "id": "71679d6a-b6ee-4ec7-a635-3fb44a0622f6",
   "metadata": {},
   "source": [
    "## 3.2 명시적 형변환\n",
    "- int()\n",
    "- float()\n",
    "- str()\n",
    "- bool()"
   ]
  },
  {
   "cell_type": "code",
   "execution_count": 123,
   "id": "cb0480ad-b6b6-4a5b-b2fd-f1905d3fa2dc",
   "metadata": {},
   "outputs": [],
   "source": [
    "a = 1\n",
    "b = '반'"
   ]
  },
  {
   "cell_type": "code",
   "execution_count": 124,
   "id": "24920060-0cbd-438a-b78d-92673c7b88b1",
   "metadata": {},
   "outputs": [
    {
     "ename": "TypeError",
     "evalue": "unsupported operand type(s) for +: 'int' and 'str'",
     "output_type": "error",
     "traceback": [
      "\u001b[0;31m---------------------------------------------------------------------------\u001b[0m",
      "\u001b[0;31mTypeError\u001b[0m                                 Traceback (most recent call last)",
      "Cell \u001b[0;32mIn[124], line 1\u001b[0m\n\u001b[0;32m----> 1\u001b[0m \u001b[38;5;28mprint\u001b[39m(\u001b[43ma\u001b[49m\u001b[43m \u001b[49m\u001b[38;5;241;43m+\u001b[39;49m\u001b[43m \u001b[49m\u001b[43mb\u001b[49m)\n",
      "\u001b[0;31mTypeError\u001b[0m: unsupported operand type(s) for +: 'int' and 'str'"
     ]
    }
   ],
   "source": [
    "print(a + b)"
   ]
  },
  {
   "cell_type": "code",
   "execution_count": 125,
   "id": "f8d774e2-74da-4b4f-bebe-b402521021f7",
   "metadata": {},
   "outputs": [
    {
     "name": "stdout",
     "output_type": "stream",
     "text": [
      "1반\n"
     ]
    }
   ],
   "source": [
    "print(str(a)+b)"
   ]
  },
  {
   "cell_type": "code",
   "execution_count": 128,
   "id": "12caa40f-6a1f-43d7-9b86-a889b8661146",
   "metadata": {},
   "outputs": [
    {
     "name": "stdout",
     "output_type": "stream",
     "text": [
      "3\n",
      "<class 'str'>\n",
      "3\n",
      "<class 'int'>\n"
     ]
    }
   ],
   "source": [
    "a = '3'\n",
    "print(a)\n",
    "print(type(a))\n",
    "\n",
    "b = int(a)\n",
    "print(b)\n",
    "print(type(b))"
   ]
  },
  {
   "cell_type": "code",
   "execution_count": 129,
   "id": "7829b2b2-0010-473e-8dc6-7acdaef881f2",
   "metadata": {},
   "outputs": [
    {
     "ename": "ValueError",
     "evalue": "invalid literal for int() with base 10: 'apple'",
     "output_type": "error",
     "traceback": [
      "\u001b[0;31m---------------------------------------------------------------------------\u001b[0m",
      "\u001b[0;31mValueError\u001b[0m                                Traceback (most recent call last)",
      "Cell \u001b[0;32mIn[129], line 2\u001b[0m\n\u001b[1;32m      1\u001b[0m c \u001b[38;5;241m=\u001b[39m \u001b[38;5;124m'\u001b[39m\u001b[38;5;124mapple\u001b[39m\u001b[38;5;124m'\u001b[39m\n\u001b[0;32m----> 2\u001b[0m d \u001b[38;5;241m=\u001b[39m \u001b[38;5;28;43mint\u001b[39;49m\u001b[43m(\u001b[49m\u001b[43mc\u001b[49m\u001b[43m)\u001b[49m\n",
      "\u001b[0;31mValueError\u001b[0m: invalid literal for int() with base 10: 'apple'"
     ]
    }
   ],
   "source": [
    "c = 'apple'\n",
    "d = int(c)"
   ]
  },
  {
   "cell_type": "code",
   "execution_count": 130,
   "id": "75ce7190-d7ab-4a05-b87c-c489f6080489",
   "metadata": {},
   "outputs": [
    {
     "name": "stdout",
     "output_type": "stream",
     "text": [
      "True\n",
      "False\n",
      "True\n"
     ]
    }
   ],
   "source": [
    "a = 1\n",
    "b = 0\n",
    "c = -123\n",
    "print(bool(a))\n",
    "print(bool(b))\n",
    "print(bool(c))"
   ]
  },
  {
   "cell_type": "markdown",
   "id": "51098200-fce8-4436-b1e6-d0f2ba1b4f47",
   "metadata": {},
   "source": [
    "- 0만이 False로 출력 된다."
   ]
  },
  {
   "cell_type": "code",
   "execution_count": 131,
   "id": "82740d70-edf8-4860-bccb-5170e21998fc",
   "metadata": {},
   "outputs": [
    {
     "name": "stdout",
     "output_type": "stream",
     "text": [
      "False\n",
      "True\n"
     ]
    }
   ],
   "source": [
    "print(bool([]))\n",
    "print(bool([1,2,3]))"
   ]
  },
  {
   "cell_type": "code",
   "execution_count": null,
   "id": "ce9d57e9-35ed-4c26-b945-a87f4f7704fa",
   "metadata": {},
   "outputs": [],
   "source": []
  }
 ],
 "metadata": {
  "kernelspec": {
   "display_name": "Python 3 (ipykernel)",
   "language": "python",
   "name": "python3"
  },
  "language_info": {
   "codemirror_mode": {
    "name": "ipython",
    "version": 3
   },
   "file_extension": ".py",
   "mimetype": "text/x-python",
   "name": "python",
   "nbconvert_exporter": "python",
   "pygments_lexer": "ipython3",
   "version": "3.13.2"
  }
 },
 "nbformat": 4,
 "nbformat_minor": 5
}
